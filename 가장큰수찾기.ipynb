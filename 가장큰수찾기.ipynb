{
  "nbformat": 4,
  "nbformat_minor": 0,
  "metadata": {
    "colab": {
      "provenance": [],
      "authorship_tag": "ABX9TyONWlnLdYSKIyq28KIHGMDG",
      "include_colab_link": true
    },
    "kernelspec": {
      "name": "python3",
      "display_name": "Python 3"
    },
    "language_info": {
      "name": "python"
    }
  },
  "cells": [
    {
      "cell_type": "markdown",
      "metadata": {
        "id": "view-in-github",
        "colab_type": "text"
      },
      "source": [
        "<a href=\"https://colab.research.google.com/github/dtype2100/Coding_test/blob/master/%EA%B0%80%EC%9E%A5%ED%81%B0%EC%88%98%EC%B0%BE%EA%B8%B0.ipynb\" target=\"_parent\"><img src=\"https://colab.research.google.com/assets/colab-badge.svg\" alt=\"Open In Colab\"/></a>"
      ]
    },
    {
      "cell_type": "markdown",
      "source": [
        "* [가장 큰 수 찾기](https://school.programmers.co.kr/learn/courses/30/lessons/120899)"
      ],
      "metadata": {
        "id": "-RkjADXLe1UF"
      }
    },
    {
      "cell_type": "code",
      "execution_count": null,
      "metadata": {
        "id": "Ok7OASOCexiv"
      },
      "outputs": [],
      "source": [
        "def solution(array):\n",
        "    largest = max(array)\n",
        "    index = array.index(largest)\n",
        "    return [largest, index]"
      ]
    },
    {
      "cell_type": "code",
      "source": [
        "# 다른 문제 풀이\n",
        "def solution(array):\n",
        "    largest = 0\n",
        "    idx = 0\n",
        "    for i, j in enumerate(array):\n",
        "        if j > largest:\n",
        "            largest = j\n",
        "            idx = i\n",
        "    return [largest, idx]"
      ],
      "metadata": {
        "id": "4PYRrtGTezdb"
      },
      "execution_count": null,
      "outputs": []
    }
  ]
}