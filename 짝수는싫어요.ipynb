{
  "nbformat": 4,
  "nbformat_minor": 0,
  "metadata": {
    "colab": {
      "provenance": [],
      "authorship_tag": "ABX9TyM5KTFF5xrcVwdP/1JKBt6e",
      "include_colab_link": true
    },
    "kernelspec": {
      "name": "python3",
      "display_name": "Python 3"
    },
    "language_info": {
      "name": "python"
    }
  },
  "cells": [
    {
      "cell_type": "markdown",
      "metadata": {
        "id": "view-in-github",
        "colab_type": "text"
      },
      "source": [
        "<a href=\"https://colab.research.google.com/github/dtype2100/Coding_test/blob/master/%EC%A7%9D%EC%88%98%EB%8A%94%EC%8B%AB%EC%96%B4%EC%9A%94.ipynb\" target=\"_parent\"><img src=\"https://colab.research.google.com/assets/colab-badge.svg\" alt=\"Open In Colab\"/></a>"
      ]
    },
    {
      "cell_type": "markdown",
      "source": [
        "* [짝수는 싫어요](https://school.programmers.co.kr/learn/courses/30/lessons/120813)"
      ],
      "metadata": {
        "id": "JRvCyNC89ozO"
      }
    },
    {
      "cell_type": "code",
      "execution_count": null,
      "metadata": {
        "id": "-FY_-W2H9lUo"
      },
      "outputs": [],
      "source": [
        "def solution(n):\n",
        "    answer = []\n",
        "    for i in range(0, n + 1):\n",
        "        if i % 2 == 1:\n",
        "            answer.append(i)\n",
        "\n",
        "    return answer"
      ]
    },
    {
      "cell_type": "code",
      "source": [
        "# 다른 문제 풀이\n",
        "def solution(n):\n",
        "    return [i for i in range(1, n+1, 2)]"
      ],
      "metadata": {
        "id": "TL75qUvV9mYQ"
      },
      "execution_count": null,
      "outputs": []
    }
  ]
}