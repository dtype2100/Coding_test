{
  "nbformat": 4,
  "nbformat_minor": 0,
  "metadata": {
    "colab": {
      "provenance": [],
      "authorship_tag": "ABX9TyNVB3db+3zxmxIhgu48cAxa",
      "include_colab_link": true
    },
    "kernelspec": {
      "name": "python3",
      "display_name": "Python 3"
    },
    "language_info": {
      "name": "python"
    }
  },
  "cells": [
    {
      "cell_type": "markdown",
      "metadata": {
        "id": "view-in-github",
        "colab_type": "text"
      },
      "source": [
        "<a href=\"https://colab.research.google.com/github/dtype2100/Coding_test/blob/master/%EB%91%90%EC%88%98%EC%9D%98%EB%82%98%EB%88%97%EC%85%88.ipynb\" target=\"_parent\"><img src=\"https://colab.research.google.com/assets/colab-badge.svg\" alt=\"Open In Colab\"/></a>"
      ]
    },
    {
      "cell_type": "markdown",
      "source": [
        "* [두 수의 나눗셈](https://school.programmers.co.kr/learn/courses/30/lessons/120806)"
      ],
      "metadata": {
        "id": "xXcnjSFSRx0j"
      }
    },
    {
      "cell_type": "code",
      "execution_count": null,
      "metadata": {
        "id": "0TM4anocRuQf"
      },
      "outputs": [],
      "source": [
        "def solution(num1, num2):\n",
        "    answer = 0\n",
        "    answer += (num1 / num2) * 1000\n",
        "    return int(answer)"
      ]
    },
    {
      "cell_type": "code",
      "source": [
        "def solution(num1, num2):\n",
        "  return int(num1 / num2 * 1000)"
      ],
      "metadata": {
        "id": "EWu0rhcFRv9D"
      },
      "execution_count": null,
      "outputs": []
    }
  ]
}