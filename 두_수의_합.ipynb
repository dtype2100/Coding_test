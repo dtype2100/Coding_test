{
  "nbformat": 4,
  "nbformat_minor": 0,
  "metadata": {
    "colab": {
      "provenance": [],
      "authorship_tag": "ABX9TyNBBSAFqt2CpgIqGc7SQgPe",
      "include_colab_link": true
    },
    "kernelspec": {
      "name": "python3",
      "display_name": "Python 3"
    },
    "language_info": {
      "name": "python"
    }
  },
  "cells": [
    {
      "cell_type": "markdown",
      "metadata": {
        "id": "view-in-github",
        "colab_type": "text"
      },
      "source": [
        "<a href=\"https://colab.research.google.com/github/dtype2100/Coding_test/blob/master/%EB%91%90_%EC%88%98%EC%9D%98_%ED%95%A9.ipynb\" target=\"_parent\"><img src=\"https://colab.research.google.com/assets/colab-badge.svg\" alt=\"Open In Colab\"/></a>"
      ]
    },
    {
      "cell_type": "markdown",
      "source": [
        "* [두 수의 합](https://school.programmers.co.kr/learn/courses/30/lessons/120802)"
      ],
      "metadata": {
        "id": "-mxntoOV3vbu"
      }
    },
    {
      "cell_type": "code",
      "execution_count": null,
      "metadata": {
        "id": "12MyfQ193sRH"
      },
      "outputs": [],
      "source": [
        "def solution(num1, num2):\n",
        "    return num1 + num2"
      ]
    }
  ]
}