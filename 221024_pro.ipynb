{
  "nbformat": 4,
  "nbformat_minor": 0,
  "metadata": {
    "colab": {
      "provenance": [],
      "authorship_tag": "ABX9TyPvzZQPMuf9ppPaEGL6Uepc",
      "include_colab_link": true
    },
    "kernelspec": {
      "name": "python3",
      "display_name": "Python 3"
    },
    "language_info": {
      "name": "python"
    }
  },
  "cells": [
    {
      "cell_type": "markdown",
      "metadata": {
        "id": "view-in-github",
        "colab_type": "text"
      },
      "source": [
        "<a href=\"https://colab.research.google.com/github/dtype2100/Coding_test/blob/master/221024_pro.ipynb\" target=\"_parent\"><img src=\"https://colab.research.google.com/assets/colab-badge.svg\" alt=\"Open In Colab\"/></a>"
      ]
    },
    {
      "cell_type": "markdown",
      "source": [
        "* [아이스 아메리카노](https://school.programmers.co.kr/learn/courses/30/lessons/120819)"
      ],
      "metadata": {
        "id": "22oJh4T_VMk4"
      }
    },
    {
      "cell_type": "code",
      "source": [
        "def solution(money):\n",
        "  answer = [0, 0]\n",
        "  answer[0] = money // 5500\n",
        "  answer[1] = money % 5500 \n",
        "  return answer"
      ],
      "metadata": {
        "id": "-gMaOS6CXJC_"
      },
      "execution_count": null,
      "outputs": []
    },
    {
      "cell_type": "code",
      "source": [
        "# 다른 문제 풀이\n",
        "def solution(money):\n",
        "  answer = [money//5500, money % 5500]\n",
        "  return answer"
      ],
      "metadata": {
        "id": "pq6Tu23bWbWR"
      },
      "execution_count": 23,
      "outputs": []
    },
    {
      "cell_type": "code",
      "source": [
        "# 다른 문제 풀이\n",
        "def soiution(money):\n",
        "  return divmod(money, 5500)"
      ],
      "metadata": {
        "id": "VEpZVAmoWPcv"
      },
      "execution_count": 19,
      "outputs": []
    },
    {
      "cell_type": "markdown",
      "source": [
        "* [배열 원소의 길이](https://school.programmers.co.kr/learn/courses/30/lessons/120854)"
      ],
      "metadata": {
        "id": "DQThebbsX74Y"
      }
    },
    {
      "cell_type": "code",
      "source": [
        "def solution(strlist):\n",
        "    answer = []\n",
        "    for i in strlist:\n",
        "        answer.append(len(i))\n",
        "    return answer"
      ],
      "metadata": {
        "id": "ItA2U4heVke_"
      },
      "execution_count": null,
      "outputs": []
    },
    {
      "cell_type": "code",
      "source": [
        "# 다른 문제 풀이\n",
        "def solution(strlist):\n",
        "  return [len(i) for i in strlist]"
      ],
      "metadata": {
        "id": "Xe2KqtkJYGlP"
      },
      "execution_count": 26,
      "outputs": []
    },
    {
      "cell_type": "markdown",
      "source": [
        "* [배열 뒤집기](https://school.programmers.co.kr/learn/courses/30/lessons/120821)"
      ],
      "metadata": {
        "id": "kjEf3po1ZDZ_"
      }
    },
    {
      "cell_type": "code",
      "source": [
        "def solution(num_list):\n",
        "    return num_list[::-1]"
      ],
      "metadata": {
        "id": "bKz0PRoAYTu3"
      },
      "execution_count": null,
      "outputs": []
    },
    {
      "cell_type": "markdown",
      "source": [
        "* [제곱수 판별하기](https://school.programmers.co.kr/learn/courses/30/lessons/120909)"
      ],
      "metadata": {
        "id": "Ulo6NX5kZNtW"
      }
    },
    {
      "cell_type": "code",
      "source": [
        "def solution(n):\n",
        "    sqrt = n ** (1/2)\n",
        "    if sqrt % 1 == 0:\n",
        "        return 1\n",
        "    return 2"
      ],
      "metadata": {
        "id": "Jt73wj2EY4oo"
      },
      "execution_count": null,
      "outputs": []
    }
  ]
}