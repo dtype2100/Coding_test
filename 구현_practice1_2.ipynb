{
  "nbformat": 4,
  "nbformat_minor": 0,
  "metadata": {
    "colab": {
      "provenance": [],
      "authorship_tag": "ABX9TyO8TNgGbmA2vUQFh7E/TLM2",
      "include_colab_link": true
    },
    "kernelspec": {
      "name": "python3",
      "display_name": "Python 3"
    },
    "language_info": {
      "name": "python"
    }
  },
  "cells": [
    {
      "cell_type": "markdown",
      "metadata": {
        "id": "view-in-github",
        "colab_type": "text"
      },
      "source": [
        "<a href=\"https://colab.research.google.com/github/dtype2100/Coding_test/blob/master/%EA%B5%AC%ED%98%84_practice1_2.ipynb\" target=\"_parent\"><img src=\"https://colab.research.google.com/assets/colab-badge.svg\" alt=\"Open In Colab\"/></a>"
      ]
    },
    {
      "cell_type": "code",
      "execution_count": null,
      "metadata": {
        "id": "REDZgGRdtBxl"
      },
      "outputs": [],
      "source": [
        "import random"
      ]
    },
    {
      "cell_type": "code",
      "source": [
        "name = ['진웅', '대선', '민재']\n",
        "random.sample(name, 3)"
      ],
      "metadata": {
        "colab": {
          "base_uri": "https://localhost:8080/"
        },
        "id": "jRghCWH6tCLC",
        "outputId": "877683ad-40de-4e8d-cf96-4f615fc710ca"
      },
      "execution_count": null,
      "outputs": [
        {
          "output_type": "execute_result",
          "data": {
            "text/plain": [
              "['민재', '대선', '진웅']"
            ]
          },
          "metadata": {},
          "execution_count": 42
        }
      ]
    },
    {
      "cell_type": "markdown",
      "source": [
        "1. 점수 N을 반으로 나누기\n",
        "2. 왼쪽의 합과 오른쪽의 합한 값이 동일한 상황\n",
        "3. 양쪽 값이 동일하다면, LUCKY\n",
        "4. 다르다면, READY\n",
        "\n",
        "* 입력1: 123402 / 출력1: LUCKY\n",
        "* 입력2: 7755 / 출력: READY"
      ],
      "metadata": {
        "id": "8JRC8FQKxTNf"
      }
    },
    {
      "cell_type": "code",
      "source": [
        "n = input()\n",
        "length = len(n) # 점수 값의 총 자릿수\n",
        "ㅣ_summary = 0\n",
        "summary = 0\n",
        "# 왼쪽 부분의 자릿수의 합 더하기\n",
        "for i in range(length // 2):\n",
        "    ㅣ_summary += int(n[i])\n",
        "\n",
        "# 오른쪽 부분의 자릿수의 합 빼기\n",
        "for i in range(length // 2, length):\n",
        "    summary -= int(n[i])\n",
        "\n",
        "# 왼쪽 부분과 오른쪽 부분의 자릿수 합이 동일한지 검사\n",
        "if summary == 0:\n",
        "    print(\"LUCKY\")\n",
        "else:\n",
        "    print(\"READY\")"
      ],
      "metadata": {
        "colab": {
          "base_uri": "https://localhost:8080/"
        },
        "id": "ESwgI68vM_zl",
        "outputId": "8df62282-be86-4eae-b7b8-2af09092588e"
      },
      "execution_count": null,
      "outputs": [
        {
          "output_type": "stream",
          "name": "stdout",
          "text": [
            "7755\n",
            "READY\n"
          ]
        }
      ]
    },
    {
      "cell_type": "code",
      "source": [
        "ㅣ_summary"
      ],
      "metadata": {
        "colab": {
          "base_uri": "https://localhost:8080/"
        },
        "id": "VlKvcWP2NE6T",
        "outputId": "6d51d3b5-0fc1-45c3-8f0a-7c300d2a0037"
      },
      "execution_count": null,
      "outputs": [
        {
          "output_type": "execute_result",
          "data": {
            "text/plain": [
              "14"
            ]
          },
          "metadata": {},
          "execution_count": 11
        }
      ]
    },
    {
      "cell_type": "code",
      "source": [
        "summary"
      ],
      "metadata": {
        "colab": {
          "base_uri": "https://localhost:8080/"
        },
        "id": "ZuB6HS2kNHay",
        "outputId": "c7ecbd2a-2114-4619-bb94-479f6ef7d5cf"
      },
      "execution_count": null,
      "outputs": [
        {
          "output_type": "execute_result",
          "data": {
            "text/plain": [
              "-10"
            ]
          },
          "metadata": {},
          "execution_count": 12
        }
      ]
    },
    {
      "cell_type": "code",
      "source": [
        "range(length // 2, length)"
      ],
      "metadata": {
        "colab": {
          "base_uri": "https://localhost:8080/"
        },
        "id": "w6bUBK4uNKMa",
        "outputId": "be669374-6c3a-404d-e7cd-a876dc2b24b9"
      },
      "execution_count": null,
      "outputs": [
        {
          "output_type": "execute_result",
          "data": {
            "text/plain": [
              "range(2, 4)"
            ]
          },
          "metadata": {},
          "execution_count": 13
        }
      ]
    },
    {
      "cell_type": "code",
      "source": [
        "n = input()\n",
        "length = len(n) # 점수 값의 총 자릿수\n",
        "summary = 0\n",
        "\n",
        "# 왼쪽 부분의 자릿수의 합 더하기\n",
        "for i in range(length // 2): # 14\n",
        "    summary += int(n[i])\n",
        "\n",
        "# 오른쪽 부분의 자릿수의 합 빼기 \n",
        "for i in range(length // 2, length): # 14 - 10 = 4\n",
        "    summary -= int(n[i]) # 왼쪽을 값을 더한 summary로 오른 쪽을 더함. summary를 빼서 같은면 \"LUCKY\" ,아니면 \"READY\"\n",
        "\n",
        "# 왼쪽 부분과 오른쪽 부분의 자릿수 합이 동일한지 검사\n",
        "if summary == 0:\n",
        "    print(\"LUCKY\")\n",
        "else:\n",
        "    print(\"READY\")"
      ],
      "metadata": {
        "colab": {
          "base_uri": "https://localhost:8080/"
        },
        "id": "BhvldFA5uniV",
        "outputId": "9e415cc5-44d0-463d-e613-c0a6f3ef3a05"
      },
      "execution_count": null,
      "outputs": [
        {
          "output_type": "stream",
          "name": "stdout",
          "text": [
            "123402\n",
            "LUCKY\n"
          ]
        }
      ]
    },
    {
      "cell_type": "code",
      "source": [
        "length // 2"
      ],
      "metadata": {
        "colab": {
          "base_uri": "https://localhost:8080/"
        },
        "id": "L14QwU2mMjwV",
        "outputId": "4d83617d-9f65-4c4d-cc15-71580a4d895a"
      },
      "execution_count": null,
      "outputs": [
        {
          "output_type": "execute_result",
          "data": {
            "text/plain": [
              "2"
            ]
          },
          "metadata": {},
          "execution_count": 8
        }
      ]
    },
    {
      "cell_type": "code",
      "source": [
        "length"
      ],
      "metadata": {
        "colab": {
          "base_uri": "https://localhost:8080/"
        },
        "id": "ckIj2RHYMiP9",
        "outputId": "99fbac0d-2b5c-468f-d902-4ac0c2c0c346"
      },
      "execution_count": null,
      "outputs": [
        {
          "output_type": "execute_result",
          "data": {
            "text/plain": [
              "4"
            ]
          },
          "metadata": {},
          "execution_count": 7
        }
      ]
    },
    {
      "cell_type": "code",
      "source": [
        "range(length // 2, length)"
      ],
      "metadata": {
        "colab": {
          "base_uri": "https://localhost:8080/"
        },
        "id": "f4SM80LGMoYl",
        "outputId": "0f85229d-bdb7-4e1c-c2d1-ff36328f78be"
      },
      "execution_count": null,
      "outputs": [
        {
          "output_type": "execute_result",
          "data": {
            "text/plain": [
              "range(2, 4)"
            ]
          },
          "metadata": {},
          "execution_count": 9
        }
      ]
    },
    {
      "cell_type": "code",
      "source": [
        "summary"
      ],
      "metadata": {
        "colab": {
          "base_uri": "https://localhost:8080/"
        },
        "id": "mK-PkamEMf51",
        "outputId": "18dff38b-2d1c-4eda-9dc0-7643c325ae56"
      },
      "execution_count": null,
      "outputs": [
        {
          "output_type": "execute_result",
          "data": {
            "text/plain": [
              "4"
            ]
          },
          "metadata": {},
          "execution_count": 6
        }
      ]
    },
    {
      "cell_type": "code",
      "source": [
        "n = input()\n",
        "length = len(n)\n",
        "summary = 0\n",
        "\n",
        "for i in range(length // 2):\n",
        "  summary += int(n[i])\n",
        "\n",
        "for i in range(length // 2, length):\n",
        "  summary -= int(n[i])\n",
        "\n",
        "if summary == 0:\n",
        "  print(\"LUCKY\")\n",
        "else:\n",
        "  print(\"READY\")"
      ],
      "metadata": {
        "colab": {
          "base_uri": "https://localhost:8080/"
        },
        "id": "kg1PbF7zw9U_",
        "outputId": "5f83180e-48ff-4492-8f0c-551766d01aac"
      },
      "execution_count": null,
      "outputs": [
        {
          "output_type": "stream",
          "name": "stdout",
          "text": [
            "123402\n",
            "LUCKY\n"
          ]
        }
      ]
    },
    {
      "cell_type": "code",
      "source": [
        "length // 2"
      ],
      "metadata": {
        "colab": {
          "base_uri": "https://localhost:8080/"
        },
        "id": "Cok6jyypu43l",
        "outputId": "1ea1a704-e259-4902-c49b-2ad2f2be514f"
      },
      "execution_count": null,
      "outputs": [
        {
          "output_type": "execute_result",
          "data": {
            "text/plain": [
              "3"
            ]
          },
          "metadata": {},
          "execution_count": 2
        }
      ]
    },
    {
      "cell_type": "code",
      "source": [
        "range(length // 2, length)"
      ],
      "metadata": {
        "colab": {
          "base_uri": "https://localhost:8080/"
        },
        "id": "JKo-TSHLv358",
        "outputId": "0a36e0a4-9b03-4131-93c8-8be490497096"
      },
      "execution_count": null,
      "outputs": [
        {
          "output_type": "execute_result",
          "data": {
            "text/plain": [
              "range(3, 6)"
            ]
          },
          "metadata": {},
          "execution_count": 3
        }
      ]
    },
    {
      "cell_type": "code",
      "source": [
        "summary"
      ],
      "metadata": {
        "colab": {
          "base_uri": "https://localhost:8080/"
        },
        "id": "jb_qNyIVL-6t",
        "outputId": "0968543c-52c5-4ca1-ca4b-ac1da3ebbf90"
      },
      "execution_count": null,
      "outputs": [
        {
          "output_type": "execute_result",
          "data": {
            "text/plain": [
              "0"
            ]
          },
          "metadata": {},
          "execution_count": 4
        }
      ]
    },
    {
      "cell_type": "markdown",
      "source": [
        "1. 대문자, 숫자(0~9)로만 구성된 문자열이 입력으로 주어짐\n",
        "2. 오름차순 정렬 후\n",
        "3. 모든 값을 더해서 출력\n",
        "\n",
        "* 입력: K1KA5CB7 / 출력: ABCKK13\n",
        "* 입력: AJKDLSI412K4JSJ9D / 출력: ADDIJJKKLSS20"
      ],
      "metadata": {
        "id": "7ljgfUbc1CEO"
      }
    },
    {
      "cell_type": "code",
      "source": [
        "data = input()\n",
        "result = []\n",
        "num = 0\n",
        "\n",
        "for i in data:\n",
        "  if i.isalpha():\n",
        "    result.append(i)\n",
        "  else:\n",
        "    num += int(i)\n",
        "\n",
        "result.sort()\n",
        "if result != 0:\n",
        "  result.append(str(num))\n",
        "\n",
        "print(''.join(result))\n"
      ],
      "metadata": {
        "colab": {
          "base_uri": "https://localhost:8080/"
        },
        "id": "4HBrJHMrd87o",
        "outputId": "2f9065ec-708a-4de8-f995-684ef7502cc3"
      },
      "execution_count": 13,
      "outputs": [
        {
          "output_type": "stream",
          "name": "stdout",
          "text": [
            "AJKDLSI412K4JSJ9D\n",
            "ADDIJJJKKLSS20\n"
          ]
        }
      ]
    },
    {
      "cell_type": "code",
      "source": [],
      "metadata": {
        "id": "jBknfu5Ee7FH"
      },
      "execution_count": null,
      "outputs": []
    }
  ]
}