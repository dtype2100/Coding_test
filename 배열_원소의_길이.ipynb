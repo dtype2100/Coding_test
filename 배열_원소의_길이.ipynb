{
  "nbformat": 4,
  "nbformat_minor": 0,
  "metadata": {
    "colab": {
      "provenance": [],
      "authorship_tag": "ABX9TyPj2JZ8Cs9+8Nxqb1iRi6Xq",
      "include_colab_link": true
    },
    "kernelspec": {
      "name": "python3",
      "display_name": "Python 3"
    },
    "language_info": {
      "name": "python"
    }
  },
  "cells": [
    {
      "cell_type": "markdown",
      "metadata": {
        "id": "view-in-github",
        "colab_type": "text"
      },
      "source": [
        "<a href=\"https://colab.research.google.com/github/dtype2100/Coding_test/blob/master/%EB%B0%B0%EC%97%B4_%EC%9B%90%EC%86%8C%EC%9D%98_%EA%B8%B8%EC%9D%B4.ipynb\" target=\"_parent\"><img src=\"https://colab.research.google.com/assets/colab-badge.svg\" alt=\"Open In Colab\"/></a>"
      ]
    },
    {
      "cell_type": "markdown",
      "source": [
        "* [배열 원소의 길이](https://school.programmers.co.kr/learn/courses/30/lessons/120854)"
      ],
      "metadata": {
        "id": "v2jgNso5rEGF"
      }
    },
    {
      "cell_type": "code",
      "execution_count": null,
      "metadata": {
        "id": "k-u4tM5urDuc"
      },
      "outputs": [],
      "source": [
        "def solution(strlist):\n",
        "    answer = []\n",
        "    for i in strlist:\n",
        "        answer.append(len(i))\n",
        "    return answer"
      ]
    },
    {
      "cell_type": "code",
      "source": [
        "# 다른 문제 풀이\n",
        "def solution(strlist):\n",
        "  return [len(i) for i in strlist]"
      ],
      "metadata": {
        "id": "7kYmwuW3rIHO"
      },
      "execution_count": null,
      "outputs": []
    }
  ]
}