{
  "nbformat": 4,
  "nbformat_minor": 0,
  "metadata": {
    "colab": {
      "provenance": [],
      "authorship_tag": "ABX9TyOGRwQAppOmzXXQdwbF5bz6",
      "include_colab_link": true
    },
    "kernelspec": {
      "name": "python3",
      "display_name": "Python 3"
    },
    "language_info": {
      "name": "python"
    }
  },
  "cells": [
    {
      "cell_type": "markdown",
      "metadata": {
        "id": "view-in-github",
        "colab_type": "text"
      },
      "source": [
        "<a href=\"https://colab.research.google.com/github/dtype2100/Coding_test/blob/master/%EA%B0%81%EB%8F%84%EA%B8%B0.ipynb\" target=\"_parent\"><img src=\"https://colab.research.google.com/assets/colab-badge.svg\" alt=\"Open In Colab\"/></a>"
      ]
    },
    {
      "cell_type": "markdown",
      "source": [
        "* [각도기](https://school.programmers.co.kr/learn/courses/30/lessons/120829)"
      ],
      "metadata": {
        "id": "LKurAixf0TuT"
      }
    },
    {
      "cell_type": "code",
      "execution_count": null,
      "metadata": {
        "id": "DmgX61i80QJb"
      },
      "outputs": [],
      "source": [
        "def solution(angle):\n",
        "    answer = 0\n",
        "    if 0 < angle < 90:\n",
        "        answer += 1\n",
        "    elif angle == 90:\n",
        "        answer += 2\n",
        "    elif 90 < angle < 180:\n",
        "        answer += 3\n",
        "    else:\n",
        "        answer += 4\n",
        "    return answer"
      ]
    },
    {
      "cell_type": "code",
      "source": [
        "# 다른 문제 풀이\n",
        "def solution(angle):\n",
        "    answer = (angle // 90) * 2 + (angle % 90 > 0) * 1\n",
        "    return answer"
      ],
      "metadata": {
        "id": "xrYvEgdT0SKS"
      },
      "execution_count": null,
      "outputs": []
    }
  ]
}