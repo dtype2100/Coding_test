{
  "nbformat": 4,
  "nbformat_minor": 0,
  "metadata": {
    "colab": {
      "provenance": [],
      "mount_file_id": "1FC7-lSti9mzqeWcHtQCKQ-Id065kHrrb",
      "authorship_tag": "ABX9TyMi6aiV1JyaJtSBjghckok7",
      "include_colab_link": true
    },
    "kernelspec": {
      "name": "python3",
      "display_name": "Python 3"
    },
    "language_info": {
      "name": "python"
    }
  },
  "cells": [
    {
      "cell_type": "markdown",
      "metadata": {
        "id": "view-in-github",
        "colab_type": "text"
      },
      "source": [
        "<a href=\"https://colab.research.google.com/github/dtype2100/Coding_test/blob/master/Baseline_imageAugmentation.ipynb\" target=\"_parent\"><img src=\"https://colab.research.google.com/assets/colab-badge.svg\" alt=\"Open In Colab\"/></a>"
      ]
    },
    {
      "cell_type": "markdown",
      "source": [
        "* [참고 1](https://diane-space.tistory.com/174)"
      ],
      "metadata": {
        "id": "XShJTm5V9-jD"
      }
    },
    {
      "cell_type": "code",
      "source": [
        "from google.colab import drive\n",
        "drive.mount('/content/drive')"
      ],
      "metadata": {
        "colab": {
          "base_uri": "https://localhost:8080/"
        },
        "id": "_LAqAu-pV6rR",
        "outputId": "d19c2e79-5bb7-44be-bf9b-859411615c0c"
      },
      "execution_count": null,
      "outputs": [
        {
          "output_type": "stream",
          "name": "stdout",
          "text": [
            "Mounted at /content/drive\n"
          ]
        }
      ]
    },
    {
      "cell_type": "code",
      "source": [
        "#from tensorflow.keras.utils import img_to_array\n",
        "import cv2\n",
        "import glob\n",
        "import time\n",
        "import numpy as np\n",
        "from tqdm import tqdm\n",
        "from google.colab.patches import cv2_imshow\n",
        "from keras.preprocessing.image import ImageDataGenerator\n",
        "from keras_preprocessing.image import array_to_img, img_to_array, load_img"
      ],
      "metadata": {
        "id": "2rdEmKPnxl-7"
      },
      "execution_count": null,
      "outputs": []
    },
    {
      "cell_type": "code",
      "execution_count": null,
      "metadata": {
        "id": "0dU8tjMtw5IE"
      },
      "outputs": [],
      "source": [
        "# 이미지 증식 \n",
        "augGen=ImageDataGenerator(rescale=1./255,\n",
        "                  rotation_range=15, # 이미지 회전\n",
        "                  # width_shift_range=0.1, # 이미지 좌우로 움직이기\n",
        "                  # height_shift_range=0.1, # 상하 이동\n",
        "                  # shear_range=0.5, # 변형, (0.5)(반시계 방향 )\n",
        "                  zoom_range= [0.8,2.0], # 확대,축소 0.3(0.7~1.3 사이의 크기로 랜덤하게... )\n",
        "                  # horizontal_flip=True, # 수평 방향 뒤집기\n",
        "                  # vertical_flip=True, # 수직방향 뒤집기\n",
        "                  fill_mode='nearest') #빈값 채우기"
      ]
    },
    {
      "cell_type": "code",
      "source": [
        "img_path = glob.glob('/content/drive/MyDrive/Test_image/test_invoice/*png')"
      ],
      "metadata": {
        "id": "UmlDImbnyw2q"
      },
      "execution_count": null,
      "outputs": []
    },
    {
      "cell_type": "code",
      "source": [
        "len(img_path)"
      ],
      "metadata": {
        "colab": {
          "base_uri": "https://localhost:8080/"
        },
        "id": "R01TuWcdFY-h",
        "outputId": "d26e35d4-36f3-45b2-c21b-76b998d3c88f"
      },
      "execution_count": null,
      "outputs": [
        {
          "output_type": "execute_result",
          "data": {
            "text/plain": [
              "1000"
            ]
          },
          "metadata": {},
          "execution_count": 5
        }
      ]
    },
    {
      "cell_type": "code",
      "source": [
        "for path in img_path:\n",
        "  image = cv2.imread(path)\n",
        "  imgtoArr = img_to_array(image) # image to array\n",
        "  imgReshape = imgtoArr.reshape((1,)+imgtoArr.shape) # img를 4차원으로 reshape\n",
        "  n = 0\n",
        "  gene_path = '/content/drive/MyDrive/Colab Notebooks/image_annotation/testtest1'\n",
        "  end = 0\n",
        "  \n",
        "  for batch in tqdm(augGen.flow(imgReshape, batch_size=1, save_to_dir=gene_path, save_prefix=\"invoice\", save_format='png')):\n",
        "    n += 1\n",
        "    if n == 3:\n",
        "      break\n"
      ],
      "metadata": {
        "id": "W1x7fWv-8E88",
        "colab": {
          "base_uri": "https://localhost:8080/"
        },
        "outputId": "7baca2ea-3494-4b6e-8262-3a0c4860e2bd"
      },
      "execution_count": null,
      "outputs": [
        {
          "output_type": "stream",
          "name": "stderr",
          "text": [
            "2it [00:00,  4.83it/s]\n",
            "2it [00:00,  4.52it/s]\n",
            "2it [00:00,  5.21it/s]\n",
            "2it [00:00,  4.63it/s]\n",
            "2it [00:00,  4.94it/s]\n",
            "2it [00:00,  4.75it/s]\n",
            "2it [00:00,  4.73it/s]\n",
            "2it [00:00,  5.00it/s]\n",
            "2it [00:00,  4.89it/s]\n",
            "2it [00:00,  4.85it/s]\n",
            "2it [00:00,  4.47it/s]\n",
            "2it [00:00,  4.89it/s]\n",
            "2it [00:00,  5.17it/s]\n",
            "2it [00:00,  4.75it/s]\n",
            "2it [00:00,  4.93it/s]\n",
            "2it [00:00,  4.78it/s]\n",
            "2it [00:00,  5.34it/s]\n",
            "2it [00:00,  4.92it/s]\n",
            "2it [00:00,  5.46it/s]\n",
            "2it [00:00,  5.10it/s]\n",
            "2it [00:00,  4.69it/s]\n",
            "2it [00:00,  5.29it/s]\n",
            "2it [00:00,  5.05it/s]\n",
            "2it [00:00,  4.32it/s]\n",
            "2it [00:00,  4.78it/s]\n",
            "2it [00:00,  4.45it/s]\n",
            "2it [00:00,  4.85it/s]\n",
            "2it [00:00,  4.82it/s]\n",
            "2it [00:00,  4.90it/s]\n",
            "2it [00:00,  5.15it/s]\n",
            "2it [00:00,  4.80it/s]\n",
            "2it [00:00,  3.82it/s]\n",
            "2it [00:00,  4.94it/s]\n",
            "2it [00:00,  4.65it/s]\n",
            "2it [00:00,  4.34it/s]\n",
            "2it [00:00,  4.11it/s]\n",
            "2it [00:00,  3.98it/s]\n",
            "2it [00:00,  3.90it/s]\n",
            "2it [00:00,  4.28it/s]\n",
            "2it [00:00,  4.53it/s]\n",
            "2it [00:00,  4.05it/s]\n",
            "2it [00:00,  4.28it/s]\n",
            "2it [00:00,  4.96it/s]\n",
            "2it [00:00,  4.56it/s]\n",
            "2it [00:00,  3.98it/s]\n",
            "2it [00:00,  4.51it/s]\n",
            "2it [00:00,  4.92it/s]\n",
            "2it [00:00,  4.49it/s]\n",
            "2it [00:00,  3.99it/s]\n",
            "2it [00:00,  3.75it/s]\n",
            "2it [00:00,  3.44it/s]\n",
            "2it [00:00,  4.55it/s]\n",
            "2it [00:00,  3.84it/s]\n",
            "2it [00:00,  5.50it/s]\n",
            "2it [00:00,  4.21it/s]\n",
            "2it [00:00,  4.28it/s]\n",
            "2it [00:00,  4.49it/s]\n",
            "2it [00:00,  4.97it/s]\n",
            "2it [00:00,  4.83it/s]\n",
            "2it [00:00,  4.92it/s]\n",
            "2it [00:00,  5.10it/s]\n",
            "2it [00:00,  4.93it/s]\n",
            "2it [00:00,  4.55it/s]\n",
            "2it [00:00,  4.93it/s]\n",
            "2it [00:00,  4.99it/s]\n",
            "2it [00:00,  5.00it/s]\n",
            "2it [00:00,  4.76it/s]\n",
            "2it [00:00,  5.74it/s]\n",
            "2it [00:00,  4.94it/s]\n",
            "2it [00:00,  4.62it/s]\n",
            "2it [00:00,  4.90it/s]\n",
            "2it [00:00,  4.57it/s]\n",
            "2it [00:00,  4.99it/s]\n",
            "2it [00:00,  4.77it/s]\n",
            "2it [00:00,  4.03it/s]\n",
            "2it [00:00,  4.50it/s]\n",
            "2it [00:00,  4.86it/s]\n",
            "2it [00:00,  4.72it/s]\n",
            "2it [00:00,  5.08it/s]\n",
            "2it [00:00,  4.56it/s]\n",
            "2it [00:00,  4.95it/s]\n",
            "2it [00:00,  4.86it/s]\n",
            "2it [00:00,  4.75it/s]\n",
            "2it [00:00,  4.60it/s]\n",
            "2it [00:00,  4.69it/s]\n",
            "2it [00:00,  4.99it/s]\n",
            "2it [00:00,  5.12it/s]\n",
            "2it [00:00,  5.02it/s]\n",
            "2it [00:00,  4.56it/s]\n",
            "2it [00:00,  5.07it/s]\n",
            "2it [00:00,  4.79it/s]\n",
            "2it [00:00,  4.90it/s]\n",
            "2it [00:00,  4.97it/s]\n",
            "2it [00:00,  5.25it/s]\n",
            "2it [00:00,  5.20it/s]\n",
            "2it [00:00,  5.17it/s]\n",
            "2it [00:00,  4.47it/s]\n",
            "2it [00:00,  4.72it/s]\n",
            "2it [00:00,  4.80it/s]\n",
            "2it [00:00,  4.56it/s]\n",
            "2it [00:00,  5.08it/s]\n",
            "2it [00:00,  4.52it/s]\n",
            "2it [00:00,  4.62it/s]\n",
            "2it [00:00,  5.01it/s]\n",
            "2it [00:00,  4.61it/s]\n",
            "2it [00:00,  5.16it/s]\n",
            "2it [00:00,  4.89it/s]\n",
            "2it [00:00,  4.53it/s]\n",
            "2it [00:00,  4.72it/s]\n",
            "2it [00:00,  5.06it/s]\n",
            "2it [00:00,  5.20it/s]\n",
            "2it [00:00,  4.91it/s]\n",
            "2it [00:00,  5.01it/s]\n",
            "2it [00:00,  4.59it/s]\n",
            "2it [00:00,  5.31it/s]\n",
            "2it [00:00,  4.65it/s]\n",
            "2it [00:00,  4.84it/s]\n",
            "2it [00:00,  4.91it/s]\n",
            "2it [00:00,  4.93it/s]\n",
            "2it [00:00,  4.12it/s]\n",
            "2it [00:00,  4.87it/s]\n",
            "2it [00:00,  5.27it/s]\n",
            "2it [00:00,  4.62it/s]\n",
            "2it [00:00,  5.14it/s]\n",
            "2it [00:00,  5.20it/s]\n",
            "2it [00:00,  4.87it/s]\n",
            "2it [00:00,  4.75it/s]\n",
            "2it [00:00,  5.29it/s]\n",
            "2it [00:00,  5.27it/s]\n",
            "2it [00:00,  4.60it/s]\n",
            "2it [00:00,  4.39it/s]\n",
            "2it [00:00,  3.47it/s]\n",
            "2it [00:00,  3.39it/s]\n",
            "2it [00:00,  2.65it/s]\n",
            "2it [00:00,  3.48it/s]\n",
            "2it [00:00,  3.14it/s]\n",
            "2it [00:00,  3.19it/s]\n",
            "2it [00:00,  3.57it/s]\n",
            "2it [00:00,  3.81it/s]\n",
            "2it [00:00,  4.35it/s]\n",
            "2it [00:00,  5.12it/s]\n",
            "2it [00:00,  4.43it/s]\n",
            "2it [00:00,  4.56it/s]\n",
            "2it [00:00,  4.91it/s]\n",
            "2it [00:00,  5.18it/s]\n",
            "2it [00:00,  4.30it/s]\n",
            "2it [00:00,  5.15it/s]\n",
            "2it [00:00,  4.84it/s]\n",
            "2it [00:00,  4.99it/s]\n",
            "2it [00:00,  4.59it/s]\n",
            "2it [00:00,  4.61it/s]\n",
            "2it [00:00,  5.00it/s]\n",
            "  0%|          | 0/1 [00:00<?, ?it/s]"
          ]
        }
      ]
    },
    {
      "cell_type": "code",
      "source": [],
      "metadata": {
        "id": "q8Xs14eCPtA4"
      },
      "execution_count": null,
      "outputs": []
    }
  ]
}