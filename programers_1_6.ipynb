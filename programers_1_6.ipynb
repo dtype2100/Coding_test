{
  "nbformat": 4,
  "nbformat_minor": 0,
  "metadata": {
    "colab": {
      "provenance": [],
      "authorship_tag": "ABX9TyPrT3wdliOf3OYa/ZSRxM/c",
      "include_colab_link": true
    },
    "kernelspec": {
      "name": "python3",
      "display_name": "Python 3"
    },
    "language_info": {
      "name": "python"
    }
  },
  "cells": [
    {
      "cell_type": "markdown",
      "metadata": {
        "id": "view-in-github",
        "colab_type": "text"
      },
      "source": [
        "<a href=\"https://colab.research.google.com/github/dtype2100/Coding_test/blob/master/programers_1_6.ipynb\" target=\"_parent\"><img src=\"https://colab.research.google.com/assets/colab-badge.svg\" alt=\"Open In Colab\"/></a>"
      ]
    },
    {
      "cell_type": "markdown",
      "source": [
        "1. [두 수의 곱](https://school.programmers.co.kr/learn/courses/30/lessons/120804)"
      ],
      "metadata": {
        "id": "20eoaPnVXuFb"
      }
    },
    {
      "cell_type": "code",
      "execution_count": null,
      "metadata": {
        "id": "SvPYm-moXrwe"
      },
      "outputs": [],
      "source": [
        "def solution(num1, num2):\n",
        "    answer = num1 * num2 \n",
        "    return answer"
      ]
    },
    {
      "cell_type": "code",
      "source": [
        "def solution(num1, num2):\n",
        "    return num1 * num2 "
      ],
      "metadata": {
        "id": "FVO_3xkQXzsF"
      },
      "execution_count": null,
      "outputs": []
    },
    {
      "cell_type": "markdown",
      "source": [
        "2. [두 수의 차](https://school.programmers.co.kr/learn/courses/30/lessons/120803)"
      ],
      "metadata": {
        "id": "TLImPFG1YO9T"
      }
    },
    {
      "cell_type": "code",
      "source": [
        "def solution(num1, num2):\n",
        "    return num1 - num2"
      ],
      "metadata": {
        "id": "j5aa0LWwXzla"
      },
      "execution_count": null,
      "outputs": []
    },
    {
      "cell_type": "markdown",
      "source": [
        "3. [나머지 구하기](https://school.programmers.co.kr/learn/courses/30/lessons/120810)"
      ],
      "metadata": {
        "id": "a850nL4AZmpb"
      }
    },
    {
      "cell_type": "code",
      "source": [
        "def solution(num1, num2):\n",
        "    return num1 % num2"
      ],
      "metadata": {
        "id": "qBLjDU4SZkxa"
      },
      "execution_count": null,
      "outputs": []
    },
    {
      "cell_type": "markdown",
      "source": [
        "4. [몫 구하기](https://school.programmers.co.kr/learn/courses/30/lessons/120805)"
      ],
      "metadata": {
        "id": "7A9yhVqIaDcy"
      }
    },
    {
      "cell_type": "code",
      "source": [
        "def solution(num1, num2):\n",
        "    return num1 // num2"
      ],
      "metadata": {
        "id": "RoUtlGQwZkuq"
      },
      "execution_count": null,
      "outputs": []
    },
    {
      "cell_type": "markdown",
      "source": [
        "5. [숫자 비교하기](https://school.programmers.co.kr/learn/courses/30/lessons/120807)"
      ],
      "metadata": {
        "id": "m9sQ-u6TZTvK"
      }
    },
    {
      "cell_type": "code",
      "source": [
        "def solution(num1, num2):\n",
        "    ans = 0\n",
        "    if num1 == num2:\n",
        "        ans += 1\n",
        "    else:\n",
        "        ans -= 1\n",
        "    return ans"
      ],
      "metadata": {
        "id": "ZNSl5myhYToK"
      },
      "execution_count": null,
      "outputs": []
    },
    {
      "cell_type": "markdown",
      "source": [
        "6. [두 수의 합](https://school.programmers.co.kr/learn/courses/30/lessons/120802)"
      ],
      "metadata": {
        "id": "VxV5VIwbaYpr"
      }
    },
    {
      "cell_type": "code",
      "source": [
        "def solution(num1, num2):\n",
        "    return num1 + num2"
      ],
      "metadata": {
        "id": "Jq5JRMunZXni"
      },
      "execution_count": null,
      "outputs": []
    }
  ]
}