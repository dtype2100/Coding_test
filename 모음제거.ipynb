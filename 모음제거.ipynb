{
  "nbformat": 4,
  "nbformat_minor": 0,
  "metadata": {
    "colab": {
      "provenance": [],
      "authorship_tag": "ABX9TyPu0lI6VaWqcTSQHV94cmL2",
      "include_colab_link": true
    },
    "kernelspec": {
      "name": "python3",
      "display_name": "Python 3"
    },
    "language_info": {
      "name": "python"
    }
  },
  "cells": [
    {
      "cell_type": "markdown",
      "metadata": {
        "id": "view-in-github",
        "colab_type": "text"
      },
      "source": [
        "<a href=\"https://colab.research.google.com/github/dtype2100/Coding_test/blob/master/%EB%AA%A8%EC%9D%8C%EC%A0%9C%EA%B1%B0.ipynb\" target=\"_parent\"><img src=\"https://colab.research.google.com/assets/colab-badge.svg\" alt=\"Open In Colab\"/></a>"
      ]
    },
    {
      "cell_type": "markdown",
      "source": [
        "* [모음 제거](https://school.programmers.co.kr/learn/courses/30/lessons/120849)"
      ],
      "metadata": {
        "id": "CoaJrWhugQTl"
      }
    },
    {
      "cell_type": "code",
      "execution_count": null,
      "metadata": {
        "id": "9wRSNTpqfoBP"
      },
      "outputs": [],
      "source": [
        "def solution(my_string):\n",
        "    answer = ''\n",
        "    lis = ['a', 'e', 'i', 'o', 'u' ]\n",
        "    for i in my_string:\n",
        "        if i not in lis:\n",
        "            answer += i\n",
        "    return answer"
      ]
    },
    {
      "cell_type": "code",
      "source": [
        "# 다른 문제 풀이\n",
        "import re\n",
        "def solution(my_string):\n",
        "    return re.sub('[aeiou]', '', my_string)"
      ],
      "metadata": {
        "id": "JeGaNd3yf6xc"
      },
      "execution_count": null,
      "outputs": []
    }
  ]
}