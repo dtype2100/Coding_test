{
  "nbformat": 4,
  "nbformat_minor": 0,
  "metadata": {
    "colab": {
      "provenance": [],
      "authorship_tag": "ABX9TyPIfmqddjEvKwhCuT7D22K5",
      "include_colab_link": true
    },
    "kernelspec": {
      "name": "python3",
      "display_name": "Python 3"
    },
    "language_info": {
      "name": "python"
    }
  },
  "cells": [
    {
      "cell_type": "markdown",
      "metadata": {
        "id": "view-in-github",
        "colab_type": "text"
      },
      "source": [
        "<a href=\"https://colab.research.google.com/github/dtype2100/Coding_test/blob/master/221021_pro.ipynb\" target=\"_parent\"><img src=\"https://colab.research.google.com/assets/colab-badge.svg\" alt=\"Open In Colab\"/></a>"
      ]
    },
    {
      "cell_type": "markdown",
      "source": [
        "* [각도기](https://school.programmers.co.kr/learn/courses/30/lessons/120829)"
      ],
      "metadata": {
        "id": "KaWPioUVNu22"
      }
    },
    {
      "cell_type": "code",
      "source": [
        "def solution(angle):\n",
        "    answer = 0\n",
        "    if 0 < angle < 90:\n",
        "        answer += 1\n",
        "    elif angle == 90:\n",
        "        answer += 2\n",
        "    elif 90 < angle < 180:\n",
        "        answer += 3\n",
        "    else:\n",
        "        answer += 4\n",
        "    return answer"
      ],
      "metadata": {
        "id": "3GlbwUagNcME"
      },
      "execution_count": null,
      "outputs": []
    },
    {
      "cell_type": "code",
      "execution_count": 1,
      "metadata": {
        "id": "xm3c-PmbNZK7"
      },
      "outputs": [],
      "source": [
        "# 다른 문제 풀이\n",
        "def solution(angle):\n",
        "    answer = (angle // 90) * 2 + (angle % 90 > 0) * 1\n",
        "    return answer"
      ]
    },
    {
      "cell_type": "markdown",
      "source": [
        "* [배열의 평균값](https://school.programmers.co.kr/learn/courses/30/lessons/120817)"
      ],
      "metadata": {
        "id": "4RCFThBrSZgt"
      }
    },
    {
      "cell_type": "code",
      "source": [
        "def solution(numbers):\n",
        "    num = sum(numbers)\n",
        "    return num / len(numbers)"
      ],
      "metadata": {
        "id": "xSh5uDIpSTAE"
      },
      "execution_count": null,
      "outputs": []
    },
    {
      "cell_type": "markdown",
      "source": [
        "* [두 수의 나눗셈](https://school.programmers.co.kr/learn/courses/30/lessons/120806)"
      ],
      "metadata": {
        "id": "nlKVafEDTW-t"
      }
    },
    {
      "cell_type": "code",
      "source": [
        "def solution(num1, num2):\n",
        "    answer = 0\n",
        "    answer += (num1 / num2) * 1000\n",
        "    return int(answer)"
      ],
      "metadata": {
        "id": "PV-s9K_sTWFm"
      },
      "execution_count": 15,
      "outputs": []
    },
    {
      "cell_type": "code",
      "source": [
        "def solution(num1, num2):\n",
        "  return int(num1 / num2 * 1000)"
      ],
      "metadata": {
        "id": "GJuheI9rTpd9"
      },
      "execution_count": 19,
      "outputs": []
    },
    {
      "cell_type": "markdown",
      "source": [
        "* [짝수의 합](https://school.programmers.co.kr/learn/courses/30/lessons/120831)"
      ],
      "metadata": {
        "id": "wr3df71kVypt"
      }
    },
    {
      "cell_type": "code",
      "source": [
        "def solution(n):\n",
        "    answer = 0\n",
        "    for i in range(n + 1):\n",
        "        if i % 2 == 0:\n",
        "          answer += i\n",
        "    return answer"
      ],
      "metadata": {
        "id": "Jg7kQ75VTeJF"
      },
      "execution_count": 37,
      "outputs": []
    },
    {
      "cell_type": "code",
      "source": [
        "def solution(n):\n",
        "  return sum(i for i in range(n + 1) if i % 2 == 0)"
      ],
      "metadata": {
        "id": "UeEmyZOLWXtV"
      },
      "execution_count": 43,
      "outputs": []
    },
    {
      "cell_type": "code",
      "source": [
        "def solution(array, n):\n",
        "    answer = []\n",
        "    for i in array:\n",
        "        i == n\n",
        "        answer.append(str(i))\n",
        "    return len(answer)"
      ],
      "metadata": {
        "id": "LCYn_ksHWmec"
      },
      "execution_count": 49,
      "outputs": []
    },
    {
      "cell_type": "markdown",
      "source": [
        "* [중복된 숫자 개수](https://school.programmers.co.kr/learn/courses/30/lessons/120583)"
      ],
      "metadata": {
        "id": "39SClt9qaT72"
      }
    },
    {
      "cell_type": "code",
      "source": [
        "def solution(array, n):\n",
        "    answer = []\n",
        "    for i in array:\n",
        "        if i == n:\n",
        "            answer.append(i)\n",
        "    return len(answer)"
      ],
      "metadata": {
        "id": "6HIN2gHxZR0N"
      },
      "execution_count": 68,
      "outputs": []
    },
    {
      "cell_type": "code",
      "source": [
        "# 다른 문제 풀이\n",
        "def solution(array, n):\n",
        "  return array.count(n)"
      ],
      "metadata": {
        "id": "g1K-H3XwZqgN"
      },
      "execution_count": 70,
      "outputs": []
    },
    {
      "cell_type": "markdown",
      "source": [
        "* [양꼬치](https://school.programmers.co.kr/learn/courses/30/lessons/120830)"
      ],
      "metadata": {
        "id": "22anjNWUorqt"
      }
    },
    {
      "cell_type": "code",
      "source": [
        "def solution(n, k):\n",
        "    return (n * 12000) + (k * 2000) - (n // 10 * 2000)"
      ],
      "metadata": {
        "id": "_vsGc0PYnTsN"
      },
      "execution_count": null,
      "outputs": []
    },
    {
      "cell_type": "code",
      "source": [
        "# 다른 문제 풀이\n",
        "def solution(n, k):\n",
        "    return 12000 * n + 2000 * (k - n // 10)"
      ],
      "metadata": {
        "id": "_hJLFqfWpOwG"
      },
      "execution_count": 77,
      "outputs": []
    },
    {
      "cell_type": "markdown",
      "source": [
        "* [머쓱이보다 키 큰 사람](https://school.programmers.co.kr/learn/courses/30/lessons/120585)"
      ],
      "metadata": {
        "id": "RUSQsZQjrhC-"
      }
    },
    {
      "cell_type": "code",
      "source": [
        "def solution(array, height):\n",
        "    answer = []\n",
        "    for i in array:\n",
        "        if i > height:\n",
        "            answer.append(i)\n",
        "    return len(answer)"
      ],
      "metadata": {
        "id": "8ZcZN5auqmC1"
      },
      "execution_count": 90,
      "outputs": []
    },
    {
      "cell_type": "code",
      "source": [
        "# 다른 문제 풀이\n",
        "def solution(array, height):\n",
        "    answer = 0\n",
        "    for i in array :\n",
        "        if height < i :\n",
        "            answer += 1\n",
        "    return answer"
      ],
      "metadata": {
        "id": "gd5vguBLrUnV"
      },
      "execution_count": null,
      "outputs": []
    }
  ]
}