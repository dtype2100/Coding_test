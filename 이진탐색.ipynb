{
  "nbformat": 4,
  "nbformat_minor": 0,
  "metadata": {
    "colab": {
      "provenance": [],
      "authorship_tag": "ABX9TyMAf2Q+cewvQxr8+HEjk9Yi",
      "include_colab_link": true
    },
    "kernelspec": {
      "name": "python3",
      "display_name": "Python 3"
    },
    "language_info": {
      "name": "python"
    }
  },
  "cells": [
    {
      "cell_type": "markdown",
      "metadata": {
        "id": "view-in-github",
        "colab_type": "text"
      },
      "source": [
        "<a href=\"https://colab.research.google.com/github/dtype2100/Coding_test/blob/master/%EC%9D%B4%EC%A7%84%ED%83%90%EC%83%89.ipynb\" target=\"_parent\"><img src=\"https://colab.research.google.com/assets/colab-badge.svg\" alt=\"Open In Colab\"/></a>"
      ]
    },
    {
      "cell_type": "markdown",
      "source": [
        "# 스터디\n",
        "* 교재: 이것이 코딩테스트다\n",
        "* practice"
      ],
      "metadata": {
        "id": "oQ09xjCvOzWj"
      }
    },
    {
      "cell_type": "markdown",
      "source": [
        "# 정렬된 배열에서 특정 수의 개수 구하기"
      ],
      "metadata": {
        "id": "CQvrP2i1Cvnf"
      }
    },
    {
      "cell_type": "code",
      "source": [
        "def binary_search(element, some_list):\n",
        "  start = 1\n",
        "  end = len(some_list) \n",
        "  while start <= end:\n",
        "    mid = (start + end) // 2\n",
        "    if some_list[mid] == element:\n",
        "      return mid\n",
        "    elif some_list[mid] > element:\n",
        "      end = mid - 1\n",
        "    else:\n",
        "      start = mid + 1\n",
        "  return None\n",
        "\n",
        "n, x = map(int, input().split())\n",
        "array = list(map(int, input().split()))\n",
        "\n",
        "print(binary_search(x, array))"
      ],
      "metadata": {
        "colab": {
          "base_uri": "https://localhost:8080/"
        },
        "id": "0AIS-XWd_dmZ",
        "outputId": "74beee1e-0df5-4760-e6f5-bfa8d84fa334"
      },
      "execution_count": null,
      "outputs": [
        {
          "output_type": "stream",
          "name": "stdout",
          "text": [
            "7 2 \n",
            "1 1 2 2 2 2 3\n",
            "4\n"
          ]
        }
      ]
    },
    {
      "cell_type": "markdown",
      "source": [
        "* [bisect 개념 참고](https://velog.io/@woo0_hooo/python-Bisect-%ED%95%A8%EC%88%98%EB%9E%80)"
      ],
      "metadata": {
        "id": "yaV4YgjkRtPC"
      }
    },
    {
      "cell_type": "code",
      "source": [
        "from bisect import bisect_left, bisect_right\n",
        "\n",
        "# 값이 [left_value, right_value]인 데이터의 개수를 반환하는 함수\n",
        "def count_by_range(array, left_value, right_value):\n",
        "    right_index = bisect_right(array, right_value)\n",
        "    left_index = bisect_left(array, left_value)\n",
        "    return right_index - left_index\n",
        "\n",
        "n, x = map(int, input().split()) # 데이터의 개수 N, 찾고자 하는 값 x 입력 받기\n",
        "array = list(map(int, input().split())) # 전체 데이터 입력 받기\n",
        "\n",
        "# 값이 [x, x] 범위에 있는 데이터의 개수 계산\n",
        "count = count_by_range(array, x, x)\n",
        "\n",
        "# 값이 x인 원소가 존재하지 않는다면\n",
        "if count == 0:\n",
        "    print(-1)\n",
        "# 값이 x인 원소가 존재한다면\n",
        "else:\n",
        "    print(count)"
      ],
      "metadata": {
        "colab": {
          "base_uri": "https://localhost:8080/"
        },
        "id": "vvwggTJ8Cd6u",
        "outputId": "9de87946-81b9-4055-f0a0-7f0b9a9ca8f0"
      },
      "execution_count": null,
      "outputs": [
        {
          "output_type": "stream",
          "name": "stdout",
          "text": [
            "7 2\n",
            "1 1 2 2 2 2 3\n",
            "4\n"
          ]
        }
      ]
    },
    {
      "cell_type": "code",
      "source": [
        "n, x = map(int, input().split()) # 데이터의 개수 N, 찾고자 하는 값 x 입력 받기\n",
        "array = list(map(int, input().split())) # 전체 데이터 입력 받기"
      ],
      "metadata": {
        "colab": {
          "base_uri": "https://localhost:8080/"
        },
        "id": "BPDBxz2bP0C7",
        "outputId": "3e6bbb59-f1aa-443f-85f4-7089b38f6d75"
      },
      "execution_count": null,
      "outputs": [
        {
          "name": "stdout",
          "output_type": "stream",
          "text": [
            "7 2\n",
            "1 1 2 2 2 2 3\n"
          ]
        }
      ]
    },
    {
      "cell_type": "code",
      "source": [
        "bisect_right(array, x)"
      ],
      "metadata": {
        "colab": {
          "base_uri": "https://localhost:8080/"
        },
        "id": "S_utiXr-QBGl",
        "outputId": "dc6183f5-797b-4533-8771-57a65b680f88"
      },
      "execution_count": null,
      "outputs": [
        {
          "output_type": "execute_result",
          "data": {
            "text/plain": [
              "6"
            ]
          },
          "metadata": {},
          "execution_count": 17
        }
      ]
    },
    {
      "cell_type": "code",
      "source": [
        "bisect_left(array, x)"
      ],
      "metadata": {
        "colab": {
          "base_uri": "https://localhost:8080/"
        },
        "id": "RIzcEgsLQP6E",
        "outputId": "cfe6dbd9-4b60-44b6-9762-e2b0fcda7b07"
      },
      "execution_count": null,
      "outputs": [
        {
          "output_type": "execute_result",
          "data": {
            "text/plain": [
              "2"
            ]
          },
          "metadata": {},
          "execution_count": 18
        }
      ]
    },
    {
      "cell_type": "code",
      "source": [
        "bisect_right(array, x) - bisect_left(array, x)"
      ],
      "metadata": {
        "colab": {
          "base_uri": "https://localhost:8080/"
        },
        "id": "5EgBMO-xQWwT",
        "outputId": "adba5f3f-3c24-4d42-c8d7-10be136c0556"
      },
      "execution_count": null,
      "outputs": [
        {
          "output_type": "execute_result",
          "data": {
            "text/plain": [
              "4"
            ]
          },
          "metadata": {},
          "execution_count": 19
        }
      ]
    },
    {
      "cell_type": "markdown",
      "source": [
        "# 고정점 찾기"
      ],
      "metadata": {
        "id": "2TqTtCKSK7zX"
      }
    },
    {
      "cell_type": "code",
      "source": [
        "# 이진 탐색 소스코드 구현(재귀 함수)\n",
        "def binary_search(array, start, end):\n",
        "    if start > end:\n",
        "        return None\n",
        "    mid = (start + end) // 2\n",
        "    # 고정점을 찾은 경우 인덱스 반환\n",
        "    if array[mid] == mid:\n",
        "        return mid\n",
        "    # 중간점이 가리키는 값보다 중간점이 작은 경우 왼쪽 확인\n",
        "    elif array[mid] > mid:\n",
        "        return binary_search(array, start, mid - 1)\n",
        "    # 중간점이 가리키는 값보다 중간점이 큰 경우 오른쪽 확인\n",
        "    else:\n",
        "        return binary_search(array, mid + 1, end)\n",
        "\n",
        "n = int(input())\n",
        "array = list(map(int, input().split()))\n",
        "\n",
        "# 이진 탐색(Binary Search) 수행\n",
        "index = binary_search(array, 0, n - 1)\n",
        "\n",
        "# 고정점이 없는 경우 -1 출력\n",
        "if index == None:\n",
        "    print(-1)\n",
        "# 고정점이 있는 경우 해당 인덱스 출력\n",
        "else:\n",
        "    print(index)"
      ],
      "metadata": {
        "colab": {
          "base_uri": "https://localhost:8080/"
        },
        "id": "zu4IjTlAHWt3",
        "outputId": "75ab8c1f-7098-468d-a11f-33e995422f6a"
      },
      "execution_count": null,
      "outputs": [
        {
          "output_type": "stream",
          "name": "stdout",
          "text": [
            "5\n",
            "-15 -6 1 3 7\n",
            "3\n"
          ]
        }
      ]
    },
    {
      "cell_type": "markdown",
      "source": [
        "# 공유기 설치"
      ],
      "metadata": {
        "id": "0YVaNRU7Lvod"
      }
    },
    {
      "cell_type": "code",
      "source": [
        "# 집의 개수(N)와 공유기의 개수(C)를 입력 받기\n",
        "n, c = list(map(int, input().split(' ')))\n",
        "\n",
        "# 전체 집의 좌표 정보를 입력 받기\n",
        "array = []\n",
        "for _ in range(n):\n",
        "     array.append(int(input()))\n",
        "array.sort() # 이진 탐색 수행을 위해 정렬 수행\n",
        "\n",
        "start = 1 # 가능한 최소 거리(min gap)\n",
        "end = array[-1] - array[0] # 가능한 최대 거리(max gap)\n",
        "result = 0\n",
        "\n",
        "while(start <= end):\n",
        "    mid = (start + end) // 2 # mid는 가장 인접한 두 공유기 사이의 거리(gap)을 의미\n",
        "    # 첫째 집에는 무조건 공유기를 설치한다고 가정\n",
        "    value = array[0]\n",
        "    count = 1\n",
        "    # 현재의 mid 값을 이용해 공유기를 설치하기\n",
        "    for i in range(1, n): # 앞에서부터 차근차근 설치 \n",
        "        if array[i] >= value + mid:\n",
        "            value = array[i]\n",
        "            count += 1\n",
        "    if count >= c: # C개 이상의 공유기를 설치할 수 있는 경우, 거리를 증가시키기\n",
        "        start = mid + 1\n",
        "        result = mid # 최적의 결과를 저장\n",
        "    else: # C개 이상의 공유기를 설치할 수 없는 경우, 거리를 감소시키기\n",
        "        end = mid - 1\n",
        "\n",
        "print(result)"
      ],
      "metadata": {
        "colab": {
          "base_uri": "https://localhost:8080/"
        },
        "id": "Z-6TgK_fLvaH",
        "outputId": "64e50cbe-be2f-4482-a035-a837ddb9638c"
      },
      "execution_count": null,
      "outputs": [
        {
          "output_type": "stream",
          "name": "stdout",
          "text": [
            "5 3\n",
            "1\n",
            "2\n",
            "8\n",
            "4\n",
            "9\n",
            "3\n"
          ]
        }
      ]
    },
    {
      "cell_type": "markdown",
      "source": [
        "# 가사 검색"
      ],
      "metadata": {
        "id": "5IFJhmqnMNes"
      }
    },
    {
      "cell_type": "code",
      "source": [
        "from bisect import bisect_left, bisect_right\n",
        "\n",
        "# 값이 [left_value, right_value]인 데이터의 개수를 반환하는 함수\n",
        "def count_by_range(a, left_value, right_value):\n",
        "    right_index = bisect_right(a, right_value)\n",
        "    left_index = bisect_left(a, left_value)\n",
        "    return right_index - left_index\n",
        "\n",
        "# 모든 단어들을 길이마다 나누어서 저장하기 위한 리스트\n",
        "array = [[] for _ in range(10001)]\n",
        "# 모든 단어들을 길이마다 나누어서 뒤집어 저장하기 위한 리스트\n",
        "reversed_array = [[] for _ in range(10001)]\n",
        "\n",
        "def solution(words, queries):\n",
        "    answer = []\n",
        "    for word in words: # 모든 단어를 접미사 와일드카드 배열, 접두사 와일드카드 배열에 각각 삽입\n",
        "        array[len(word)].append(word) # 단어를 삽입\n",
        "        reversed_array[len(word)].append(word[::-1]) # 단어를 뒤집어서 삽입\n",
        "\n",
        "    for i in range(10001): # 이진 탐색을 수행하기 위해 각 단어 리스트 정렬 수행\n",
        "        array[i].sort()\n",
        "        reversed_array[i].sort()\n",
        "\n",
        "    for q in queries: # 쿼리를 하나씩 확인하며 처리\n",
        "        if q[0] != '?': # 접미사에 와일드 카드가 붙은 경우\n",
        "            res = count_by_range(array[len(q)], q.replace('?', 'a'), q.replace('?', 'z'))\n",
        "        else: # 접두사에 와일드 카드가 붙은 경우\n",
        "            res = count_by_range(reversed_array[len(q)], q[::-1].replace('?', 'a'), q[::-1].replace('?', 'z'))\n",
        "        # 검색된 단어의 개수를 저장\n",
        "        answer.append(res)\n",
        "    return answer"
      ],
      "metadata": {
        "id": "pYAXU6vPLqB1"
      },
      "execution_count": null,
      "outputs": []
    },
    {
      "cell_type": "code",
      "source": [],
      "metadata": {
        "id": "WK9dSN0-NuDe"
      },
      "execution_count": null,
      "outputs": []
    }
  ]
}