{
  "nbformat": 4,
  "nbformat_minor": 0,
  "metadata": {
    "colab": {
      "name": "greedy_study.ipynb",
      "provenance": [],
      "collapsed_sections": []
    },
    "kernelspec": {
      "name": "python3",
      "display_name": "Python 3"
    },
    "language_info": {
      "name": "python"
    }
  },
  "cells": [
    {
      "cell_type": "markdown",
      "source": [
        "# 1. 모험가 길드 문제 요약\n",
        "1. N명의 모험가를 대상으로 공포도 측정\n",
        "2. 공포도가 X인 모험가는 반드시 X명 이상으로 구성한 모험가 그룸에 참여해야 여행 가능\n",
        "3. N명의 모험가 정보가 주어질 때, 최대 만들 수 있는 모헙가 그룹수 출력\n",
        "\n",
        "## 입력값\n",
        "* 5\n",
        "* 2 3 1 2 2 \n",
        "\n",
        "## 출력값\n",
        "* 2"
      ],
      "metadata": {
        "id": "45gScw9rAd2B"
      }
    },
    {
      "cell_type": "code",
      "source": [
        "n = int(input())\n",
        "data = list(map(int, input().split()))\n",
        "data.sort()\n",
        "\n",
        "result = 0 # 총 그룹의 수\n",
        "count = 0 # 현재 그룹에서 포함된 모험가의 수\n",
        "\n",
        "for i in data: # 공포도가 낮은 것부터 하나씩 확인하며\n",
        "  count += 1 # 현재 긃에 해당 모험가 포함시키기\n",
        "  if count >= i: # 현재 그룹에 호함된 모험가의 수가 현재 공포도 이상이면, 그룹 결성\n",
        "    result += 1 # 총 그룹 수 증가\n",
        "    count = 0 # 현재 그룹에 포함된 모험가의 수 초기화\n",
        "\n",
        "print(result) # 총 그룹 수 출력"
      ],
      "metadata": {
        "colab": {
          "base_uri": "https://localhost:8080/"
        },
        "id": "NGi3TMY0AcUJ",
        "outputId": "29537c16-9b8c-47ea-8a66-f43d6645951e"
      },
      "execution_count": null,
      "outputs": [
        {
          "output_type": "stream",
          "name": "stdout",
          "text": [
            "5\n",
            "2 3 1 2 2\n",
            "2\n"
          ]
        }
      ]
    },
    {
      "cell_type": "markdown",
      "source": [
        "# 2. 곱하기 혹은 더하기\n",
        "1. 각 숫자 0~9로 이루어진 문자열 S가 주어질 때, \n",
        "2. 왼쪽에서 오른쪽으로 모든 숫자를 하나씩 확인하며\n",
        "3. x 또는 + 연산자를 사용하여 만들 수 있는 가장 큰 수 출력\n",
        "\n",
        "## 입력값\n",
        "* 입력 1: 02984\n",
        "* 입력 2: 567\n",
        "\n",
        "## 출력값 \n",
        "* 출력 1: 576\n",
        "* 출력 2: 210"
      ],
      "metadata": {
        "id": "nSzfLJjiBa5H"
      }
    },
    {
      "cell_type": "code",
      "source": [
        "data = input()\n",
        "\n",
        "result = int(data[0])\n",
        "for i in range(1, len(data)):\n",
        "  # 두 수 중에서 하나라도 0 또는 1인 경우, 곱하기보다 더하기 수행\n",
        "  num = int(data[i])\n",
        "  if num <= 1 or result <= 1:\n",
        "    result += num\n",
        "  else:\n",
        "    result *= num\n",
        "\n",
        "print(result)"
      ],
      "metadata": {
        "colab": {
          "base_uri": "https://localhost:8080/"
        },
        "id": "otSxrD_5AcRa",
        "outputId": "99818d5d-0103-47e8-f1f8-8c8f139d6550"
      },
      "execution_count": null,
      "outputs": [
        {
          "output_type": "stream",
          "name": "stdout",
          "text": [
            "567\n",
            "210\n"
          ]
        }
      ]
    },
    {
      "cell_type": "markdown",
      "source": [
        "# 3. 문자열 뒤집기\n",
        "1. 0과 1로 이루어진 문자열 S가 있음\n",
        "2. 문자열 S에 있는 숫자를 모두 동일하게 만들기\n",
        "\n",
        "## 입력값\n",
        "* 0001100\n",
        "\n",
        "## 출력값\n",
        "* 1"
      ],
      "metadata": {
        "id": "-S53WsrTB5nP"
      }
    },
    {
      "cell_type": "code",
      "source": [
        "data = input()\n",
        "count0 = 0 # 전부 0으로 바꾸는 경우\n",
        "count1 = 0 # 전부 1로 바구는 경우\n",
        "\n",
        "if data[0] == '1':\n",
        "  count0 += 1\n",
        "else:\n",
        "  count1 += 1\n",
        "\n",
        "  for i in range(len(data) - 1):\n",
        "    if data[i] != data[i + 1]:\n",
        "      # 다음 수에서 1로 바뀌는 경우\n",
        "\n",
        "      if data[i + 1] == '1':\n",
        "        count0 += 1\n",
        "      # 다음 수에서 0으로 바뀌는 경우\n",
        "      else:\n",
        "        count += 1\n",
        "\n",
        "print(min(count0, count1))"
      ],
      "metadata": {
        "colab": {
          "base_uri": "https://localhost:8080/"
        },
        "id": "7J6_RFVrAcOZ",
        "outputId": "f124bf6b-a9de-4d49-a790-90c5e9f6e58d"
      },
      "execution_count": null,
      "outputs": [
        {
          "output_type": "stream",
          "name": "stdout",
          "text": [
            "0001100\n",
            "1\n"
          ]
        }
      ]
    },
    {
      "cell_type": "markdown",
      "source": [
        "# 4번 문제 요약\n",
        "1. N개 동전을 이용하여 만들 수 없는 양의 정수 금액 중 최솟값 구하기\n",
        "2. N = 5이고 각 동전이 각각 3원, 2원, 1원, 1원, 9원 일때, 만들 수 없는 양의 정수 금액 중 최솟값은 8원\n",
        "3. 다른 예로, N = 3이고 각 동전이 각각 3원, 5원, 7원 일때, 만들 수 없는 최솟값은 1원\n",
        "\n",
        "## 정리\n",
        "1. 각 동전을 조합해서 만들 수 없는 양의 정수 금액 구하기\n",
        "\n",
        "## 풀이\n",
        "1. 화폐 단위를 기준으로 오름차순 정렬\n",
        "2. 1부터 target - 1까지 모든 금액을 만들 수 있다면, 화폐 단위가 가장 작은 순서로 동전을 확인하며 target 값을 만들 수 있는지 확인. (현재 동전이 target 이하인지 체크)\n",
        "3. target 값을 만들 수 있다면, target 값을 증가하는 방식 이용\n",
        "\n",
        "## 입력 예시\n",
        "* 5\n",
        "* 3 2 1 1 9\n",
        "\n",
        "## 출력 예시\n",
        "* 8"
      ],
      "metadata": {
        "id": "vbqBh5zkgS5B"
      }
    },
    {
      "cell_type": "markdown",
      "source": [
        "예시) 1, 2, 3, 8 에서 1 + 2 + 3 = 6이기 때문에, 7을 만들 방법이 없음"
      ],
      "metadata": {
        "id": "167Zwx11QXc6"
      }
    },
    {
      "cell_type": "code",
      "execution_count": null,
      "metadata": {
        "colab": {
          "base_uri": "https://localhost:8080/"
        },
        "id": "FSyBboKigG4a",
        "outputId": "f8d01fdf-8eb7-41b1-f796-2360a4c57077"
      },
      "outputs": [
        {
          "output_type": "stream",
          "name": "stdout",
          "text": [
            "동전수: 5\n",
            "입력값: 3 2 1 1 9\n",
            "data 오름차순 정렬: [1, 1, 2, 3, 9]\n",
            "1원: 2\n",
            "1원: 3\n",
            "2원: 5\n",
            "3원: 8\n",
            "8\n"
          ]
        }
      ],
      "source": [
        "# 동전 개수\n",
        "n = int(input('동전수: '))\n",
        "\n",
        "# 동전 종류\n",
        "data = list(map(int, input('입력값: ').split())) # list로 감싸지 않으면 sort할 수 없기 때문에 다음과 같은 에러 발생. AttributeError: 'map' object has no attribute 'sort'\n",
        "\n",
        "data.sort() # 작은 수부터 큰 수 순서로 확인하기 위해 오름차순 정렬\n",
        "print('data 오름차순 정렬:', data)\n",
        "\n",
        "target = 1 # 금액 1을 만들 수 있는지 확인하기 위해 'target = 1' 설정 # 2, 3, 5, 8,  \n",
        "\n",
        "for x in data:\n",
        "  if target < x:\n",
        "    break # 만들 수 없는 금액을 찾았을 때 반복 종료\n",
        "  target += x  # target 변수에 x값 하나씩 추가 \n",
        "\n",
        "# 1 + 1 = 2\n",
        "# 2 + 1 = 3\n",
        "# 3 + 2 = 5\n",
        "# 5 + 3 = 8    ('8 + 9 = 17' 이기 때문에, 동전을 모두 더하여 만들 수 있는 최소값은 8) \n",
        "\n",
        "  print(f'{x}원:', target)\n",
        "\n",
        "print(target)"
      ]
    },
    {
      "cell_type": "markdown",
      "source": [
        "# 5. 볼링공 고르기\n",
        "1. N개의 공의 무게가 주어질 때, 두 사람이 볼링공을 구할 수 있는 경우의 수 출력\n",
        "2. 볼릉공은 1부터 M까지 자연수로 존재\n",
        "\n",
        "## 입력값\n",
        "* 입력 1 \n",
        "* 5 3\n",
        "* 1 3 2 3 2\n",
        "\n",
        "* 입력 2\n",
        "* 8, 5\n",
        "* 1 5 4 3 2 4 5 2\n",
        "\n",
        "## 출력값\n",
        "* 출력 1\n",
        "* 8\n",
        "\n",
        "* 출력 2\n",
        "* 25"
      ],
      "metadata": {
        "id": "Ao1dQnDRCdJd"
      }
    },
    {
      "cell_type": "code",
      "source": [
        "n, m = map(int, input().split())\n",
        "data = list(map(int, input().split()))\n",
        "\n",
        "# 1부터 10까지 무게를 담을 수 있는 리스트\n",
        "array = [0] * 11\n",
        "\n",
        "for x in data:\n",
        "  # 각 무게에 해당하는 볼링공의 개수 카운트\n",
        "  array[x] += 1\n",
        "\n",
        "result = 0\n",
        "# 1부터 m까지의 각 무게에 대하여 처리\n",
        "for i in range(1, m + 1):\n",
        "  n -= array[i] # 무게가 i인 볼링공의 개수(A가 선택할 수 있는 개수) 제외\n",
        "  result += array[i] * n # B가 선택하는 경우의 수와 곱하기\n",
        "\n",
        "print(result)"
      ],
      "metadata": {
        "colab": {
          "base_uri": "https://localhost:8080/"
        },
        "id": "Bd_2FIbu461L",
        "outputId": "fa7a43ac-7da7-49d1-aa0e-1ac6daea2a3c"
      },
      "execution_count": null,
      "outputs": [
        {
          "output_type": "stream",
          "name": "stdout",
          "text": [
            "8 5\n",
            "1 5 4 3 2 4 5 2\n",
            "25\n"
          ]
        }
      ]
    },
    {
      "cell_type": "markdown",
      "source": [
        "# 6. 무지의 먹방 라이브\n",
        "1. 각 음식은 1에서 N까지 번호 있음\n",
        "2. 1번부터 먹기 시작하며, 회전판은 번호가 증가하는 순서로 앞에 배치\n",
        "3. 마지막 번호 은식을 섭취한 후, 다시 1번 음식 배치\n",
        "4. 무지는 음식 하나를 1초 동안 섭취 후 나머지 음식 남김. 바로 다음 음식 섭취\n",
        "5. 회전판이 다음 음식을 무지 앞으로 가져오는데 걸리는 시간 없음\n",
        "6. 시간 k초가 매개변수로 주어질 때, 몇 번 음식부터 다시 섭취하면 되는지 return 하도록 함수 완성\n",
        "\n",
        "## 입출값\n",
        "* food_times: [3, 1, 2]\n",
        "* k: 5\n",
        "\n",
        "## 출력값\n",
        "* result: 1"
      ],
      "metadata": {
        "id": "oxN5GCSnC772"
      }
    },
    {
      "cell_type": "code",
      "source": [
        "import heapq\n",
        "def solution(food_times, k):\n",
        "  # 전체 음식을 먹는 시간보다 k가 크거나 같다면 -1\n",
        "  if sum(food_times) < k:\n",
        "    return -1\n",
        "\n",
        "  # 시간이 작은 음식부터 빼야 하므로 우선순위 큐를 이용\n",
        "  q = []\n",
        "  for i in range(len(food_times)):\n",
        "    # (음식 시간, 음식 번호) 형태로 우선순위 큐에 삽입\n",
        "    heapq.heappush(q, (food_times[i], i + 1))\n",
        "\n",
        "    sum_value = 0 # 먹기 위해 사용한 시간\n",
        "    previous = 0  # 직전에 다 먹은 음식 시간\n",
        "\n",
        "    length = len(food_times) # 남은 음식의 개수\n",
        "\n",
        "# sum_value + (현재의 음식 시간 - 이전 음식 시간) * 현재 음식 개수와 k 비교\n",
        "    while sum_value + ((q[0][0] - previous) * length) < k:\n",
        "      now = heapq.heappop(q)[0]\n",
        "      sum_value += (now - previous) * length\n",
        "      length -= 1\n",
        "      previous = now\n",
        "\n",
        "# 남은 음식 중에서 몇 번째 음식인지 확인하며 출력\n",
        "\n",
        "      result = sorted(q, key = lambda x: x[1]) # 음식의 번호 기준으로 정렬\n",
        "      return result[(k - sum_value) % length][1]"
      ],
      "metadata": {
        "id": "K5By_UhQCc1e"
      },
      "execution_count": null,
      "outputs": []
    },
    {
      "cell_type": "code",
      "source": [
        "solution([3, 1, 2], 5)"
      ],
      "metadata": {
        "colab": {
          "base_uri": "https://localhost:8080/"
        },
        "id": "qg0szVgfYaeU",
        "outputId": "4761d82c-49c2-4e06-f89d-6cb1eee31c01"
      },
      "execution_count": null,
      "outputs": [
        {
          "output_type": "execute_result",
          "data": {
            "text/plain": [
              "1"
            ]
          },
          "metadata": {},
          "execution_count": 44
        }
      ]
    },
    {
      "cell_type": "code",
      "source": [
        ""
      ],
      "metadata": {
        "id": "Bx80J_HOYiTI"
      },
      "execution_count": null,
      "outputs": []
    }
  ]
}