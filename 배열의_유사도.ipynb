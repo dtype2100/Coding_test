{
  "nbformat": 4,
  "nbformat_minor": 0,
  "metadata": {
    "colab": {
      "provenance": [],
      "authorship_tag": "ABX9TyMXSON6/mqenjY+mnmE6eWX",
      "include_colab_link": true
    },
    "kernelspec": {
      "name": "python3",
      "display_name": "Python 3"
    },
    "language_info": {
      "name": "python"
    }
  },
  "cells": [
    {
      "cell_type": "markdown",
      "metadata": {
        "id": "view-in-github",
        "colab_type": "text"
      },
      "source": [
        "<a href=\"https://colab.research.google.com/github/dtype2100/Coding_test/blob/master/%EB%B0%B0%EC%97%B4%EC%9D%98_%EC%9C%A0%EC%82%AC%EB%8F%84.ipynb\" target=\"_parent\"><img src=\"https://colab.research.google.com/assets/colab-badge.svg\" alt=\"Open In Colab\"/></a>"
      ]
    },
    {
      "cell_type": "markdown",
      "source": [
        "* [배열의 유사도](https://school.programmers.co.kr/learn/courses/30/lessons/120903)"
      ],
      "metadata": {
        "id": "YsV6Bb8gJj_g"
      }
    },
    {
      "cell_type": "code",
      "execution_count": null,
      "metadata": {
        "id": "ZgW7GQ6tI7l5"
      },
      "outputs": [],
      "source": [
        "def solution(s1, s2):\n",
        "    answer = 0\n",
        "    for i in s2:\n",
        "        for j in s1:\n",
        "            if j == i:\n",
        "                answer += 1\n",
        "    return answer"
      ]
    },
    {
      "cell_type": "code",
      "source": [
        "# 다른 문제 풀이\n",
        "def solution(s1, s2):\n",
        "    return len(set(s1)&set(s2));"
      ],
      "metadata": {
        "id": "FMsKqNP2I8T0"
      },
      "execution_count": null,
      "outputs": []
    },
    {
      "cell_type": "code",
      "source": [],
      "metadata": {
        "id": "JSXmi0RxI8Q8"
      },
      "execution_count": null,
      "outputs": []
    }
  ]
}