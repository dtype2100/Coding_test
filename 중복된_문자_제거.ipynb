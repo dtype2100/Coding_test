{
  "nbformat": 4,
  "nbformat_minor": 0,
  "metadata": {
    "colab": {
      "provenance": [],
      "authorship_tag": "ABX9TyNZL+zO8l4vbLsoU1ZpMOeH",
      "include_colab_link": true
    },
    "kernelspec": {
      "name": "python3",
      "display_name": "Python 3"
    },
    "language_info": {
      "name": "python"
    }
  },
  "cells": [
    {
      "cell_type": "markdown",
      "metadata": {
        "id": "view-in-github",
        "colab_type": "text"
      },
      "source": [
        "<a href=\"https://colab.research.google.com/github/dtype2100/Coding_test/blob/master/%EC%A4%91%EB%B3%B5%EB%90%9C_%EB%AC%B8%EC%9E%90_%EC%A0%9C%EA%B1%B0.ipynb\" target=\"_parent\"><img src=\"https://colab.research.google.com/assets/colab-badge.svg\" alt=\"Open In Colab\"/></a>"
      ]
    },
    {
      "cell_type": "markdown",
      "source": [
        "* [중복된 문자 제거](https://school.programmers.co.kr/learn/courses/30/lessons/120888)"
      ],
      "metadata": {
        "id": "dzS7VyIC09mc"
      }
    },
    {
      "cell_type": "code",
      "execution_count": null,
      "metadata": {
        "id": "E3XKFEbk0fZD"
      },
      "outputs": [],
      "source": [
        "def solution(my_string):\n",
        "    answer = ''.join(dict.fromkeys(my_string))\n",
        "    return answer"
      ]
    },
    {
      "cell_type": "code",
      "source": [
        "# 다른 문제 풀이\n",
        "def solution(my_string):\n",
        "  answer = ''\n",
        "  for i in my_string:\n",
        "    if i not in answer:\n",
        "      answer += i\n",
        "  return answer"
      ],
      "metadata": {
        "id": "1xMs599B0jL-"
      },
      "execution_count": null,
      "outputs": []
    }
  ]
}