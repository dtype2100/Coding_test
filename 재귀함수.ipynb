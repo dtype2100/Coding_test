{
  "nbformat": 4,
  "nbformat_minor": 0,
  "metadata": {
    "colab": {
      "provenance": [],
      "authorship_tag": "ABX9TyNBaFE7NHAacGkqbxku/Sg3",
      "include_colab_link": true
    },
    "kernelspec": {
      "name": "python3",
      "display_name": "Python 3"
    },
    "language_info": {
      "name": "python"
    }
  },
  "cells": [
    {
      "cell_type": "markdown",
      "metadata": {
        "id": "view-in-github",
        "colab_type": "text"
      },
      "source": [
        "<a href=\"https://colab.research.google.com/github/dtype2100/Coding_test/blob/master/%EC%9E%AC%EA%B7%80%ED%95%A8%EC%88%98.ipynb\" target=\"_parent\"><img src=\"https://colab.research.google.com/assets/colab-badge.svg\" alt=\"Open In Colab\"/></a>"
      ]
    },
    {
      "cell_type": "code",
      "source": [
        "counter = 0"
      ],
      "metadata": {
        "id": "Z2CjSJdUY2YX"
      },
      "execution_count": 1,
      "outputs": []
    },
    {
      "cell_type": "code",
      "execution_count": 2,
      "metadata": {
        "id": "gEC5WbS0XMDy"
      },
      "outputs": [],
      "source": [
        "def factorial_1(n):\n",
        "  var = 1\n",
        "  for i in range(1, n + 1):\n",
        "    var *= i\n",
        "  return var"
      ]
    },
    {
      "cell_type": "code",
      "source": [
        "def factorial_2(n):\n",
        "  if n == 0:\n",
        "    return 1\n",
        "  else:\n",
        "    return n * factorial_2(n - 1)"
      ],
      "metadata": {
        "id": "6IKYuc7vXbMt"
      },
      "execution_count": 3,
      "outputs": []
    },
    {
      "cell_type": "code",
      "source": [
        "def factorial_3(n):\n",
        "  global counter\n",
        "  counter += 1\n",
        "  if n == 0:\n",
        "    return 1\n",
        "  return factorial_3(n - 1) * n"
      ],
      "metadata": {
        "id": "sza5HsXJYBnG"
      },
      "execution_count": 4,
      "outputs": []
    },
    {
      "cell_type": "code",
      "source": [
        "print(factorial_1(3))\n",
        "print(factorial_2(3))\n",
        "print(factorial_3(3))\n",
        "print(counter)"
      ],
      "metadata": {
        "colab": {
          "base_uri": "https://localhost:8080/"
        },
        "id": "5mHPTUEVXllU",
        "outputId": "f4d9682c-e7f3-4a62-b864-2270741eecd0"
      },
      "execution_count": 5,
      "outputs": [
        {
          "output_type": "stream",
          "name": "stdout",
          "text": [
            "6\n",
            "6\n",
            "6\n",
            "4\n"
          ]
        }
      ]
    },
    {
      "cell_type": "code",
      "source": [
        "# 메모화\n",
        "memo = {1: 1, 2: 1}\n",
        "def f(n):\n",
        "  if n in memo:\n",
        "    return memo[n]\n",
        "  else:\n",
        "    output = f(n-1) + f(n-2)\n",
        "    memo[n] = output\n",
        "    return output\n",
        "\n",
        "print(f(150))"
      ],
      "metadata": {
        "colab": {
          "base_uri": "https://localhost:8080/"
        },
        "id": "toUaH3n8aB4Y",
        "outputId": "4db1050a-cc5b-4fa5-ef5a-366ba64129ac"
      },
      "execution_count": 7,
      "outputs": [
        {
          "output_type": "stream",
          "name": "stdout",
          "text": [
            "9969216677189303386214405760200\n"
          ]
        }
      ]
    },
    {
      "cell_type": "code",
      "source": [
        "# 조기 리턴\n",
        "def f(n):\n",
        "  if n in memo:\n",
        "    return memo[n]\n",
        "  output = f(n-1) + f(n-2)\n",
        "  memo[n] = output\n",
        "  return output\n",
        "\n",
        "print(f(150))"
      ],
      "metadata": {
        "colab": {
          "base_uri": "https://localhost:8080/"
        },
        "id": "xZVakxJjaysY",
        "outputId": "dd68d5b1-ec2f-4dbd-956f-19c6c50acec3"
      },
      "execution_count": 8,
      "outputs": [
        {
          "output_type": "stream",
          "name": "stdout",
          "text": [
            "9969216677189303386214405760200\n"
          ]
        }
      ]
    },
    {
      "cell_type": "markdown",
      "source": [
        "# 피보나치 수열"
      ],
      "metadata": {
        "id": "I25Qf2qAZtKv"
      }
    },
    {
      "cell_type": "code",
      "source": [
        "# n번째 피보나치 수를 리턴\n",
        "def fib(n):\n",
        "    if n < 3:\n",
        "        return 1 \n",
        "    return fib(n - 1) + fib(n - 2)\n",
        "\n",
        "\n",
        "# 테스트: fib(1)부터 fib(10)까지 출력\n",
        "for i in range(1, 11):\n",
        "    print(fib(i))"
      ],
      "metadata": {
        "colab": {
          "base_uri": "https://localhost:8080/"
        },
        "id": "i-i3QUc7ZKDt",
        "outputId": "614725fd-2fba-4e44-b08a-ec98278b70de"
      },
      "execution_count": 6,
      "outputs": [
        {
          "output_type": "stream",
          "name": "stdout",
          "text": [
            "1\n",
            "1\n",
            "2\n",
            "3\n",
            "5\n",
            "8\n",
            "13\n",
            "21\n",
            "34\n",
            "55\n"
          ]
        }
      ]
    }
  ]
}