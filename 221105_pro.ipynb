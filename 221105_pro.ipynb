{
  "nbformat": 4,
  "nbformat_minor": 0,
  "metadata": {
    "colab": {
      "provenance": [],
      "authorship_tag": "ABX9TyPrYZyI38suR1+vwwSXTJQw",
      "include_colab_link": true
    },
    "kernelspec": {
      "name": "python3",
      "display_name": "Python 3"
    },
    "language_info": {
      "name": "python"
    }
  },
  "cells": [
    {
      "cell_type": "markdown",
      "metadata": {
        "id": "view-in-github",
        "colab_type": "text"
      },
      "source": [
        "<a href=\"https://colab.research.google.com/github/dtype2100/Coding_test/blob/master/221105_pro.ipynb\" target=\"_parent\"><img src=\"https://colab.research.google.com/assets/colab-badge.svg\" alt=\"Open In Colab\"/></a>"
      ]
    },
    {
      "cell_type": "markdown",
      "source": [
        "* [특정 문자 제거하기](https://school.programmers.co.kr/learn/courses/30/lessons/120826)"
      ],
      "metadata": {
        "id": "UDfHKFpFM-mz"
      }
    },
    {
      "cell_type": "code",
      "source": [
        "def solution(my_string, letter):\n",
        "    answer = ''\n",
        "    for i in my_string:\n",
        "        if i != letter:\n",
        "            answer += i\n",
        "    return answer"
      ],
      "metadata": {
        "id": "G-ChoXzAP849"
      },
      "execution_count": 9,
      "outputs": []
    },
    {
      "cell_type": "code",
      "source": [
        "# 다른 문제 풀이\n",
        "def silution(my_string, letter):\n",
        "  return my_string.replace(letter, '')"
      ],
      "metadata": {
        "id": "cT7ZxiAgMk90"
      },
      "execution_count": null,
      "outputs": []
    }
  ]
}