{
  "nbformat": 4,
  "nbformat_minor": 0,
  "metadata": {
    "colab": {
      "provenance": [],
      "authorship_tag": "ABX9TyONjlY2TCk07kaCwJmxSSZL",
      "include_colab_link": true
    },
    "kernelspec": {
      "name": "python3",
      "display_name": "Python 3"
    },
    "language_info": {
      "name": "python"
    }
  },
  "cells": [
    {
      "cell_type": "markdown",
      "metadata": {
        "id": "view-in-github",
        "colab_type": "text"
      },
      "source": [
        "<a href=\"https://colab.research.google.com/github/dtype2100/Coding_test/blob/master/Greedy_concept.ipynb\" target=\"_parent\"><img src=\"https://colab.research.google.com/assets/colab-badge.svg\" alt=\"Open In Colab\"/></a>"
      ]
    },
    {
      "cell_type": "markdown",
      "source": [
        "# 개요\n",
        "1. '이것이 코딩테스트다' 책에 나오는 개념 예제 해설 및 주석"
      ],
      "metadata": {
        "id": "pk4zpRTnOq_d"
      }
    },
    {
      "cell_type": "markdown",
      "source": [
        "# 거스름돈"
      ],
      "metadata": {
        "id": "iC43P31zBKNH"
      }
    },
    {
      "cell_type": "markdown",
      "source": [
        "* 문제 해설\n",
        "1. n을 coin으로 나눈 몫을 count하여 동전 개수 세기\n",
        "2. n을 coin으로 나눈 나머지를 업데이트하여 남은 동전 개수 확인"
      ],
      "metadata": {
        "id": "Q8sSB7JuCf43"
      }
    },
    {
      "cell_type": "code",
      "source": [
        "n = 1260\n",
        "count = 0\n",
        "coin_types = [500, 100, 50, 10]\n",
        "\n",
        "for coin in coin_types:\n",
        "  count += n // coin # coin을 나눈 몫을 count (동전 개수 세기). 두 번째 for문을 순회할 때, 260부터 시작.\n",
        "  n %= coin # n을 coin으로 나눈 나머지 업데이트. 남은 동전개수 확인.\n",
        "\n",
        "print(count)"
      ],
      "metadata": {
        "colab": {
          "base_uri": "https://localhost:8080/"
        },
        "id": "jHMxsx1JBIzZ",
        "outputId": "99732803-52b3-453d-cb4f-d97d08cb9ce5"
      },
      "execution_count": null,
      "outputs": [
        {
          "output_type": "stream",
          "name": "stdout",
          "text": [
            "6\n"
          ]
        }
      ]
    },
    {
      "cell_type": "code",
      "source": [
        "1260//500"
      ],
      "metadata": {
        "colab": {
          "base_uri": "https://localhost:8080/"
        },
        "id": "8n-KinJXlgfC",
        "outputId": "cb94b1b5-64b8-4a0c-9660-5f68a3cc38a9"
      },
      "execution_count": null,
      "outputs": [
        {
          "output_type": "execute_result",
          "data": {
            "text/plain": [
              "2"
            ]
          },
          "metadata": {},
          "execution_count": 3
        }
      ]
    },
    {
      "cell_type": "code",
      "source": [
        "1260%500"
      ],
      "metadata": {
        "colab": {
          "base_uri": "https://localhost:8080/"
        },
        "id": "dvJk3w9Yl50y",
        "outputId": "009c8555-2794-4d98-c4e1-fdaf9054b6d9"
      },
      "execution_count": null,
      "outputs": [
        {
          "output_type": "execute_result",
          "data": {
            "text/plain": [
              "260"
            ]
          },
          "metadata": {},
          "execution_count": 4
        }
      ]
    },
    {
      "cell_type": "code",
      "source": [
        "260//100"
      ],
      "metadata": {
        "colab": {
          "base_uri": "https://localhost:8080/"
        },
        "id": "NepydkmLmFFx",
        "outputId": "ace8bad3-95e1-48a8-c35d-487a248fc2a4"
      },
      "execution_count": null,
      "outputs": [
        {
          "output_type": "execute_result",
          "data": {
            "text/plain": [
              "2"
            ]
          },
          "metadata": {},
          "execution_count": 5
        }
      ]
    },
    {
      "cell_type": "code",
      "source": [
        "260%100"
      ],
      "metadata": {
        "colab": {
          "base_uri": "https://localhost:8080/"
        },
        "id": "kFm3-H-lmSoB",
        "outputId": "69e33332-c4da-43b6-fa3c-13e062bd1336"
      },
      "execution_count": null,
      "outputs": [
        {
          "output_type": "execute_result",
          "data": {
            "text/plain": [
              "60"
            ]
          },
          "metadata": {},
          "execution_count": 7
        }
      ]
    },
    {
      "cell_type": "code",
      "source": [
        "60//50"
      ],
      "metadata": {
        "colab": {
          "base_uri": "https://localhost:8080/"
        },
        "id": "A9KNNd0FmVsR",
        "outputId": "24c8b75b-8f01-436e-b9a6-6cac1c6ce395"
      },
      "execution_count": null,
      "outputs": [
        {
          "output_type": "execute_result",
          "data": {
            "text/plain": [
              "1"
            ]
          },
          "metadata": {},
          "execution_count": 8
        }
      ]
    },
    {
      "cell_type": "code",
      "source": [
        "60%50"
      ],
      "metadata": {
        "colab": {
          "base_uri": "https://localhost:8080/"
        },
        "id": "Gy4wcLltmZ5Q",
        "outputId": "b56936a9-98ab-4b54-a1d6-24b59143b58a"
      },
      "execution_count": null,
      "outputs": [
        {
          "output_type": "execute_result",
          "data": {
            "text/plain": [
              "10"
            ]
          },
          "metadata": {},
          "execution_count": 9
        }
      ]
    },
    {
      "cell_type": "code",
      "source": [
        "10//10"
      ],
      "metadata": {
        "colab": {
          "base_uri": "https://localhost:8080/"
        },
        "id": "b2NAbqMUmbsB",
        "outputId": "6951be4e-ef1e-4c41-cef8-263f15be9b56"
      },
      "execution_count": null,
      "outputs": [
        {
          "output_type": "execute_result",
          "data": {
            "text/plain": [
              "1"
            ]
          },
          "metadata": {},
          "execution_count": 10
        }
      ]
    },
    {
      "cell_type": "code",
      "source": [
        "10%10"
      ],
      "metadata": {
        "colab": {
          "base_uri": "https://localhost:8080/"
        },
        "id": "j9igXEMpmdBB",
        "outputId": "074a435a-49ff-4dea-855a-187c718af375"
      },
      "execution_count": null,
      "outputs": [
        {
          "output_type": "execute_result",
          "data": {
            "text/plain": [
              "0"
            ]
          },
          "metadata": {},
          "execution_count": 11
        }
      ]
    },
    {
      "cell_type": "markdown",
      "source": [
        "# 큰 수의 법칙\n",
        "1. 주어진 수를 M번 더하여 가장 큰 수를 만드는 법칙\n",
        "2. 단, 배열의 특정한 인덱스(번호)에 해당하는 수가 연속해서 K번 초과하여 더해질 수 없음\n",
        "3. 2, 4, 5, 4, 6으로 이루어진 배열이 있을 때, M이 8이고, K가 3\n",
        "4. 6 + 6 + 6 + 5 + 6 + 6 + 6 + 5 = 46\n",
        "5. 단, 서로 다른 인덱스에 해당하는 수가 같은 경우에도 서로 다른 것으로 간주\n",
        "6. 3, 4, 3, 4, 3으로 이루어진 배열이 있을 때, M이 7, K가 2라고 가정\n",
        "7. 두 번째 원소에 해당하는 4, 네 번째 원소에 해당하는 4를 번갈아 두 번씩  더하기 가능\n",
        "8. 4 + 4 + 4 + 4 + 4 + 4 + 4 = 28\n",
        "9. 배열의 크기 N, 숫자가 더해지는 횟수 M, 그리고 K가 주어질 때, 큰 수의 법칙에 따른 결과 출력\n",
        "10. 입력조건\n",
        "  * 자연수 1이상, 10000 이하\n",
        "  * 입력으로 주어지는 K는 항상 M보다 작거나 같음\n",
        "11. 출력조건\n",
        "  * 첫째 줄에 큰 수의 법칙에 따라 더해진 답을 출력\n",
        "12. 입력 \n",
        "  * 5 8 3 \n",
        "  * 2 4 5 4 6\n",
        "13. 출력\n",
        "  * 46"
      ],
      "metadata": {
        "id": "aVNEFSbAzptw"
      }
    },
    {
      "cell_type": "markdown",
      "source": [
        "* 문제 정리\n",
        "1. 가장 큰 수 더하기\n",
        "2. 가장 큰 수는 연속해서 k(3)번을 초과할 수 없음\n",
        "3. 따라서 가장 큰 수 3번, 두 번째로 큰 수 1번을 더하는 방식으로 계산 필요\n",
        "\n",
        "* 반복문 구조\n",
        "1. for문 3회 반복으로 가장 큰 수를 더한 후, for문을 빠져나와서 두 번째로 큰 수를 더함. \n",
        "2. 이때 두 번째로 큰 수는 for문 밖에 있지만, while문 안에 있어서 반복 가능.\n",
        "3. m이 0이 될때까지 반복하기 때문에, 6 + 6 + 6 + 5 + 6 + 6 + 6 + 5 = 46 연산"
      ],
      "metadata": {
        "id": "-DeRFy1j9bCS"
      }
    },
    {
      "cell_type": "code",
      "source": [
        "n, m, k = map(int, input().split())\n",
        "\n",
        "data = list(map(int, input().split()))\n",
        "\n",
        "data.sort()\n",
        "first = data[n - 1] # 가장 큰 수\n",
        "second = data[n - 2] # 두 번째로 큰 수\n",
        "\n",
        "result = 0\n",
        "\n",
        "while True:\n",
        "  for i in range(k): # 가장 큰 수를  k번 더하기. k가 3이기 때문에, for문 3번 반복\n",
        "    if m == 0: # m이 0이라면, 반복문 탈출 / 8, 7, 6, 5, 4, 3, 2, 1\n",
        "      break\n",
        "    result += first # for문 1회 반복 6 + 6 + 6 / for문 2회 반복 6 + 6 + 6\n",
        "    m -= 1 # 더할 때마다 1씩 빼기\n",
        "  if m == 0: # m이 0이라면 반복문 탈출\n",
        "    break\n",
        "  result += second # 두 번째로 큰 수를 한 번 더하기. # for문 3번 돌고 + 5. 2회 반복\n",
        "  m -= 1 # 더할 때마다 1씩 빼기\n",
        "\n",
        "print(result)"
      ],
      "metadata": {
        "colab": {
          "base_uri": "https://localhost:8080/"
        },
        "id": "pOpT8qi4xMQ5",
        "outputId": "6582ebf9-7c8c-4f0d-d0be-392233cf4721"
      },
      "execution_count": null,
      "outputs": [
        {
          "output_type": "stream",
          "name": "stdout",
          "text": [
            "5 8 3\n",
            "2 4 5 4 6\n",
            "46\n"
          ]
        }
      ]
    },
    {
      "cell_type": "code",
      "source": [
        "data"
      ],
      "metadata": {
        "colab": {
          "base_uri": "https://localhost:8080/"
        },
        "id": "cvhrbYPH4SWW",
        "outputId": "3c65f479-8d25-4c26-ed03-a5a80d62d52d"
      },
      "execution_count": null,
      "outputs": [
        {
          "output_type": "execute_result",
          "data": {
            "text/plain": [
              "[2, 4, 4, 5, 6]"
            ]
          },
          "metadata": {},
          "execution_count": 15
        }
      ]
    },
    {
      "cell_type": "code",
      "source": [
        "first"
      ],
      "metadata": {
        "colab": {
          "base_uri": "https://localhost:8080/"
        },
        "id": "eWF0CTaE4WmV",
        "outputId": "323d859e-c773-4e97-b690-f407e3a76f47"
      },
      "execution_count": null,
      "outputs": [
        {
          "output_type": "execute_result",
          "data": {
            "text/plain": [
              "6"
            ]
          },
          "metadata": {},
          "execution_count": 16
        }
      ]
    },
    {
      "cell_type": "code",
      "source": [
        "second"
      ],
      "metadata": {
        "colab": {
          "base_uri": "https://localhost:8080/"
        },
        "id": "KuwxgteS4bsG",
        "outputId": "9fbf3361-cc91-456a-bc1f-a06f4919c590"
      },
      "execution_count": null,
      "outputs": [
        {
          "output_type": "execute_result",
          "data": {
            "text/plain": [
              "5"
            ]
          },
          "metadata": {},
          "execution_count": 17
        }
      ]
    },
    {
      "cell_type": "code",
      "source": [
        "data[n - 1]"
      ],
      "metadata": {
        "colab": {
          "base_uri": "https://localhost:8080/"
        },
        "id": "lGX1w7dK4m91",
        "outputId": "050e1cbd-d0a6-4036-f23e-be77b8abe4fb"
      },
      "execution_count": null,
      "outputs": [
        {
          "output_type": "execute_result",
          "data": {
            "text/plain": [
              "6"
            ]
          },
          "metadata": {},
          "execution_count": 20
        }
      ]
    },
    {
      "cell_type": "code",
      "source": [
        "data[n - 2]"
      ],
      "metadata": {
        "colab": {
          "base_uri": "https://localhost:8080/"
        },
        "id": "KQ4sIke64cK1",
        "outputId": "10d5a066-a92d-4183-8a1c-8819c28a4e4b"
      },
      "execution_count": null,
      "outputs": [
        {
          "output_type": "execute_result",
          "data": {
            "text/plain": [
              "5"
            ]
          },
          "metadata": {},
          "execution_count": 19
        }
      ]
    },
    {
      "cell_type": "markdown",
      "source": [
        "# 숫자 카드 게임\n",
        "1. 여러 개의 숫자 카드 중에서 가장 높은 숫자가 쓰인 카드 한장 뽑기\n",
        "2. 숫자가 쓰인 카드는 N x M의 형태\n",
        "3. 이때 M은 열의 개수를 의미\n",
        "4. 먼저 뽑으려하는 카드가 포함된 행 선택\n",
        "5. 그 다음 선택된 행에 포함된 카드 중 가장 숫자가 낮은 카트 뽑아야함\n",
        "6. 처음 카드를 선택할 때, 이후에 숫자가 가장 낮은 카드를 뽑을 것을 고려하여 최종적으로 가장 높은 숫자의 카드를 뽑을 수 있는 전략 필요\n",
        "\n",
        "* 3 x 3형태로 카드가 있음\n",
        "* 3 1 2\n",
        "* 4 1 4\n",
        "* 2 2 2\n",
        "\n",
        "* 입력 조건\n",
        "1. 첫째 줄에 N과 M이 공백 기준으로 각각 자연수로 주어짐\n",
        "2. 둘째 줄 부터 숫자가 적힌 카드가 주어짐. 각 숫자는 1이상, 10000 이하 자연수\n",
        "\n",
        "* 출력 조건\n",
        "1. 게임의 룰에 맞게 선택한 카드에 적힌 숫자 출력"
      ],
      "metadata": {
        "id": "sml8kndL_i4p"
      }
    },
    {
      "cell_type": "markdown",
      "source": [
        "* 문제 해설\n",
        "1. 각 행마다 가장 작은 수를 찾은 뒤, 그 수중 가장 큰 수 찾기"
      ],
      "metadata": {
        "id": "Bs8uSzcwIyAj"
      }
    },
    {
      "cell_type": "code",
      "source": [
        "n, m = map(int, input().split())\n",
        "\n",
        "result = 0\n",
        "\n",
        "for i in range(n):\n",
        "  data = list(map(int, input().split()))\n",
        "  min_value = min(data)\n",
        "  result = max(result, min_value)\n",
        "\n",
        "print(result)"
      ],
      "metadata": {
        "colab": {
          "base_uri": "https://localhost:8080/"
        },
        "id": "11IQZRPz4vG0",
        "outputId": "e0907992-161e-49db-c079-a2a1d841833b"
      },
      "execution_count": null,
      "outputs": [
        {
          "output_type": "stream",
          "name": "stdout",
          "text": [
            "3 3\n",
            "3 1 2\n",
            "4 1 4\n",
            "2 2 2\n",
            "2\n"
          ]
        }
      ]
    },
    {
      "cell_type": "code",
      "source": [
        "#  보류\n",
        "n, m = map(int, input().split())\n",
        "\n",
        "result = 0\n",
        "\n",
        "for i in range(n):\n",
        "  data = list(map(int, input().split()))\n",
        "\n",
        "  min_value = 10001\n",
        "  for a in data:\n",
        "    min_value = min(min_value, a)\n",
        "\n",
        "  result = max(result, min_value)\n",
        "\n",
        "print(result)"
      ],
      "metadata": {
        "colab": {
          "base_uri": "https://localhost:8080/"
        },
        "id": "aa6Yr0SnH7bb",
        "outputId": "62b8ebb4-5541-49c4-8b85-7456fb832d08"
      },
      "execution_count": 6,
      "outputs": [
        {
          "output_type": "stream",
          "name": "stdout",
          "text": [
            "3 3\n",
            "3 1 2\n",
            "4 1 4\n",
            "2 2 2\n",
            "2\n"
          ]
        }
      ]
    },
    {
      "cell_type": "markdown",
      "source": [
        "# 1이 될 때까지\n",
        "1. N이 1이 될 때까지 \n",
        "2. N에서 1을 뺀다\n",
        "3. N을 K로 나눈다\n",
        "\n",
        "* 입력 조건\n",
        "1. 첫째 줄 N과 K를 공백으로 구분\n",
        "2. 각각 자연수로 주어지며, N은 항상 K보다 크거나 같음\n",
        "\n",
        "* 출력 조건\n",
        "1. 첫째 줄에 N이 1이 될 때까지 1번 혹은 2번 과정을 수행해야 하는 횟수의 최솟값을 출력\n",
        "\n",
        "* 입력 예시: 25 5\n",
        "* 출력 예시: 2\n"
      ],
      "metadata": {
        "id": "KhIYR1VHGyZX"
      }
    },
    {
      "cell_type": "code",
      "source": [
        "n, k = map(int, input().split())\n",
        "result = 0  \n",
        "\n",
        "while n >= k:\n",
        "  while n % k != 0:\n",
        "    n -= 1 \n",
        "    result += 1 \n",
        "  n //= k  # 1회 반복: 25 / 5 = 5, 2회 반복: 5 / 5 = 1 | 1회: 12 / 3 = 4 \n",
        "  result += 1 # 1회 반복: 1, 2회 반복: 2 | 1회: 1\n",
        "\n",
        "while n > 1: \n",
        "  n -= 1 \n",
        "  result += 1 \n",
        "\n",
        "print(result)"
      ],
      "metadata": {
        "id": "NfqKb9nfIbOv",
        "colab": {
          "base_uri": "https://localhost:8080/"
        },
        "outputId": "81388a52-0f99-4c45-f39c-69c62b624db1"
      },
      "execution_count": 33,
      "outputs": [
        {
          "output_type": "stream",
          "name": "stdout",
          "text": [
            "25 5\n",
            "2\n"
          ]
        }
      ]
    },
    {
      "cell_type": "code",
      "source": [
        "n, k = map(int, input().split())\n",
        "result = 0 # 1, 2\n",
        "\n",
        "while True:\n",
        "  target = (n // k) * k # 1회 반복: 25 | 2회 반복: 5 | 3회 반복: 1\n",
        "  result += (n - target) # 1회 반복: 0 | 2회 반복: 0 | 3회 반복: 0\n",
        "  n = target # 1회 반복: 25 | 2회 반복: 5 | 3회 반복: 1\n",
        "  if n < k: # 1회 반복: n = 25 | 2회: n = 5\n",
        "    break\n",
        "  result += 1 # 1회 반복: 1 | 2회 반복: 2 \n",
        "  n //= k # 1회 반복: n = 5 | 2회: n = 1\n",
        "\n",
        "print(result)\n",
        "result += (n - 1)\n",
        "print(result)"
      ],
      "metadata": {
        "colab": {
          "base_uri": "https://localhost:8080/"
        },
        "id": "gL7zsiGbIW2E",
        "outputId": "da3024a2-12c7-4ee6-a11c-4edd2b46d4cc"
      },
      "execution_count": 32,
      "outputs": [
        {
          "output_type": "stream",
          "name": "stdout",
          "text": [
            "25 5\n",
            "3\n",
            "2\n"
          ]
        }
      ]
    },
    {
      "cell_type": "code",
      "source": [],
      "metadata": {
        "id": "RvXtSTnkMLqT"
      },
      "execution_count": null,
      "outputs": []
    }
  ]
}