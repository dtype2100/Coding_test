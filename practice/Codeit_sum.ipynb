{
  "cells": [
    {
      "cell_type": "markdown",
      "metadata": {
        "id": "Qedugp9gBBwA"
      },
      "source": [
        "# 칼로리 계산기"
      ]
    },
    {
      "cell_type": "code",
      "execution_count": null,
      "metadata": {
        "colab": {
          "base_uri": "https://localhost:8080/"
        },
        "id": "XqLLkW1DAxLj",
        "outputId": "eda61fca-9dc7-4e5c-a451-7773380f1e6c"
      },
      "outputs": [
        {
          "name": "stdout",
          "output_type": "stream",
          "text": [
            "1194\n",
            "1940\n",
            "929.9\n",
            "1880\n"
          ]
        }
      ],
      "source": [
        "kitkat = 190 \n",
        "oreos = 502 \n",
        "pringles = 292 \n",
        "twix = 135.9 \n",
        "cheetos = 485 \n",
        "\n",
        "\n",
        "# 다양한 과자 조합\n",
        "print(kitkat + oreos * 2)\n",
        "print(cheetos * 4)\n",
        "print(pringles + oreos + twix)\n",
        "print(pringles * 3 + oreos * 2)"
      ]
    },
    {
      "cell_type": "markdown",
      "metadata": {
        "id": "U9e0wARNA_Rx"
      },
      "source": [
        "# 카페 모카 레시피"
      ]
    },
    {
      "cell_type": "code",
      "execution_count": null,
      "metadata": {
        "colab": {
          "base_uri": "https://localhost:8080/"
        },
        "id": "bqxKAKE9AzHm",
        "outputId": "f9b5d514-e0e4-4408-84e4-99e893f3e575"
      },
      "outputs": [
        {
          "name": "stdout",
          "output_type": "stream",
          "text": [
            "1. 준비된 컵에 초코 소스를 넣는다.\n",
            "2. 에스프레소를 추출하고 잔에 부어 준다.\n",
            "3. 초코 소스와 커피를 잘 섞어 준다.\n",
            "4. 거품기로 우유 거품을 내고, 잔에 부어 준다.\n",
            "5. 생크림을 얹어 준다.\n",
            "1. 준비된 컵에 초코 소스를 넣는다.\n",
            "2. 에스프레소를 추출하고 잔에 부어 준다.\n",
            "3. 초코 소스와 커피를 잘 섞어 준다.\n",
            "4. 거품기로 우유 거품을 내고, 잔에 부어 준다.\n",
            "5. 생크림을 얹어 준다.\n"
          ]
        }
      ],
      "source": [
        "def cafe_mocha_recipe():\n",
        "    print(\"1. 준비된 컵에 초코 소스를 넣는다.\")\n",
        "    print(\"2. 에스프레소를 추출하고 잔에 부어 준다.\")\n",
        "    print(\"3. 초코 소스와 커피를 잘 섞어 준다.\")\n",
        "    print(\"4. 거품기로 우유 거품을 내고, 잔에 부어 준다.\")\n",
        "    print(\"5. 생크림을 얹어 준다.\")    \n",
        "\n",
        "cafe_mocha_recipe()\n",
        "cafe_mocha_recipe()"
      ]
    },
    {
      "cell_type": "markdown",
      "metadata": {
        "id": "ltm3CkD_BIqw"
      },
      "source": [
        "# 세 수의 곱"
      ]
    },
    {
      "cell_type": "code",
      "execution_count": null,
      "metadata": {
        "colab": {
          "base_uri": "https://localhost:8080/"
        },
        "id": "9tHF06pGAzE3",
        "outputId": "1460d5f0-bc47-4d5a-aa0c-d1dce1f4e68f"
      },
      "outputs": [
        {
          "name": "stdout",
          "output_type": "stream",
          "text": [
            "105\n",
            "756\n",
            "-126\n"
          ]
        }
      ],
      "source": [
        "# 코드를 작성하세요. \n",
        "def multiply_three_numbers(a, b, c):\n",
        "    print(a * b * c)\n",
        "\n",
        "\n",
        "# 테스트 코드\n",
        "multiply_three_numbers(7, 3, 5)\n",
        "multiply_three_numbers(21, 4, 9)\n",
        "multiply_three_numbers(-7, 6, 3)"
      ]
    },
    {
      "cell_type": "markdown",
      "metadata": {
        "id": "D_D7YV5eBxDm"
      },
      "source": [
        "# 문자열 연습"
      ]
    },
    {
      "cell_type": "code",
      "execution_count": null,
      "metadata": {
        "colab": {
          "base_uri": "https://localhost:8080/"
        },
        "id": "ft1XHg4yAzB_",
        "outputId": "de8c3516-f896-4b38-971c-e1c56798415f"
      },
      "outputs": [
        {
          "name": "stdout",
          "output_type": "stream",
          "text": [
            "'응답하라 1988'은 많은 시청자들에게 사랑을 받은 드라마예요.\n",
            "데카르트는 \"나는 생각한다. 고로 존재한다.\"라고 말했다.\n",
            "영화 '신세계'에서 \"드루와~\"라는 대사가 유행했다.\n"
          ]
        }
      ],
      "source": [
        "print(\"'응답하라 1988'은 많은 시청자들에게 사랑을 받은 드라마예요.\")\n",
        "print(\"데카르트는 \\\"나는 생각한다. 고로 존재한다.\\\"라고 말했다.\")\n",
        "print(\"영화 \\'신세계\\'에서 \\\"드루와~\\\"라는 대사가 유행했다.\")"
      ]
    },
    {
      "cell_type": "markdown",
      "metadata": {
        "id": "9UKWpd7EBuv8"
      },
      "source": [
        "# 문자열 포맷팅"
      ]
    },
    {
      "cell_type": "code",
      "execution_count": null,
      "metadata": {
        "colab": {
          "base_uri": "https://localhost:8080/"
        },
        "id": "YtWLG4wBBkvI",
        "outputId": "4a85d22e-4187-435f-d38a-485b5019aa53"
      },
      "outputs": [
        {
          "name": "stdout",
          "output_type": "stream",
          "text": [
            "제 이름은 최지웅이고 32살입니다.\n"
          ]
        }
      ],
      "source": [
        "name = \"최지웅\"\n",
        "age = 32\n",
        "\n",
        "print(\"제 이름은 %s이고 %d살입니다.\" % (name, age))"
      ]
    },
    {
      "cell_type": "code",
      "execution_count": null,
      "metadata": {
        "colab": {
          "base_uri": "https://localhost:8080/"
        },
        "id": "Gw3N3YivBkrX",
        "outputId": "af41e41b-3f2c-4d78-e729-1e3ec0e81666"
      },
      "outputs": [
        {
          "name": "stdout",
          "output_type": "stream",
          "text": [
            "제 이름은 최지웅이고 32살입니다.\n"
          ]
        }
      ],
      "source": [
        "name = \"최지웅\"\n",
        "age = 32\n",
        "\n",
        "print(\"제 이름은 {}이고 {}살입니다.\".format(name, age))"
      ]
    },
    {
      "cell_type": "code",
      "execution_count": null,
      "metadata": {
        "colab": {
          "base_uri": "https://localhost:8080/"
        },
        "id": "00cH377eBtWH",
        "outputId": "3c9663b7-4806-42e2-d250-40f483f6608b"
      },
      "outputs": [
        {
          "name": "stdout",
          "output_type": "stream",
          "text": [
            "제 이름은 최지웅이고 32살입니다.\n"
          ]
        }
      ],
      "source": [
        "name = \"최지웅\"\n",
        "age = 32\n",
        "\n",
        "print(f\"제 이름은 {name}이고 {age}살입니다.\")"
      ]
    },
    {
      "cell_type": "code",
      "execution_count": null,
      "metadata": {
        "colab": {
          "base_uri": "https://localhost:8080/"
        },
        "id": "G-tXFdJoBziC",
        "outputId": "9425ddd5-aac2-4e61-f4a8-e955fc752a82"
      },
      "outputs": [
        {
          "name": "stdout",
          "output_type": "stream",
          "text": [
            "1시간에 5달러 벌었습니다.\n",
            "5시간에 25달러 벌었습니다.\n",
            "1시간에 5710.8원 벌었습니다.\n",
            "5시간에 28554.0원 벌었습니다.\n"
          ]
        }
      ],
      "source": [
        "wage = 5  # 시급 (1시간에 5달러)\n",
        "exchange_rate = 1142.16  # 환율 (1달러에 1142.16원)\n",
        "\n",
        "# \"1시간에 5달러 벌었습니다.\" 출력\n",
        "print(\"{0}시간에 {1}{2} 벌었습니다.\".format(1, wage * 1, \"달러\"))\n",
        "\n",
        "# \"5시간에 25달러 벌었습니다.\" 출력\n",
        "print(\"{0}시간에 {1}{2} 벌었습니다.\".format(5, wage * 5, \"달러\"))  # 코드를 채워 넣으세요.\n",
        "\n",
        "# \"1시간에 5710.8원 벌었습니다.\" 출력\n",
        "print(\"{0}시간에 {1}{2} 벌었습니다.\".format(1, wage * 1 * exchange_rate, \"원\"))  # 코드를 채워 넣으세요.\n",
        "\n",
        "# \"5시간에 28554.0원 벌었습니다.\" 출력\n",
        "print(\"{0}시간에 {1:.1f}{2} 벌었습니다.\".format(5, wage * 5 * exchange_rate, \"원\"))  # 코드를 채워 넣으세요."
      ]
    },
    {
      "cell_type": "markdown",
      "metadata": {
        "id": "GEpw7uKDB-QO"
      },
      "source": [
        "# 옵셔널 파라미터"
      ]
    },
    {
      "cell_type": "code",
      "execution_count": null,
      "metadata": {
        "colab": {
          "base_uri": "https://localhost:8080/"
        },
        "id": "Me0vl1qaBzfm",
        "outputId": "854d009f-31ff-4728-9ad2-aa28bba305bc"
      },
      "outputs": [
        {
          "name": "stdout",
          "output_type": "stream",
          "text": [
            "내 이름은 코드잇\n",
            "나이는 1살\n",
            "국적은 미국\n",
            "\n",
            "내 이름은 코드잇\n",
            "나이는 1살\n",
            "국적은 한국\n"
          ]
        }
      ],
      "source": [
        "def myself(name, age, nationality=\"한국\"):\n",
        "    print(\"내 이름은 {}\".format(name))\n",
        "    print(\"나이는 {}살\".format(age))\n",
        "    print(\"국적은 {}\".format(nationality))\n",
        "\n",
        "\n",
        "myself(\"코드잇\", 1, \"미국\")  # 옵셔널 파라미터를 제공하는 경우\n",
        "print()\n",
        "myself(\"코드잇\", 1)  # 옵셔널 파라미터를 제공하지 않는 경우"
      ]
    },
    {
      "cell_type": "code",
      "execution_count": null,
      "metadata": {
        "colab": {
          "base_uri": "https://localhost:8080/",
          "height": 137
        },
        "id": "wcDbV0NSBzc-",
        "outputId": "8466f3ff-b214-4b26-dc3c-3ec49aef24ef"
      },
      "outputs": [
        {
          "ename": "SyntaxError",
          "evalue": "ignored",
          "output_type": "error",
          "traceback": [
            "\u001b[0;36m  File \u001b[0;32m\"<ipython-input-17-b5ab9b8a6079>\"\u001b[0;36m, line \u001b[0;32m1\u001b[0m\n\u001b[0;31m    def myself(name, nationality=\"한국\", age):\u001b[0m\n\u001b[0m              ^\u001b[0m\n\u001b[0;31mSyntaxError\u001b[0m\u001b[0;31m:\u001b[0m non-default argument follows default argument\n"
          ]
        }
      ],
      "source": [
        "def myself(name, nationality=\"한국\", age):\n",
        "    print(\"내 이름은 {}\".format(name))\n",
        "    print(\"나이는 {}살\".format(age))\n",
        "    print(\"국적은 {}\".format(nationality))\n",
        "\n",
        "\n",
        "myself(\"코드잇\", 1)  # 기본값이 설정된 파라미터를 바꾸지 않을 때\n",
        "print()\n",
        "myself(\"코드잇\", \"미국\", 1)  # 기본값이 설정된 파라미터를 바꾸었을 때"
      ]
    },
    {
      "cell_type": "markdown",
      "metadata": {
        "id": "tJEewdUrCSwG"
      },
      "source": [
        "# Syntactic Sugar"
      ]
    },
    {
      "cell_type": "code",
      "execution_count": null,
      "metadata": {
        "colab": {
          "base_uri": "https://localhost:8080/",
          "height": 248
        },
        "id": "OAWGCTz8C7nf",
        "outputId": "eee1b8e1-f321-4aa2-ce12-9bd1e63572d8"
      },
      "outputs": [
        {
          "ename": "NameError",
          "evalue": "ignored",
          "output_type": "error",
          "traceback": [
            "\u001b[0;31m---------------------------------------------------------------------------\u001b[0m",
            "\u001b[0;31mNameError\u001b[0m                                 Traceback (most recent call last)",
            "\u001b[0;32m<ipython-input-18-8e59adb88d4f>\u001b[0m in \u001b[0;36m<module>\u001b[0;34m()\u001b[0m\n\u001b[1;32m      1\u001b[0m \u001b[0;31m# 다음 두 줄은 같습니다\u001b[0m\u001b[0;34m\u001b[0m\u001b[0;34m\u001b[0m\u001b[0;34m\u001b[0m\u001b[0m\n\u001b[0;32m----> 2\u001b[0;31m \u001b[0mx\u001b[0m \u001b[0;34m=\u001b[0m \u001b[0mx\u001b[0m \u001b[0;34m+\u001b[0m \u001b[0;36m1\u001b[0m\u001b[0;34m\u001b[0m\u001b[0;34m\u001b[0m\u001b[0m\n\u001b[0m\u001b[1;32m      3\u001b[0m \u001b[0mx\u001b[0m \u001b[0;34m+=\u001b[0m \u001b[0;36m1\u001b[0m\u001b[0;34m\u001b[0m\u001b[0;34m\u001b[0m\u001b[0m\n\u001b[1;32m      4\u001b[0m \u001b[0;34m\u001b[0m\u001b[0m\n\u001b[1;32m      5\u001b[0m \u001b[0;31m# 다음 두 줄은 같습니다\u001b[0m\u001b[0;34m\u001b[0m\u001b[0;34m\u001b[0m\u001b[0;34m\u001b[0m\u001b[0m\n",
            "\u001b[0;31mNameError\u001b[0m: name 'x' is not defined"
          ]
        }
      ],
      "source": [
        "# 다음 두 줄은 같습니다\n",
        "x = x + 1\n",
        "x += 1\n",
        "\n",
        "# 다음 두 줄은 같습니다\n",
        "x = x + 2\n",
        "x += 2\n",
        "\n",
        "# 다음 두 줄은 같습니다\n",
        "x = x * 2\n",
        "x *= 2\n",
        "\n",
        "# 다음 두 줄은 같습니다\n",
        "x = x - 3\n",
        "x -= 3"
      ]
    },
    {
      "cell_type": "markdown",
      "metadata": {
        "id": "jeLPVtcXC4Lg"
      },
      "source": [
        "# 짝수, 홀수"
      ]
    },
    {
      "cell_type": "code",
      "execution_count": null,
      "metadata": {
        "colab": {
          "base_uri": "https://localhost:8080/"
        },
        "id": "aGskBHW6CzmX",
        "outputId": "15295760-1a6b-4642-96b1-799a5155603f"
      },
      "outputs": [
        {
          "name": "stdout",
          "output_type": "stream",
          "text": [
            "False\n",
            "False\n",
            "True\n",
            "True\n",
            "False\n"
          ]
        }
      ],
      "source": [
        "def is_evenly_divisible(number):\n",
        "    return number % 2 == 0\n",
        "    # 코드를 작성하세요\n",
        "\n",
        "\n",
        "# 테스트\n",
        "print(is_evenly_divisible(3))\n",
        "print(is_evenly_divisible(7))\n",
        "print(is_evenly_divisible(8))\n",
        "print(is_evenly_divisible(218))\n",
        "print(is_evenly_divisible(317))"
      ]
    },
    {
      "cell_type": "markdown",
      "metadata": {
        "id": "iaZ23-_DDA_u"
      },
      "source": [
        "# 거스름돈 계산기"
      ]
    },
    {
      "cell_type": "code",
      "execution_count": null,
      "metadata": {
        "colab": {
          "base_uri": "https://localhost:8080/"
        },
        "id": "1ftmxtd6C81P",
        "outputId": "f63a0f28-465a-4d54-eec8-c25fe3676894"
      },
      "outputs": [
        {
          "name": "stdout",
          "output_type": "stream",
          "text": [
            "50000원 지폐: 1장\n",
            "10000원 지폐: 1장\n",
            "5000원 지폐: 1장\n",
            "1000원 지폐: 2장\n",
            "\n",
            "50000원 지폐: 2장\n",
            "10000원 지폐: 2장\n",
            "5000원 지폐: 0장\n",
            "1000원 지폐: 2장\n"
          ]
        }
      ],
      "source": [
        "def calculate_change(payment, cost):\n",
        "    change = payment - cost  # 거스름돈 총액\n",
        "\n",
        "    fifty_count = change // 50000  # 50,000원 지폐\n",
        "    ten_count = (change % 50000) // 10000  # 10,000원 지폐\n",
        "    five_count = (change % 10000) // 5000  # 5,000원 지폐\n",
        "    one_count = (change % 5000) // 1000  # 1,000원 지폐\n",
        "\n",
        "    # 답 출력\n",
        "    print(\"50000원 지폐: {}장\".format(fifty_count))\n",
        "    print(\"10000원 지폐: {}장\".format(ten_count))\n",
        "    print(\"5000원 지폐: {}장\".format(five_count))\n",
        "    print(\"1000원 지폐: {}장\".format(one_count))\n",
        "\n",
        "\n",
        "# 테스트\n",
        "calculate_change(100000, 33000)\n",
        "print()\n",
        "calculate_change(500000, 378000)"
      ]
    },
    {
      "cell_type": "markdown",
      "metadata": {
        "id": "nHwylRe_DNMe"
      },
      "source": [
        "# while 연습"
      ]
    },
    {
      "cell_type": "code",
      "execution_count": null,
      "metadata": {
        "colab": {
          "base_uri": "https://localhost:8080/"
        },
        "id": "lV2dLn1KC8tn",
        "outputId": "3e0ca751-9a19-4e03-c8d5-17e9a3bb70c6"
      },
      "outputs": [
        {
          "name": "stdout",
          "output_type": "stream",
          "text": [
            "2\n",
            "4\n",
            "6\n",
            "8\n",
            "10\n",
            "12\n",
            "14\n",
            "16\n",
            "18\n",
            "20\n",
            "22\n",
            "24\n",
            "26\n",
            "28\n",
            "30\n",
            "32\n",
            "34\n",
            "36\n",
            "38\n",
            "40\n",
            "42\n",
            "44\n",
            "46\n",
            "48\n",
            "50\n",
            "52\n",
            "54\n",
            "56\n",
            "58\n",
            "60\n",
            "62\n",
            "64\n",
            "66\n",
            "68\n",
            "70\n",
            "72\n",
            "74\n",
            "76\n",
            "78\n",
            "80\n",
            "82\n",
            "84\n",
            "86\n",
            "88\n",
            "90\n",
            "92\n",
            "94\n",
            "96\n",
            "98\n",
            "100\n",
            "102\n",
            "104\n",
            "106\n",
            "108\n",
            "110\n",
            "112\n",
            "114\n",
            "116\n",
            "118\n",
            "120\n",
            "122\n",
            "124\n",
            "126\n",
            "128\n",
            "130\n",
            "132\n",
            "134\n",
            "136\n",
            "138\n",
            "140\n",
            "142\n",
            "144\n",
            "146\n",
            "148\n",
            "150\n",
            "152\n",
            "154\n",
            "156\n",
            "158\n",
            "160\n",
            "162\n",
            "164\n",
            "166\n",
            "168\n",
            "170\n",
            "172\n",
            "174\n",
            "176\n",
            "178\n",
            "180\n",
            "182\n",
            "184\n",
            "186\n",
            "188\n",
            "190\n",
            "192\n",
            "194\n",
            "196\n",
            "198\n",
            "200\n"
          ]
        }
      ],
      "source": [
        "i = 1\n",
        "while i <= 100:\n",
        "    print(i * 2)\n",
        "    i += 1"
      ]
    },
    {
      "cell_type": "code",
      "execution_count": null,
      "metadata": {
        "colab": {
          "base_uri": "https://localhost:8080/"
        },
        "id": "JstwwCKbDRjI",
        "outputId": "d96087dd-b7e3-4601-904f-eeac4550ec5c"
      },
      "outputs": [
        {
          "name": "stdout",
          "output_type": "stream",
          "text": [
            "115\n"
          ]
        }
      ],
      "source": [
        "i = 100\n",
        "while i % 23 != 0:\n",
        "    i += 1\n",
        "\n",
        "print(i)"
      ]
    },
    {
      "cell_type": "markdown",
      "metadata": {
        "id": "nVrlmzyfDZE2"
      },
      "source": [
        "# 학점 계산기"
      ]
    },
    {
      "cell_type": "code",
      "execution_count": null,
      "metadata": {
        "colab": {
          "base_uri": "https://localhost:8080/"
        },
        "id": "N-kvBOeCDRgg",
        "outputId": "28b359b8-2a52-4ae8-cf0f-2466d0e9071a"
      },
      "outputs": [
        {
          "name": "stdout",
          "output_type": "stream",
          "text": [
            "B\n",
            "F\n",
            "D\n",
            "A\n"
          ]
        }
      ],
      "source": [
        "def print_grade(midterm_score, final_score):\n",
        "    total = midterm_score + final_score\n",
        "    # 코드를 쓰세요.\n",
        "    if total >= 90:\n",
        "        print(\"A\")\n",
        "    elif total >= 80:\n",
        "        print(\"B\")\n",
        "    elif total >= 70:\n",
        "        print(\"C\")\n",
        "    elif total >= 60:\n",
        "        print(\"D\")\n",
        "    else: \n",
        "        print(\"F\")\n",
        "\n",
        "# 테스트\n",
        "print_grade(40, 45)\n",
        "print_grade(20, 35)\n",
        "print_grade(30, 32)\n",
        "print_grade(50, 45)"
      ]
    },
    {
      "cell_type": "code",
      "execution_count": null,
      "metadata": {
        "colab": {
          "base_uri": "https://localhost:8080/"
        },
        "id": "cYSERYBKDhzo",
        "outputId": "a7d24557-9ddf-4e87-a3da-89f9f8cf3257"
      },
      "outputs": [
        {
          "name": "stdout",
          "output_type": "stream",
          "text": [
            "8\n",
            "16\n",
            "32\n",
            "40\n",
            "56\n",
            "64\n",
            "80\n",
            "88\n"
          ]
        }
      ],
      "source": [
        "i = 1\n",
        "while i <= 100:\n",
        "    if i % 8 == 0 and i % 12 != 0:\n",
        "        print(i)\n",
        "    i += 1"
      ]
    },
    {
      "cell_type": "code",
      "execution_count": null,
      "metadata": {
        "colab": {
          "base_uri": "https://localhost:8080/"
        },
        "id": "C66MLb6PDnJH",
        "outputId": "490a6d64-99d2-4fa4-fa31-5c92d727a001"
      },
      "outputs": [
        {
          "name": "stdout",
          "output_type": "stream",
          "text": [
            "333167\n"
          ]
        }
      ],
      "source": [
        "i = 1\n",
        "total = 0\n",
        "\n",
        "while i < 1000:\n",
        "    if i % 2 == 0 or i % 3 == 0:\n",
        "        total += i\n",
        "    i += 1\n",
        "    \n",
        "print(total)"
      ]
    },
    {
      "cell_type": "markdown",
      "metadata": {
        "id": "ZP4mHPY8EKft"
      },
      "source": [
        "# 약수 찾기"
      ]
    },
    {
      "cell_type": "code",
      "execution_count": null,
      "metadata": {
        "colab": {
          "base_uri": "https://localhost:8080/"
        },
        "id": "OCyd3Cw8DnGw",
        "outputId": "d1583666-ecd8-4158-9dce-cacdafd76679"
      },
      "outputs": [
        {
          "name": "stdout",
          "output_type": "stream",
          "text": [
            "1\n",
            "2\n",
            "3\n",
            "4\n",
            "5\n",
            "6\n",
            "8\n",
            "10\n",
            "12\n",
            "15\n",
            "20\n",
            "24\n",
            "30\n",
            "40\n",
            "60\n",
            "120\n",
            "120의 약수는 총 16개입니다.\n"
          ]
        }
      ],
      "source": [
        "N = 120\n",
        "i = 1\n",
        "count = 0\n",
        "\n",
        "while i <= N:\n",
        "    if N % i == 0:\n",
        "        print(i)\n",
        "        count += 1\n",
        "    i += 1\n",
        "    \n",
        "print(\"{}의 약수는 총 {}개입니다.\".format(N, count))"
      ]
    },
    {
      "cell_type": "markdown",
      "metadata": {
        "id": "68kohX-zEYrO"
      },
      "source": [
        "# 우승상금"
      ]
    },
    {
      "cell_type": "code",
      "execution_count": null,
      "metadata": {
        "colab": {
          "base_uri": "https://localhost:8080/"
        },
        "id": "FhTWdSmGEX-H",
        "outputId": "beb1ed01-ec24-4dde-9aab-063ab7ee25e1"
      },
      "outputs": [
        {
          "name": "stdout",
          "output_type": "stream",
          "text": [
            "94193324원 차이로 동일 아저씨 말씀이 맞습니다.\n"
          ]
        }
      ],
      "source": [
        "INTEREST_RATE = 0.12\n",
        "APARTMENT_PRICE_2016 = 1100000000\n",
        "year = 1988\n",
        "bank_balance = 50000000\n",
        "\n",
        "while year < 2016:\n",
        "    bank_balance = bank_balance * (1 + INTEREST_RATE)\n",
        "    year += 1\n",
        "    \n",
        "if bank_balance > APARTMENT_PRICE_2016:\n",
        "    print(\"{}원 차이로 동일 아저씨 말씀이 맞습니다.\".format(int(bank_balance - APARTMENT_PRICE_2016)))\n",
        "else:\n",
        "    print(\"{}원 차이로 미란 아주머니 말씀이 맞습니다.\".format(int(APARTMENT_PRICE_2016 - bank_balance)))"
      ]
    },
    {
      "cell_type": "markdown",
      "metadata": {
        "id": "1Cwl9MaqEb3O"
      },
      "source": [
        "# 피나보치 수열"
      ]
    },
    {
      "cell_type": "code",
      "execution_count": null,
      "metadata": {
        "colab": {
          "base_uri": "https://localhost:8080/"
        },
        "id": "0mT9z-3dEd62",
        "outputId": "9e18a282-258f-4eef-f5eb-8bd474576f39"
      },
      "outputs": [
        {
          "name": "stdout",
          "output_type": "stream",
          "text": [
            "1\n",
            "1\n",
            "2\n",
            "3\n",
            "5\n",
            "8\n",
            "13\n",
            "21\n",
            "34\n",
            "55\n",
            "89\n",
            "144\n",
            "233\n",
            "377\n",
            "610\n",
            "987\n",
            "1597\n",
            "2584\n",
            "4181\n",
            "6765\n",
            "10946\n",
            "17711\n",
            "28657\n",
            "46368\n",
            "75025\n",
            "121393\n",
            "196418\n",
            "317811\n",
            "514229\n",
            "832040\n",
            "1346269\n",
            "2178309\n",
            "3524578\n",
            "5702887\n",
            "9227465\n",
            "14930352\n",
            "24157817\n",
            "39088169\n",
            "63245986\n",
            "102334155\n",
            "165580141\n",
            "267914296\n",
            "433494437\n",
            "701408733\n",
            "1134903170\n",
            "1836311903\n",
            "2971215073\n",
            "4807526976\n",
            "7778742049\n",
            "12586269025\n"
          ]
        }
      ],
      "source": [
        "previous = 0\n",
        "current = 1\n",
        "i = 1\n",
        "\n",
        "while i <= 50:\n",
        "    print(current)\n",
        "    temp = previous\n",
        "    previous = current\n",
        "    current = current + temp\n",
        "    i += 1"
      ]
    },
    {
      "cell_type": "markdown",
      "metadata": {
        "id": "ao48zOZTEkmd"
      },
      "source": [
        "# 구구단"
      ]
    },
    {
      "cell_type": "code",
      "execution_count": null,
      "metadata": {
        "colab": {
          "base_uri": "https://localhost:8080/"
        },
        "id": "sCbsbdZtEhsO",
        "outputId": "1b3cacef-b51f-4f8d-dc47-8be351f86a30"
      },
      "outputs": [
        {
          "name": "stdout",
          "output_type": "stream",
          "text": [
            "1 * 1 = 1\n",
            "1 * 2 = 2\n",
            "1 * 3 = 3\n",
            "1 * 4 = 4\n",
            "1 * 5 = 5\n",
            "1 * 6 = 6\n",
            "1 * 7 = 7\n",
            "1 * 8 = 8\n",
            "1 * 9 = 9\n",
            "2 * 1 = 2\n",
            "2 * 2 = 4\n",
            "2 * 3 = 6\n",
            "2 * 4 = 8\n",
            "2 * 5 = 10\n",
            "2 * 6 = 12\n",
            "2 * 7 = 14\n",
            "2 * 8 = 16\n",
            "2 * 9 = 18\n",
            "3 * 1 = 3\n",
            "3 * 2 = 6\n",
            "3 * 3 = 9\n",
            "3 * 4 = 12\n",
            "3 * 5 = 15\n",
            "3 * 6 = 18\n",
            "3 * 7 = 21\n",
            "3 * 8 = 24\n",
            "3 * 9 = 27\n",
            "4 * 1 = 4\n",
            "4 * 2 = 8\n",
            "4 * 3 = 12\n",
            "4 * 4 = 16\n",
            "4 * 5 = 20\n",
            "4 * 6 = 24\n",
            "4 * 7 = 28\n",
            "4 * 8 = 32\n",
            "4 * 9 = 36\n",
            "5 * 1 = 5\n",
            "5 * 2 = 10\n",
            "5 * 3 = 15\n",
            "5 * 4 = 20\n",
            "5 * 5 = 25\n",
            "5 * 6 = 30\n",
            "5 * 7 = 35\n",
            "5 * 8 = 40\n",
            "5 * 9 = 45\n",
            "6 * 1 = 6\n",
            "6 * 2 = 12\n",
            "6 * 3 = 18\n",
            "6 * 4 = 24\n",
            "6 * 5 = 30\n",
            "6 * 6 = 36\n",
            "6 * 7 = 42\n",
            "6 * 8 = 48\n",
            "6 * 9 = 54\n",
            "7 * 1 = 7\n",
            "7 * 2 = 14\n",
            "7 * 3 = 21\n",
            "7 * 4 = 28\n",
            "7 * 5 = 35\n",
            "7 * 6 = 42\n",
            "7 * 7 = 49\n",
            "7 * 8 = 56\n",
            "7 * 9 = 63\n",
            "8 * 1 = 8\n",
            "8 * 2 = 16\n",
            "8 * 3 = 24\n",
            "8 * 4 = 32\n",
            "8 * 5 = 40\n",
            "8 * 6 = 48\n",
            "8 * 7 = 56\n",
            "8 * 8 = 64\n",
            "8 * 9 = 72\n",
            "9 * 1 = 9\n",
            "9 * 2 = 18\n",
            "9 * 3 = 27\n",
            "9 * 4 = 36\n",
            "9 * 5 = 45\n",
            "9 * 6 = 54\n",
            "9 * 7 = 63\n",
            "9 * 8 = 72\n",
            "9 * 9 = 81\n"
          ]
        }
      ],
      "source": [
        "i = 1\n",
        "while i <= 9:\n",
        "    j = 1\n",
        "    while j <= 9:\n",
        "        print(\"{} * {} = {}\".format(i, j, i * j))\n",
        "        j += 1\n",
        "    i += 1"
      ]
    },
    {
      "cell_type": "markdown",
      "metadata": {
        "id": "NkEt_heQEpq_"
      },
      "source": [
        "# break"
      ]
    },
    {
      "cell_type": "code",
      "execution_count": null,
      "metadata": {
        "colab": {
          "base_uri": "https://localhost:8080/"
        },
        "id": "cN165eN-EpGA",
        "outputId": "a2887a9c-4436-4100-ba7e-da6986198a02"
      },
      "outputs": [
        {
          "name": "stdout",
          "output_type": "stream",
          "text": [
            "115\n"
          ]
        }
      ],
      "source": [
        "i = 100\n",
        "\n",
        "while True:\n",
        "    # i가 23의 배수면 반복문을 끝냄\n",
        "    if i % 23 == 0:\n",
        "        break\n",
        "    i = i + 1\n",
        "\n",
        "print(i)"
      ]
    },
    {
      "cell_type": "markdown",
      "metadata": {
        "id": "tiNvNNjcEvbW"
      },
      "source": [
        "# continue"
      ]
    },
    {
      "cell_type": "code",
      "execution_count": null,
      "metadata": {
        "colab": {
          "base_uri": "https://localhost:8080/"
        },
        "id": "wJbjt1UWEpDP",
        "outputId": "ab827832-e4c0-410b-dec5-bad5f820dbee"
      },
      "outputs": [
        {
          "name": "stdout",
          "output_type": "stream",
          "text": [
            "2\n",
            "4\n",
            "6\n",
            "8\n",
            "10\n",
            "12\n",
            "14\n"
          ]
        }
      ],
      "source": [
        "i = 0\n",
        "\n",
        "while i < 15:\n",
        "    i = i + 1\n",
        "\n",
        "    # i가 홀수면 print(i) 안 하고 바로 조건 부분으로 돌아감\n",
        "    if i % 2 == 1:\n",
        "        continue\n",
        "    print(i)"
      ]
    },
    {
      "cell_type": "markdown",
      "metadata": {
        "id": "Up4NnsjeFGT_"
      },
      "source": [
        "# 리스트 인덱싱"
      ]
    },
    {
      "cell_type": "code",
      "execution_count": null,
      "metadata": {
        "colab": {
          "base_uri": "https://localhost:8080/"
        },
        "id": "PIDgQ_WGEo_Q",
        "outputId": "4cea91df-4910-4c8c-912c-f43d3437b161"
      },
      "outputs": [
        {
          "name": "stdout",
          "output_type": "stream",
          "text": [
            "안녕\n",
            "니하오\n",
            "곤니찌와\n",
            "올라\n",
            "싸와디캅\n",
            "헬로\n",
            "봉주르\n"
          ]
        }
      ],
      "source": [
        "greetings = [\"안녕\", \"니하오\", \"곤니찌와\", \"올라\", \"싸와디캅\", \"헬로\", \"봉주르\"]\n",
        "i = 0\n",
        "while i < len(greetings):\n",
        "    print(greetings[i])\n",
        "    i += 1"
      ]
    },
    {
      "cell_type": "markdown",
      "metadata": {
        "id": "dZhOLQhXFLFe"
      },
      "source": [
        "# 온도 단위 바꾸기"
      ]
    },
    {
      "cell_type": "code",
      "execution_count": null,
      "metadata": {
        "colab": {
          "base_uri": "https://localhost:8080/"
        },
        "id": "R8X3HGczFKm-",
        "outputId": "7c4f8138-693e-4643-9dbe-0dc261a9e147"
      },
      "outputs": [
        {
          "name": "stdout",
          "output_type": "stream",
          "text": [
            "화씨 온도 리스트: [40, 15, 32, 64, -4, 11]\n",
            "섭씨 온도 리스트: [4.4, -9.4, 0.0, 17.8, -20.0, -11.7]\n"
          ]
        }
      ],
      "source": [
        "# 화씨 온도에서 섭씨 온도로 바꿔 주는 함수\n",
        "def fahrenheit_to_celsius(fahrenheit):\n",
        "    return (fahrenheit - 32) * 5 / 9\n",
        "    # 코드를 입력하세요.\n",
        "\n",
        "\n",
        "temperature_list = [40, 15, 32, 64, -4, 11]\n",
        "print(\"화씨 온도 리스트: {}\".format(temperature_list))  # 화씨 온도 출력\n",
        "\n",
        "# 리스트의 값들을 화씨에서 섭씨로 변환하는 코드를 입력하세요.\n",
        "\n",
        "i = 0\n",
        "while i < len(temperature_list):\n",
        "    temperature_list[i] = round(fahrenheit_to_celsius(temperature_list[i]), 1)\n",
        "    i += 1\n",
        "print(\"섭씨 온도 리스트: {}\".format(temperature_list))"
      ]
    },
    {
      "cell_type": "markdown",
      "metadata": {
        "id": "vgfY4lrOFQhn"
      },
      "source": [
        "# 환전 서비스"
      ]
    },
    {
      "cell_type": "code",
      "execution_count": null,
      "metadata": {
        "colab": {
          "base_uri": "https://localhost:8080/"
        },
        "id": "VGEqQXlzFKjY",
        "outputId": "c556e0cb-34f0-4108-c396-1f9d354b9f6d"
      },
      "outputs": [
        {
          "name": "stdout",
          "output_type": "stream",
          "text": [
            "한국 화폐: [34000, 13000, 5000, 21000, 1000, 2000, 8000, 3000]\n",
            "미국 화폐: [34.0, 13.0, 5.0, 21.0, 1.0, 2.0, 8.0, 3.0]\n",
            "일본 화폐: [4250.0, 1625.0, 625.0, 2625.0, 125.0, 250.0, 1000.0, 375.0]\n"
          ]
        }
      ],
      "source": [
        "# 원화(￦)에서 달러($)로 변환하는 함수\n",
        "def krw_to_usd(krw):\n",
        "    return krw / 1000\n",
        "    # 코드를 입력하세요.\n",
        "\n",
        "\n",
        "# 달러($)에서 엔화(￥)로 변환하는 함수\n",
        "def usd_to_jpy(usd):\n",
        "    return usd / 8 * 1000\n",
        "    # 코드를 입력하세요.\n",
        "\n",
        "\n",
        "# 원화(￦)으로 각각 얼마인가요?\n",
        "prices = [34000, 13000, 5000, 21000, 1000, 2000, 8000, 3000]\n",
        "print(\"한국 화폐: \" + str(prices))\n",
        " \n",
        "# prices를 원화(￦)에서 달러($)로 변환하기\n",
        "# 코드를 입력하세요.\n",
        "\n",
        "# 달러($)로 각각 얼마인가요?\n",
        "i = 0\n",
        "while i < len(prices):\n",
        "    prices[i] = round(krw_to_usd(prices[i]), 1)\n",
        "    i += 1\n",
        "print(\"미국 화폐: \" + str(prices))\n",
        "\n",
        "# prices를 달러($)에서 엔화(￥)으로 변환하기\n",
        "# 코드를 입력하세요.\n",
        "\n",
        "# 엔화(￥)으로 각각 얼마인가요?\n",
        "i = 0\n",
        "while i < len(prices):\n",
        "    prices[i] = round(usd_to_jpy(prices[i]), 1)\n",
        "    i += 1\n",
        "print(\"일본 화폐: \" + str(prices))"
      ]
    },
    {
      "cell_type": "markdown",
      "metadata": {
        "id": "7N_swIfiFYTt"
      },
      "source": [
        "# 리스트 함수 활용"
      ]
    },
    {
      "cell_type": "code",
      "execution_count": null,
      "metadata": {
        "colab": {
          "base_uri": "https://localhost:8080/"
        },
        "id": "JZc7Y679FUgw",
        "outputId": "502a9594-1bc5-4c66-daff-d6cbcae417aa"
      },
      "outputs": [
        {
          "name": "stdout",
          "output_type": "stream",
          "text": [
            "[]\n",
            "[1, 7, 3, 6, 5, 2, 13, 14]\n",
            "[6, 2, 14]\n",
            "[20, 6, 2, 14]\n",
            "[2, 6, 14, 20]\n"
          ]
        }
      ],
      "source": [
        "# 빈 리스트 만들기\n",
        "numbers = []\n",
        "print(numbers)\n",
        "\n",
        "# numbers에 값들 추가\n",
        "# 코드를 입력하세요\n",
        "numbers.append(1)\n",
        "numbers.append(7)\n",
        "numbers.append(3)\n",
        "numbers.append(6)\n",
        "numbers.append(5)\n",
        "numbers.append(2)\n",
        "numbers.append(13)\n",
        "numbers.append(14)\n",
        "print(numbers)\n",
        "\n",
        "# numbers에서 홀수 제거\n",
        "# 코드를 입력하세요\n",
        "i = 0\n",
        "while i < len(numbers):\n",
        "    if numbers[i] % 2 == 1:\n",
        "        del numbers[i]\n",
        "    else:\n",
        "        i += 1\n",
        "print(numbers)\n",
        "\n",
        "# numbers의 인덱스 0 자리에 20이라는 값 삽입\n",
        "# 코드를 입력하세요\n",
        "numbers.insert(0, 20)\n",
        "print(numbers)\n",
        "\n",
        "# numbers를 정렬해서 출력\n",
        "# 코드를 입력하세요\n",
        "numbers.sort()\n",
        "print(numbers)\n"
      ]
    },
    {
      "cell_type": "markdown",
      "metadata": {
        "id": "NVQgMKD0FgJf"
      },
      "source": [
        "# 리스트 안에 값 확인"
      ]
    },
    {
      "cell_type": "code",
      "execution_count": null,
      "metadata": {
        "colab": {
          "base_uri": "https://localhost:8080/"
        },
        "id": "7gvb9V0PFUd3",
        "outputId": "4c77bbd0-17c5-48bd-bc68-5f882c971806"
      },
      "outputs": [
        {
          "name": "stdout",
          "output_type": "stream",
          "text": [
            "True\n",
            "False\n"
          ]
        }
      ],
      "source": [
        "# value가 some_list의 요소인지 확인\n",
        "def in_list(some_list, value):\n",
        "    i = 0\n",
        "    while i < len(some_list):\n",
        "        # some_list에서 value를 찾으면 True를 리턴\n",
        "        if some_list[i] == value:\n",
        "            return True\n",
        "        i = i + 1\n",
        "\n",
        "    # 만약 some_list에서 value를 발견하지 못했으면 False를 리턴\n",
        "    return False\n",
        "\n",
        "# 테스트\n",
        "primes = [2, 3, 5, 7, 11, 13, 17, 19, 23]\n",
        "print(in_list(primes, 7))\n",
        "print(in_list(primes, 12))"
      ]
    },
    {
      "cell_type": "markdown",
      "metadata": {
        "id": "UIsE9Rs0FwP-"
      },
      "source": [
        "# sort"
      ]
    },
    {
      "cell_type": "code",
      "execution_count": null,
      "metadata": {
        "colab": {
          "base_uri": "https://localhost:8080/"
        },
        "id": "iBUYKMDdFUZP",
        "outputId": "325a80dd-86f6-496d-92b0-64f4ec98a874"
      },
      "outputs": [
        {
          "name": "stdout",
          "output_type": "stream",
          "text": [
            "[1, 3, 5, 7]\n"
          ]
        }
      ],
      "source": [
        "numbers = [5, 3, 7, 1]\n",
        "numbers.sort()\n",
        "print(numbers)"
      ]
    },
    {
      "cell_type": "markdown",
      "metadata": {
        "id": "m69dpqRWFyE_"
      },
      "source": [
        "# reverse"
      ]
    },
    {
      "cell_type": "code",
      "execution_count": null,
      "metadata": {
        "colab": {
          "base_uri": "https://localhost:8080/"
        },
        "id": "tFlbFPPtFoPf",
        "outputId": "87692e98-12df-404f-ea5d-45b410455345"
      },
      "outputs": [
        {
          "name": "stdout",
          "output_type": "stream",
          "text": [
            "[1, 7, 3, 5]\n"
          ]
        }
      ],
      "source": [
        "numbers = [5, 3, 7, 1]\n",
        "numbers.reverse()\n",
        "print(numbers)"
      ]
    },
    {
      "cell_type": "markdown",
      "metadata": {
        "id": "zuEOfjhqF0vW"
      },
      "source": [
        "# index"
      ]
    },
    {
      "cell_type": "code",
      "execution_count": null,
      "metadata": {
        "colab": {
          "base_uri": "https://localhost:8080/"
        },
        "id": "o2xQpyRcFoNA",
        "outputId": "a271f5e6-7182-489e-e0f0-7204a598224a"
      },
      "outputs": [
        {
          "name": "stdout",
          "output_type": "stream",
          "text": [
            "1\n",
            "2\n"
          ]
        }
      ],
      "source": [
        "members = [\"영훈\", \"윤수\", \"태호\", \"혜린\"]\n",
        "print(members.index(\"윤수\"))\n",
        "print(members.index(\"태호\"))"
      ]
    },
    {
      "cell_type": "markdown",
      "metadata": {
        "id": "s8F6r8kSF2qu"
      },
      "source": [
        "# remove"
      ]
    },
    {
      "cell_type": "code",
      "execution_count": null,
      "metadata": {
        "colab": {
          "base_uri": "https://localhost:8080/"
        },
        "id": "P9HDoJA7FoKX",
        "outputId": "7ed17f3d-4506-42a2-8320-76e5e258f572"
      },
      "outputs": [
        {
          "name": "stdout",
          "output_type": "stream",
          "text": [
            "['딸기', '당근', '수박', '참외', '메론']\n"
          ]
        }
      ],
      "source": [
        "fruits = [\"딸기\", \"당근\", \"파인애플\", \"수박\", \"참외\", \"메론\"]\n",
        "fruits.remove(\"파인애플\")\n",
        "print(fruits)"
      ]
    },
    {
      "cell_type": "markdown",
      "metadata": {
        "id": "WzCltdsiGAle"
      },
      "source": [
        "# range"
      ]
    },
    {
      "cell_type": "code",
      "execution_count": null,
      "metadata": {
        "colab": {
          "base_uri": "https://localhost:8080/"
        },
        "id": "GauK9eHEFsHH",
        "outputId": "f6729f9f-c5fe-4a5b-a497-a380d7d7e5d2"
      },
      "outputs": [
        {
          "name": "stdout",
          "output_type": "stream",
          "text": [
            "0 2\n",
            "1 3\n",
            "2 5\n",
            "3 7\n",
            "4 11\n",
            "5 13\n",
            "6 17\n",
            "7 19\n",
            "8 23\n",
            "9 29\n",
            "10 31\n"
          ]
        }
      ],
      "source": [
        "numbers = [2, 3, 5, 7, 11, 13, 17, 19, 23, 29, 31]\n",
        "for i in range(len(numbers)):\n",
        "    print(i, numbers[i])"
      ]
    },
    {
      "cell_type": "markdown",
      "metadata": {
        "id": "-FBRyNwnGEvW"
      },
      "source": [
        "# 거듭제곱"
      ]
    },
    {
      "cell_type": "code",
      "execution_count": null,
      "metadata": {
        "colab": {
          "base_uri": "https://localhost:8080/"
        },
        "id": "rxPQuNi1FsD_",
        "outputId": "f15e9f33-4db2-4d4c-af47-7a6221da0e9a"
      },
      "outputs": [
        {
          "name": "stdout",
          "output_type": "stream",
          "text": [
            "2^0 = 1\n",
            "2^1 = 2\n",
            "2^2 = 4\n",
            "2^3 = 8\n",
            "2^4 = 16\n",
            "2^5 = 32\n",
            "2^6 = 64\n",
            "2^7 = 128\n",
            "2^8 = 256\n",
            "2^9 = 512\n",
            "2^10 = 1024\n"
          ]
        }
      ],
      "source": [
        "for i in range(0, 11):\n",
        "    print(f\"2^{i} = {2**i}\")"
      ]
    },
    {
      "cell_type": "markdown",
      "metadata": {
        "id": "xoQxvD3iGIL0"
      },
      "source": [
        "# 구구단"
      ]
    },
    {
      "cell_type": "code",
      "execution_count": null,
      "metadata": {
        "colab": {
          "base_uri": "https://localhost:8080/"
        },
        "id": "2ytPkXvyGKW_",
        "outputId": "7afc61fe-5e8f-4942-ba79-57ba95f8d994"
      },
      "outputs": [
        {
          "name": "stdout",
          "output_type": "stream",
          "text": [
            "1 * 1 = 1\n",
            "1 * 2 = 2\n",
            "1 * 3 = 3\n",
            "1 * 4 = 4\n",
            "1 * 5 = 5\n",
            "1 * 6 = 6\n",
            "1 * 7 = 7\n",
            "1 * 8 = 8\n",
            "1 * 9 = 9\n",
            "2 * 1 = 2\n",
            "2 * 2 = 4\n",
            "2 * 3 = 6\n",
            "2 * 4 = 8\n",
            "2 * 5 = 10\n",
            "2 * 6 = 12\n",
            "2 * 7 = 14\n",
            "2 * 8 = 16\n",
            "2 * 9 = 18\n",
            "3 * 1 = 3\n",
            "3 * 2 = 6\n",
            "3 * 3 = 9\n",
            "3 * 4 = 12\n",
            "3 * 5 = 15\n",
            "3 * 6 = 18\n",
            "3 * 7 = 21\n",
            "3 * 8 = 24\n",
            "3 * 9 = 27\n",
            "4 * 1 = 4\n",
            "4 * 2 = 8\n",
            "4 * 3 = 12\n",
            "4 * 4 = 16\n",
            "4 * 5 = 20\n",
            "4 * 6 = 24\n",
            "4 * 7 = 28\n",
            "4 * 8 = 32\n",
            "4 * 9 = 36\n",
            "5 * 1 = 5\n",
            "5 * 2 = 10\n",
            "5 * 3 = 15\n",
            "5 * 4 = 20\n",
            "5 * 5 = 25\n",
            "5 * 6 = 30\n",
            "5 * 7 = 35\n",
            "5 * 8 = 40\n",
            "5 * 9 = 45\n",
            "6 * 1 = 6\n",
            "6 * 2 = 12\n",
            "6 * 3 = 18\n",
            "6 * 4 = 24\n",
            "6 * 5 = 30\n",
            "6 * 6 = 36\n",
            "6 * 7 = 42\n",
            "6 * 8 = 48\n",
            "6 * 9 = 54\n",
            "7 * 1 = 7\n",
            "7 * 2 = 14\n",
            "7 * 3 = 21\n",
            "7 * 4 = 28\n",
            "7 * 5 = 35\n",
            "7 * 6 = 42\n",
            "7 * 7 = 49\n",
            "7 * 8 = 56\n",
            "7 * 9 = 63\n",
            "8 * 1 = 8\n",
            "8 * 2 = 16\n",
            "8 * 3 = 24\n",
            "8 * 4 = 32\n",
            "8 * 5 = 40\n",
            "8 * 6 = 48\n",
            "8 * 7 = 56\n",
            "8 * 8 = 64\n",
            "8 * 9 = 72\n",
            "9 * 1 = 9\n",
            "9 * 2 = 18\n",
            "9 * 3 = 27\n",
            "9 * 4 = 36\n",
            "9 * 5 = 45\n",
            "9 * 6 = 54\n",
            "9 * 7 = 63\n",
            "9 * 8 = 72\n",
            "9 * 9 = 81\n"
          ]
        }
      ],
      "source": [
        "for i in range(1, 10):\n",
        "    for j in range(1, 10):\n",
        "        print(\"{} * {} = {}\".format(i, j, i * j))"
      ]
    },
    {
      "cell_type": "markdown",
      "metadata": {
        "id": "RfXO8xS5GNUX"
      },
      "source": [
        "# 피타고라스 삼조"
      ]
    },
    {
      "cell_type": "code",
      "execution_count": null,
      "metadata": {
        "colab": {
          "base_uri": "https://localhost:8080/"
        },
        "id": "J0JBOHhvGLIQ",
        "outputId": "30203e79-197c-4343-a990-b3d0c76ccfb7"
      },
      "outputs": [
        {
          "name": "stdout",
          "output_type": "stream",
          "text": [
            "2040000\n"
          ]
        }
      ],
      "source": [
        "for a in range(1, 400):\n",
        "    for b in range(1, 400):\n",
        "        c = 400 - a - b\n",
        "        if a * a + b * b == c * c and a < b < c:\n",
        "            print(a * b * c)"
      ]
    },
    {
      "cell_type": "markdown",
      "metadata": {
        "id": "33y8NoAXGRkn"
      },
      "source": [
        "# 리스트 뒤집기"
      ]
    },
    {
      "cell_type": "code",
      "execution_count": null,
      "metadata": {
        "colab": {
          "base_uri": "https://localhost:8080/"
        },
        "id": "RKQEzQOCGLFW",
        "outputId": "355d7006-f68d-4705-ae96-821379eaedc0"
      },
      "outputs": [
        {
          "name": "stdout",
          "output_type": "stream",
          "text": [
            "뒤집어진 리스트: [19, 17, 13, 11, 7, 5, 3, 2]\n"
          ]
        }
      ],
      "source": [
        "numbers = [2, 3, 5, 7, 11, 13, 17, 19]\n",
        "\n",
        "# 리스트 뒤집기\n",
        "# 코드를 입력하세요.\n",
        "for left in range(len(numbers) // 2):\n",
        "    right = len(numbers) - left - 1\n",
        "    \n",
        "    temp = numbers[left]\n",
        "    numbers[left] = numbers[right]\n",
        "    numbers[right] = temp\n",
        "\n",
        "print(\"뒤집어진 리스트: \" + str(numbers))"
      ]
    },
    {
      "cell_type": "markdown",
      "metadata": {
        "id": "JGv89TMhGWd_"
      },
      "source": [
        "# 영어 단어장"
      ]
    },
    {
      "cell_type": "code",
      "execution_count": null,
      "metadata": {
        "colab": {
          "base_uri": "https://localhost:8080/"
        },
        "id": "T0AsXeLGGV6O",
        "outputId": "7c87acc1-5c9e-4e3d-9442-169c996e2980"
      },
      "outputs": [
        {
          "name": "stdout",
          "output_type": "stream",
          "text": [
            "{'sanitizer': '살균제', 'ambition': '야망', 'conscience': '양심', 'civilization': '문명'}\n",
            "{'sanitizer': '살균제', 'ambition': '야망', 'conscience': '양심', 'civilization': '문명', 'privilege': '특권', 'principle': '원칙'}\n"
          ]
        }
      ],
      "source": [
        "# 1. 단어장 만들기\n",
        "vocab = {'sanitizer': '살균제', \n",
        "        'ambition': '야망', \n",
        "        'conscience': '양심', \n",
        "        'civilization': '문명'\n",
        "}\n",
        "\n",
        "print(vocab)\n",
        "\n",
        "\n",
        "# 2. 새로운 단어들 추가\n",
        "vocab['privilege'] = '특권'\n",
        "vocab['principle'] = '원칙'\n",
        "# 코드를 입력하세요.\n",
        "print(vocab)"
      ]
    },
    {
      "cell_type": "markdown",
      "metadata": {
        "id": "Tyv8NZMdGaxu"
      },
      "source": [
        "# 사전 뒤집기"
      ]
    },
    {
      "cell_type": "code",
      "execution_count": null,
      "metadata": {
        "colab": {
          "base_uri": "https://localhost:8080/"
        },
        "id": "C9QLhYwxGX8P",
        "outputId": "1b8f0896-ce25-4812-f61f-26b37386ce68"
      },
      "outputs": [
        {
          "name": "stdout",
          "output_type": "stream",
          "text": [
            "영-한 단어장\n",
            "{'sanitizer': '살균제', 'ambition': '야망', 'conscience': '양심', 'civilization': '문명', 'privilege': '특권', 'principles': '원칙'}\n",
            "\n",
            "한-영 단어장\n",
            "{'살균제': 'sanitizer', '야망': 'ambition', '양심': 'conscience', '문명': 'civilization', '특권': 'privilege', '원칙': 'principles'}\n"
          ]
        }
      ],
      "source": [
        "# 언어 사전의 단어와 뜻을 서로 바꿔주는 함수\n",
        "def reverse_dict(dict):\n",
        "    new_dict = {}  # 새로운 사전\n",
        "    \n",
        "    # dict의 key와 value를 뒤집어서 new_dict에 저장\n",
        "    # 코드를 입력하세요.\n",
        "    for key, value in dict.items():\n",
        "        new_dict[value] = key\n",
        "    \n",
        "    return new_dict  # 변환한 새로운 사전 리턴\n",
        "\n",
        "\n",
        "# 영-한 단어장\n",
        "vocab = {\n",
        "    'sanitizer': '살균제',\n",
        "    'ambition': '야망',\n",
        "    'conscience': '양심',\n",
        "    'civilization': '문명',\n",
        "    'privilege': '특권',\n",
        "    'principles': '원칙'\n",
        "}\n",
        "\n",
        "# 기존 단어장 출력\n",
        "print(\"영-한 단어장\\n{}\\n\".format(vocab))\n",
        "\n",
        "# 변환된 단어장 출력\n",
        "reversed_vocab = reverse_dict(vocab)\n",
        "print(\"한-영 단어장\\n{}\".format(reversed_vocab))"
      ]
    },
    {
      "cell_type": "markdown",
      "metadata": {
        "id": "zP4vdv3VGfQg"
      },
      "source": [
        "# 투표 집계하기"
      ]
    },
    {
      "cell_type": "code",
      "execution_count": null,
      "metadata": {
        "colab": {
          "base_uri": "https://localhost:8080/"
        },
        "id": "nBWmnDZeGX4-",
        "outputId": "6dd42ea7-8d58-4759-9e73-15945eaff54d"
      },
      "outputs": [
        {
          "name": "stdout",
          "output_type": "stream",
          "text": [
            "{'김영자': 11, '강승기': 6, '최만수': 8}\n"
          ]
        }
      ],
      "source": [
        "# 투표 결과 리스트\n",
        "votes = ['김영자', '강승기', '최만수', '김영자', '강승기', '강승기', '최만수', '김영자', \\\n",
        "'최만수', '김영자', '최만수', '김영자', '김영자', '최만수', '최만수', '최만수', '강승기', \\\n",
        "'강승기', '김영자', '김영자', '최만수', '김영자', '김영자', '강승기', '김영자']\n",
        "\n",
        "# 후보별 득표수 사전\n",
        "vote_counter = {}\n",
        "\n",
        "# 리스트 votes를 이용해서 사전 vote_counter를 정리하기\n",
        "for name in votes:\n",
        "    if name not in vote_counter:\n",
        "        vote_counter[name] = 1\n",
        "    else:\n",
        "        vote_counter[name] += 1\n",
        "    # 코드를 작성하세요.\n",
        "\n",
        "# 후보별 득표수 출력\n",
        "print(vote_counter)"
      ]
    },
    {
      "cell_type": "markdown",
      "metadata": {
        "id": "tOjNmTAHGrgn"
      },
      "source": [
        "# 자릿수 합 구하기"
      ]
    },
    {
      "cell_type": "code",
      "execution_count": null,
      "metadata": {
        "colab": {
          "base_uri": "https://localhost:8080/"
        },
        "id": "M17VzTjoGX2m",
        "outputId": "d4095f54-7e94-4d69-97db-9c761d925924"
      },
      "outputs": [
        {
          "name": "stdout",
          "output_type": "stream",
          "text": [
            "13501\n"
          ]
        }
      ],
      "source": [
        "# 자리수 합 리턴\n",
        "def sum_digit(num):\n",
        "    total = 0\n",
        "    str_num = str(num)\n",
        "    \n",
        "    for digit in str_num:\n",
        "        total += int(digit)\n",
        "        \n",
        "    return total\n",
        "    # 코드를 입력하세요.\n",
        "\n",
        "\n",
        "# sum_digit(1)부터 sum_digit(1000)까지의 합 구하기\n",
        "# 코드를 입력하세요.\n",
        "digit_total = 0\n",
        "for i in range(1, 1001):\n",
        "    digit_total += sum_digit(i)\n",
        "\n",
        "print(digit_total)"
      ]
    },
    {
      "cell_type": "markdown",
      "metadata": {
        "id": "OGtQx9mCGz2G"
      },
      "source": [
        "# 주민등록번호 가리기"
      ]
    },
    {
      "cell_type": "code",
      "execution_count": null,
      "metadata": {
        "id": "Hp1gQZZbGujJ"
      },
      "outputs": [],
      "source": [
        "def mask_security_number(security_number):\n",
        "    # security_number를 리스트로 변환\n",
        "    num_list = list(security_number)\n",
        "\n",
        "    # 마지막 네 값을 *로 대체\n",
        "    for i in range(len(num_list) - 4, len(num_list)):\n",
        "        num_list[i] = \"*\"\n",
        "\n",
        "    # 리스트를 문자열로 복구\n",
        "    total_str = \"\"\n",
        "    for i in range(len(num_list)):\n",
        "        total_str += num_list[i]\n",
        "\n",
        "    return total_str"
      ]
    },
    {
      "cell_type": "code",
      "execution_count": null,
      "metadata": {
        "id": "ruBekkKbGug3"
      },
      "outputs": [],
      "source": [
        "def mask_security_number(security_number):\n",
        "    num_list = list(security_number)\n",
        "\n",
        "    # 마지막 네 값을 *로 대체\n",
        "    for i in range(len(num_list) - 4, len(num_list)):\n",
        "        num_list[i] = '*'\n",
        "\n",
        "    # 리스트를 문자열로 복구하여 반환\n",
        "    return ''.join(num_list)"
      ]
    },
    {
      "cell_type": "code",
      "execution_count": null,
      "metadata": {
        "colab": {
          "base_uri": "https://localhost:8080/"
        },
        "id": "XnDtSRspG8jw",
        "outputId": "f02c57f7-4ea0-451b-ca36-ab85eb8b2765"
      },
      "outputs": [
        {
          "name": "stdout",
          "output_type": "stream",
          "text": [
            "880720-123****\n",
            "880720123****\n",
            "930124-765****\n",
            "930124765****\n",
            "761214-235****\n",
            "761214235****\n"
          ]
        }
      ],
      "source": [
        "def mask_security_number(security_number):\n",
        "    return security_number[:-4] + '****'\n",
        "\n",
        "\n",
        "# 테스트\n",
        "print(mask_security_number(\"880720-1234567\"))\n",
        "print(mask_security_number(\"8807201234567\"))\n",
        "print(mask_security_number(\"930124-7654321\"))\n",
        "print(mask_security_number(\"9301247654321\"))\n",
        "print(mask_security_number(\"761214-2357111\"))\n",
        "print(mask_security_number(\"7612142357111\"))"
      ]
    },
    {
      "cell_type": "markdown",
      "metadata": {
        "id": "3TF9IoCcHDeN"
      },
      "source": [
        "# 패린드롬"
      ]
    },
    {
      "cell_type": "code",
      "execution_count": null,
      "metadata": {
        "colab": {
          "base_uri": "https://localhost:8080/"
        },
        "id": "yeYmmoBEHB_m",
        "outputId": "70e905ef-289a-4501-dc8b-04b963793332"
      },
      "outputs": [
        {
          "name": "stdout",
          "output_type": "stream",
          "text": [
            "True\n",
            "False\n",
            "True\n",
            "True\n",
            "False\n"
          ]
        }
      ],
      "source": [
        "def is_palindrome(word):\n",
        "    for left in range(len(word) // 2):\n",
        "        right = len(word) - left - 1\n",
        "        if word[left] != word[right]:\n",
        "            return False\n",
        "            \n",
        "    return True\n",
        "    # 코드를 입력하세요.\n",
        "\n",
        "\n",
        "# 테스트\n",
        "print(is_palindrome(\"racecar\"))\n",
        "print(is_palindrome(\"stars\"))\n",
        "print(is_palindrome(\"토마토\"))\n",
        "print(is_palindrome(\"kayak\"))\n",
        "print(is_palindrome(\"hello\"))"
      ]
    },
    {
      "cell_type": "markdown",
      "metadata": {
        "id": "8UTkE8mmHdSm"
      },
      "source": [
        "# randint"
      ]
    },
    {
      "cell_type": "code",
      "execution_count": null,
      "metadata": {
        "colab": {
          "base_uri": "https://localhost:8080/"
        },
        "id": "vIoUKmpLHc46",
        "outputId": "0791ff89-98a7-42d8-d76a-ac1f440abeb7"
      },
      "outputs": [
        {
          "name": "stdout",
          "output_type": "stream",
          "text": [
            "18\n",
            "16\n",
            "1\n",
            "6\n",
            "7\n"
          ]
        }
      ],
      "source": [
        "import random\n",
        "\n",
        "print(random.randint(1, 20))\n",
        "print(random.randint(1, 20))\n",
        "print(random.randint(1, 20))\n",
        "print(random.randint(1, 20))\n",
        "print(random.randint(1, 20))"
      ]
    },
    {
      "cell_type": "markdown",
      "metadata": {
        "id": "DVqnP157HlbH"
      },
      "source": [
        "# uniform"
      ]
    },
    {
      "cell_type": "code",
      "execution_count": null,
      "metadata": {
        "colab": {
          "base_uri": "https://localhost:8080/"
        },
        "id": "jZDLms4HHgzv",
        "outputId": "6bbbca01-7ac9-4892-a7f5-b465d8ea5298"
      },
      "outputs": [
        {
          "name": "stdout",
          "output_type": "stream",
          "text": [
            "0.2640740022268232\n",
            "0.6004608910440766\n",
            "0.6298970435878651\n",
            "0.4291642829573856\n",
            "0.9604931269282907\n"
          ]
        }
      ],
      "source": [
        "import random\n",
        "\n",
        "print(random.uniform(0, 1))\n",
        "print(random.uniform(0, 1))\n",
        "print(random.uniform(0, 1))\n",
        "print(random.uniform(0, 1))\n",
        "print(random.uniform(0, 1))"
      ]
    },
    {
      "cell_type": "markdown",
      "metadata": {
        "id": "8O-jopeEIFRe"
      },
      "source": [
        "# datetime"
      ]
    },
    {
      "cell_type": "code",
      "execution_count": null,
      "metadata": {
        "id": "ep52u1wrH9wJ"
      },
      "outputs": [],
      "source": [
        "import datetime"
      ]
    },
    {
      "cell_type": "code",
      "execution_count": null,
      "metadata": {
        "colab": {
          "base_uri": "https://localhost:8080/"
        },
        "id": "9aQfpMxhH2VI",
        "outputId": "525b1ca4-8367-4da8-b490-c6039d12dab7"
      },
      "outputs": [
        {
          "name": "stdout",
          "output_type": "stream",
          "text": [
            "2020-03-14 00:00:00\n",
            "<class 'datetime.datetime'>\n"
          ]
        }
      ],
      "source": [
        "pi_day = datetime.datetime(2020, 3, 14)\n",
        "print(pi_day)\n",
        "print(type(pi_day))"
      ]
    },
    {
      "cell_type": "code",
      "execution_count": null,
      "metadata": {
        "colab": {
          "base_uri": "https://localhost:8080/"
        },
        "id": "ZR6G8E5jH3lw",
        "outputId": "6ba2ee05-101b-4017-ae19-e3aa0442f6f2"
      },
      "outputs": [
        {
          "name": "stdout",
          "output_type": "stream",
          "text": [
            "2020-03-14 13:06:15\n",
            "<class 'datetime.datetime'>\n"
          ]
        }
      ],
      "source": [
        "pi_day = datetime.datetime(2020, 3, 14, 13, 6, 15)\n",
        "print(pi_day)\n",
        "print(type(pi_day))"
      ]
    },
    {
      "cell_type": "code",
      "execution_count": null,
      "metadata": {
        "colab": {
          "base_uri": "https://localhost:8080/"
        },
        "id": "ZX6hvcCUH49P",
        "outputId": "fae72595-6c36-47ed-8288-0fb1651ae799"
      },
      "outputs": [
        {
          "name": "stdout",
          "output_type": "stream",
          "text": [
            "2022-06-29 15:41:30.060093\n",
            "<class 'datetime.datetime'>\n"
          ]
        }
      ],
      "source": [
        "today = datetime.datetime.now()\n",
        "print(today)\n",
        "print(type(today))"
      ]
    },
    {
      "cell_type": "code",
      "execution_count": null,
      "metadata": {
        "colab": {
          "base_uri": "https://localhost:8080/"
        },
        "id": "OW_u5fkJH6UT",
        "outputId": "daca5637-d780-4b74-cbfc-1e0c763ae91f"
      },
      "outputs": [
        {
          "name": "stdout",
          "output_type": "stream",
          "text": [
            "837 days, 2:35:16.704045\n",
            "<class 'datetime.timedelta'>\n"
          ]
        }
      ],
      "source": [
        "today = datetime.datetime.now()\n",
        "pi_day = datetime.datetime(2020, 3, 14, 13, 6, 15)\n",
        "print(today - pi_day)\n",
        "print(type(today - pi_day))"
      ]
    },
    {
      "cell_type": "code",
      "execution_count": null,
      "metadata": {
        "colab": {
          "base_uri": "https://localhost:8080/"
        },
        "id": "7ijl_ilfIEfu",
        "outputId": "0892717b-736c-4d96-e065-d8c8f1e432a0"
      },
      "outputs": [
        {
          "name": "stdout",
          "output_type": "stream",
          "text": [
            "2022-06-29 15:42:06.756016\n",
            "2022-07-04 18:52:56.756016\n"
          ]
        }
      ],
      "source": [
        "today = datetime.datetime.now()\n",
        "my_timedelta = datetime.timedelta(days=5, hours=3, minutes=10, seconds=50)\n",
        "\n",
        "print(today)\n",
        "print(today + my_timedelta)"
      ]
    },
    {
      "cell_type": "code",
      "execution_count": null,
      "metadata": {
        "colab": {
          "base_uri": "https://localhost:8080/"
        },
        "id": "hW9TXQG0IJrA",
        "outputId": "8c9ee714-75c8-4917-b8f0-d09570f68b3e"
      },
      "outputs": [
        {
          "name": "stdout",
          "output_type": "stream",
          "text": [
            "2022-06-29 15:42:16.128221\n",
            "2022\n",
            "6\n",
            "29\n",
            "15\n",
            "42\n",
            "16\n",
            "128221\n"
          ]
        }
      ],
      "source": [
        "today = datetime.datetime.now()\n",
        "\n",
        "print(today)\n",
        "print(today.year)  # 연도\n",
        "print(today.month)  # 월\n",
        "print(today.day)  # 일\n",
        "print(today.hour)  # 시\n",
        "print(today.minute)  # 분\n",
        "print(today.second)  # 초\n",
        "print(today.microsecond)  # 마이크로초"
      ]
    },
    {
      "cell_type": "code",
      "execution_count": null,
      "metadata": {
        "colab": {
          "base_uri": "https://localhost:8080/"
        },
        "id": "2MvKWAhXILNR",
        "outputId": "9069ca98-03ba-4f65-fcd1-a1ef02981dc6"
      },
      "outputs": [
        {
          "name": "stdout",
          "output_type": "stream",
          "text": [
            "2022-06-29 15:42:32.664365\n",
            "Wednesday, June 29th 2022\n"
          ]
        }
      ],
      "source": [
        "today = datetime.datetime.now()\n",
        "\n",
        "print(today)\n",
        "print(today.strftime(\"%A, %B %dth %Y\"))"
      ]
    },
    {
      "cell_type": "code",
      "execution_count": 1,
      "metadata": {
        "colab": {
          "base_uri": "https://localhost:8080/"
        },
        "id": "7jTKvehIILIu",
        "outputId": "c08be761-dd05-43bb-bdd8-6bf03bdd4a92"
      },
      "outputs": [
        {
          "output_type": "stream",
          "name": "stdout",
          "text": [
            "기회가 4번 남았습니다. 1-20 사이의 숫자를 맞혀보세요: 10\n",
            "Up\n",
            "기회가 3번 남았습니다. 1-20 사이의 숫자를 맞혀보세요: 50\n",
            "Down\n",
            "기회가 2번 남았습니다. 1-20 사이의 숫자를 맞혀보세요: 60\n",
            "Down\n",
            "기회가 1번 남았습니다. 1-20 사이의 숫자를 맞혀보세요: 1\n",
            "Up\n",
            "아쉽습니다. 정답은 18입니다.\n"
          ]
        }
      ],
      "source": [
        "import random\n",
        "\n",
        "# 상수 정의\n",
        "ANSWER = random.randint(1, 20)\n",
        "NUM_TRIES = 4\n",
        "\n",
        "# 변수 정의\n",
        "guess = -1\n",
        "tries = 0\n",
        "\n",
        "while guess != ANSWER and tries < NUM_TRIES:\n",
        "    guess = int(input(\"기회가 {}번 남았습니다. 1-20 사이의 숫자를 맞혀보세요: \".format(NUM_TRIES - tries)))\n",
        "    tries += 1    \n",
        "    \n",
        "    if ANSWER > guess:\n",
        "        print(\"Up\")\n",
        "    elif ANSWER < guess:\n",
        "        print(\"Down\")\n",
        "\n",
        "if guess == ANSWER:\n",
        "    print(\"축하합니다. {}번 만에 숫자를 맞히셨습니다.\".format(tries))\n",
        "else:\n",
        "    print(\"아쉽습니다. 정답은 {}입니다.\".format(ANSWER))"
      ]
    },
    {
      "cell_type": "markdown",
      "metadata": {
        "id": "KBpaHBbyMzMM"
      },
      "source": [
        "# 파일 열기"
      ]
    },
    {
      "cell_type": "code",
      "execution_count": null,
      "metadata": {
        "id": "-5ZLy0QyMuD9"
      },
      "outputs": [],
      "source": [
        "with open('data/chicken.txt', 'r') as f:\n",
        "    for line in f:\n",
        "        print(line)"
      ]
    }
  ],
  "metadata": {
    "colab": {
      "collapsed_sections": [],
      "name": " Codeit_sum.ipynb",
      "provenance": []
    },
    "kernelspec": {
      "display_name": "Python 3",
      "name": "python3"
    },
    "language_info": {
      "name": "python"
    }
  },
  "nbformat": 4,
  "nbformat_minor": 0
}