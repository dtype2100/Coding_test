{
  "nbformat": 4,
  "nbformat_minor": 0,
  "metadata": {
    "colab": {
      "provenance": [],
      "authorship_tag": "ABX9TyMnlSE2/3MUnKZ2JOr2BNs4",
      "include_colab_link": true
    },
    "kernelspec": {
      "name": "python3",
      "display_name": "Python 3"
    },
    "language_info": {
      "name": "python"
    }
  },
  "cells": [
    {
      "cell_type": "markdown",
      "metadata": {
        "id": "view-in-github",
        "colab_type": "text"
      },
      "source": [
        "<a href=\"https://colab.research.google.com/github/dtype2100/Coding_test/blob/master/221023_pro.ipynb\" target=\"_parent\"><img src=\"https://colab.research.google.com/assets/colab-badge.svg\" alt=\"Open In Colab\"/></a>"
      ]
    },
    {
      "cell_type": "markdown",
      "source": [
        "* [피자 나눠먹기 (2)](https://school.programmers.co.kr/learn/courses/30/lessons/120816)"
      ],
      "metadata": {
        "id": "IIFNcj3GPzin"
      }
    },
    {
      "cell_type": "code",
      "source": [
        "def solution(slice, n):\n",
        "  answer = 0\n",
        "  if n % slice == 0:\n",
        "    answer = n // slice\n",
        "  else:\n",
        "    answer = (n // slice) + 1\n",
        "  return round(answer)"
      ],
      "metadata": {
        "id": "oBdLKEiGPyjw"
      },
      "execution_count": null,
      "outputs": []
    },
    {
      "cell_type": "code",
      "source": [
        "# 다른 문제 풀이\n",
        "def solution(slice, n):\n",
        "    d, m = divmod(n, slice)\n",
        "    return d + int(m != 0)"
      ],
      "metadata": {
        "id": "E72kA55wOvJP"
      },
      "execution_count": null,
      "outputs": []
    },
    {
      "cell_type": "code",
      "source": [
        "# 다른 문제 풀이\n",
        "def solution(slice, n):\n",
        "    return ((n - 1) // slice) + 1"
      ],
      "metadata": {
        "id": "yjTBaCs2QCcH"
      },
      "execution_count": null,
      "outputs": []
    },
    {
      "cell_type": "markdown",
      "source": [
        "* [최댓값 만들기(1)](https://school.programmers.co.kr/learn/courses/30/lessons/120847)"
      ],
      "metadata": {
        "id": "v3cojmJ-RL-P"
      }
    },
    {
      "cell_type": "code",
      "source": [
        "def solution(numbers):\n",
        "    numbers.sort()\n",
        "    largest = numbers[-1]\n",
        "    second = numbers[-2]\n",
        "    return largest * second"
      ],
      "metadata": {
        "id": "GKSmXq5IT_Nn"
      },
      "execution_count": null,
      "outputs": []
    },
    {
      "cell_type": "code",
      "source": [
        "# 다른 문제 풀이\n",
        "def solution(numbers):\n",
        "    num1 = 0\n",
        "    num2 = 0\n",
        "    answer = 0\n",
        "\n",
        "    numbers.sort()\n",
        "\n",
        "    num1 = numbers.pop()\n",
        "    num2 = numbers.pop()\n",
        "    answer = num1 * num2\n",
        "\n",
        "    return answer"
      ],
      "metadata": {
        "id": "1PHHQ2_NVqkn"
      },
      "execution_count": null,
      "outputs": []
    },
    {
      "cell_type": "markdown",
      "source": [
        "* [자릿수 더하기](https://school.programmers.co.kr/learn/courses/30/lessons/120906)"
      ],
      "metadata": {
        "id": "hrsdAaZCvO1Q"
      }
    },
    {
      "cell_type": "code",
      "source": [
        "def solution(n):\n",
        "  answer = 0 \n",
        "  num = str(n)\n",
        "  for i in num:\n",
        "    answer += int(i)\n",
        "  return answer"
      ],
      "metadata": {
        "id": "UvVzOIW-a_ef"
      },
      "execution_count": null,
      "outputs": []
    },
    {
      "cell_type": "code",
      "source": [
        "# 다른 문제 풀이\n",
        "def solution(n):\n",
        "  return sum(list(map(int, str(n))))"
      ],
      "metadata": {
        "id": "5TFPLNSIfcW5"
      },
      "execution_count": null,
      "outputs": []
    },
    {
      "cell_type": "markdown",
      "source": [
        "* [배열 자르기](https://school.programmers.co.kr/learn/courses/30/lessons/120833)"
      ],
      "metadata": {
        "id": "lMrllB5XuCRZ"
      }
    },
    {
      "cell_type": "code",
      "source": [
        "def solution(numbers, num1, num2):\n",
        "    return numbers[num1:num2+1]"
      ],
      "metadata": {
        "id": "rrQesT9KtyZo"
      },
      "execution_count": null,
      "outputs": []
    },
    {
      "cell_type": "markdown",
      "source": [
        "* [짝수 홀수 개수](https://school.programmers.co.kr/learn/courses/30/lessons/120824)"
      ],
      "metadata": {
        "id": "wwrSmsRKMVjx"
      }
    },
    {
      "cell_type": "code",
      "source": [
        "def solution(num_list):\n",
        "    answer = [0, 0]\n",
        "    for i in num_list:\n",
        "        if i % 2 == 0:\n",
        "            answer[0] += 1\n",
        "        else:\n",
        "            answer[1] += 1\n",
        "    return answer"
      ],
      "metadata": {
        "id": "Ag1t5gIuMSN5"
      },
      "execution_count": 68,
      "outputs": []
    },
    {
      "cell_type": "code",
      "source": [
        "# 다른 문제 풀이\n",
        "def solution(num_list):\n",
        "    answer = [0, 0]\n",
        "    for n in num_list:\n",
        "        answer[n % 2] += 1\n",
        "    return answer"
      ],
      "metadata": {
        "id": "OLkfmOwqOcQw"
      },
      "execution_count": 70,
      "outputs": []
    },
    {
      "cell_type": "markdown",
      "source": [
        "* [문자열안에 문자열](https://school.programmers.co.kr/learn/courses/30/lessons/120908)"
      ],
      "metadata": {
        "id": "i25hOBojQvGQ"
      }
    },
    {
      "cell_type": "code",
      "source": [
        "def solution(str1, str2):\n",
        "    answer = 0\n",
        "    if str2 in str1:\n",
        "        answer += 1\n",
        "    else:\n",
        "        answer += 2\n",
        "    return answer"
      ],
      "metadata": {
        "id": "YWXtUX2KS0ZI"
      },
      "execution_count": 95,
      "outputs": []
    },
    {
      "cell_type": "code",
      "source": [
        "# 다른 문제 풀이\n",
        "def solution(str1, str2):\n",
        "  return 1 if str2 in str1 else 2"
      ],
      "metadata": {
        "id": "BKPZ92GETGoB"
      },
      "execution_count": 96,
      "outputs": []
    }
  ]
}