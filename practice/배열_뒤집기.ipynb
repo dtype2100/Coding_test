{
  "nbformat": 4,
  "nbformat_minor": 0,
  "metadata": {
    "colab": {
      "provenance": [],
      "authorship_tag": "ABX9TyPk54Cii8AdsEDq8+bEQQCA",
      "include_colab_link": true
    },
    "kernelspec": {
      "name": "python3",
      "display_name": "Python 3"
    },
    "language_info": {
      "name": "python"
    }
  },
  "cells": [
    {
      "cell_type": "markdown",
      "metadata": {
        "id": "view-in-github",
        "colab_type": "text"
      },
      "source": [
        "<a href=\"https://colab.research.google.com/github/dtype2100/Coding_test/blob/master/%EB%B0%B0%EC%97%B4_%EB%92%A4%EC%A7%91%EA%B8%B0.ipynb\" target=\"_parent\"><img src=\"https://colab.research.google.com/assets/colab-badge.svg\" alt=\"Open In Colab\"/></a>"
      ]
    },
    {
      "cell_type": "markdown",
      "source": [
        "* [배열 뒤집기](https://school.programmers.co.kr/learn/courses/30/lessons/120821)"
      ],
      "metadata": {
        "id": "lzSyaqUn7B6n"
      }
    },
    {
      "cell_type": "code",
      "execution_count": null,
      "metadata": {
        "id": "lPi4iQ5T6_O8"
      },
      "outputs": [],
      "source": [
        "def solution(num_list):\n",
        "    return num_list[::-1]"
      ]
    }
  ]
}