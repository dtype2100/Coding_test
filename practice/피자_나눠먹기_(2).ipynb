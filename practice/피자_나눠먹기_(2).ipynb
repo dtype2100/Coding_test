{
  "nbformat": 4,
  "nbformat_minor": 0,
  "metadata": {
    "colab": {
      "provenance": [],
      "authorship_tag": "ABX9TyMZexEXKneGXViX1CWRfxip",
      "include_colab_link": true
    },
    "kernelspec": {
      "name": "python3",
      "display_name": "Python 3"
    },
    "language_info": {
      "name": "python"
    }
  },
  "cells": [
    {
      "cell_type": "markdown",
      "metadata": {
        "id": "view-in-github",
        "colab_type": "text"
      },
      "source": [
        "<a href=\"https://colab.research.google.com/github/dtype2100/Coding_test/blob/master/%ED%94%BC%EC%9E%90_%EB%82%98%EB%88%A0%EB%A8%B9%EA%B8%B0_(2).ipynb\" target=\"_parent\"><img src=\"https://colab.research.google.com/assets/colab-badge.svg\" alt=\"Open In Colab\"/></a>"
      ]
    },
    {
      "cell_type": "markdown",
      "source": [
        "* [피자 나눠먹기 (2)](https://school.programmers.co.kr/learn/courses/30/lessons/120816)"
      ],
      "metadata": {
        "id": "GVIFb4t2Uxbd"
      }
    },
    {
      "cell_type": "code",
      "source": [
        "def solution(slice, n):\n",
        "  answer = 0\n",
        "  if n % slice == 0:\n",
        "    answer = n // slice\n",
        "  else:\n",
        "    answer = (n // slice) + 1\n",
        "  return round(answer)"
      ],
      "metadata": {
        "id": "mUyFoTziSSMz"
      },
      "execution_count": 10,
      "outputs": []
    },
    {
      "cell_type": "code",
      "source": [
        "# 다른 문제 풀이\n",
        "def solution(slice, n):\n",
        "    d, m = divmod(n, slice)\n",
        "    return d + int(m != 0)"
      ],
      "metadata": {
        "id": "Re38iZgBTS1C"
      },
      "execution_count": null,
      "outputs": []
    },
    {
      "cell_type": "code",
      "source": [
        "# 다른 문제 풀이\n",
        "def solution(slice, n):\n",
        "    return ((n - 1) // slice) + 1"
      ],
      "metadata": {
        "id": "iyorCouvUvhL"
      },
      "execution_count": null,
      "outputs": []
    }
  ]
}