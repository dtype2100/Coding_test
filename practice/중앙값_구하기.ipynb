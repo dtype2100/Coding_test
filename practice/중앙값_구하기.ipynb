{
  "nbformat": 4,
  "nbformat_minor": 0,
  "metadata": {
    "colab": {
      "provenance": [],
      "authorship_tag": "ABX9TyM9P7hQdDjedxoqgm8xu2p6",
      "include_colab_link": true
    },
    "kernelspec": {
      "name": "python3",
      "display_name": "Python 3"
    },
    "language_info": {
      "name": "python"
    }
  },
  "cells": [
    {
      "cell_type": "markdown",
      "metadata": {
        "id": "view-in-github",
        "colab_type": "text"
      },
      "source": [
        "<a href=\"https://colab.research.google.com/github/dtype2100/Coding_test/blob/master/%EC%A4%91%EC%95%99%EA%B0%92_%EA%B5%AC%ED%95%98%EA%B8%B0.ipynb\" target=\"_parent\"><img src=\"https://colab.research.google.com/assets/colab-badge.svg\" alt=\"Open In Colab\"/></a>"
      ]
    },
    {
      "cell_type": "markdown",
      "source": [
        "* [중앙값 구하기](https://school.programmers.co.kr/learn/courses/30/lessons/120811)"
      ],
      "metadata": {
        "id": "0xZUg1G0h-k_"
      }
    },
    {
      "cell_type": "code",
      "execution_count": 8,
      "metadata": {
        "id": "0YQbIW4zguuZ"
      },
      "outputs": [],
      "source": [
        "def solution(array):\n",
        "    array.sort()\n",
        "    mid = len(array) // 2 \n",
        "    return array[mid]"
      ]
    },
    {
      "cell_type": "code",
      "source": [
        "# 다른 문제 풀이\n",
        "def solution(array):\n",
        "    array.sort()\n",
        "    return array[len(array)//2]"
      ],
      "metadata": {
        "id": "bVteif-ShhHU"
      },
      "execution_count": null,
      "outputs": []
    }
  ]
}