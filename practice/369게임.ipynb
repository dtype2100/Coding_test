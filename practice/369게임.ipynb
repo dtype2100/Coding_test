{
  "nbformat": 4,
  "nbformat_minor": 0,
  "metadata": {
    "colab": {
      "provenance": [],
      "authorship_tag": "ABX9TyOAqqsHq5nk4P0iwwHR4+hG",
      "include_colab_link": true
    },
    "kernelspec": {
      "name": "python3",
      "display_name": "Python 3"
    },
    "language_info": {
      "name": "python"
    }
  },
  "cells": [
    {
      "cell_type": "markdown",
      "metadata": {
        "id": "view-in-github",
        "colab_type": "text"
      },
      "source": [
        "<a href=\"https://colab.research.google.com/github/dtype2100/Coding_test/blob/master/369%EA%B2%8C%EC%9E%84.ipynb\" target=\"_parent\"><img src=\"https://colab.research.google.com/assets/colab-badge.svg\" alt=\"Open In Colab\"/></a>"
      ]
    },
    {
      "cell_type": "markdown",
      "source": [
        "* [369게임\n",
        "](https://school.programmers.co.kr/learn/courses/30/lessons/120891)"
      ],
      "metadata": {
        "id": "eBGmf5sawCDL"
      }
    },
    {
      "cell_type": "code",
      "source": [
        "def solution(order):\n",
        "    answer = 0\n",
        "    for i in str(order):\n",
        "      if i == '3':\n",
        "        answer += 1\n",
        "      if i == '6':\n",
        "        answer += 1\n",
        "      if i == '9':\n",
        "        answer += 1\n",
        "    return answer"
      ],
      "metadata": {
        "id": "jGug_JARvGOb"
      },
      "execution_count": 30,
      "outputs": []
    },
    {
      "cell_type": "code",
      "source": [
        "# 다른 문제 풀이\n",
        "def solution(order):\n",
        "    return sum(map(lambda x: str(order).count(str(x)), [3, 6, 9]))"
      ],
      "metadata": {
        "id": "4rG3Gqe9vjSL"
      },
      "execution_count": null,
      "outputs": []
    },
    {
      "cell_type": "code",
      "source": [
        "# 다른 문제 풀이\n",
        "def solution(order):\n",
        "    result = 0\n",
        "\n",
        "    for i in range(3, 10, 3):\n",
        "        result += str(order).count(str(i))\n",
        "\n",
        "    return result"
      ],
      "metadata": {
        "id": "Inozc3CYv3Gj"
      },
      "execution_count": null,
      "outputs": []
    }
  ]
}