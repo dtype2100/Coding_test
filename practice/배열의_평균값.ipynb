{
  "nbformat": 4,
  "nbformat_minor": 0,
  "metadata": {
    "colab": {
      "provenance": [],
      "authorship_tag": "ABX9TyMEC9WIscgx/Zx2eKHymEnP",
      "include_colab_link": true
    },
    "kernelspec": {
      "name": "python3",
      "display_name": "Python 3"
    },
    "language_info": {
      "name": "python"
    }
  },
  "cells": [
    {
      "cell_type": "markdown",
      "metadata": {
        "id": "view-in-github",
        "colab_type": "text"
      },
      "source": [
        "<a href=\"https://colab.research.google.com/github/dtype2100/Coding_test/blob/master/%EB%B0%B0%EC%97%B4%EC%9D%98_%ED%8F%89%EA%B7%A0%EA%B0%92.ipynb\" target=\"_parent\"><img src=\"https://colab.research.google.com/assets/colab-badge.svg\" alt=\"Open In Colab\"/></a>"
      ]
    },
    {
      "cell_type": "markdown",
      "source": [
        "* [배열의 평균값](https://school.programmers.co.kr/learn/courses/30/lessons/120817)"
      ],
      "metadata": {
        "id": "06fqIl7-dWBR"
      }
    },
    {
      "cell_type": "code",
      "execution_count": null,
      "metadata": {
        "id": "w2YU6DMKdSHH"
      },
      "outputs": [],
      "source": [
        "def solution(numbers):\n",
        "    num = sum(numbers)\n",
        "    return num / len(numbers)"
      ]
    }
  ]
}