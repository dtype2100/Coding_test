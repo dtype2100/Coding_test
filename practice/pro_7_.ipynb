{
  "nbformat": 4,
  "nbformat_minor": 0,
  "metadata": {
    "colab": {
      "provenance": [],
      "authorship_tag": "ABX9TyNimIfk19Ry39VG9ETsE9uz",
      "include_colab_link": true
    },
    "kernelspec": {
      "name": "python3",
      "display_name": "Python 3"
    },
    "language_info": {
      "name": "python"
    }
  },
  "cells": [
    {
      "cell_type": "markdown",
      "metadata": {
        "id": "view-in-github",
        "colab_type": "text"
      },
      "source": [
        "<a href=\"https://colab.research.google.com/github/dtype2100/Coding_test/blob/master/pro_7_.ipynb\" target=\"_parent\"><img src=\"https://colab.research.google.com/assets/colab-badge.svg\" alt=\"Open In Colab\"/></a>"
      ]
    },
    {
      "cell_type": "code",
      "execution_count": null,
      "metadata": {
        "id": "koziajzmfqRX"
      },
      "outputs": [],
      "source": [
        "def solution(age):\n",
        "    year = 2022\n",
        "    return (int(year) - int(age)) + 1"
      ]
    },
    {
      "cell_type": "code",
      "source": [
        "def solution(age):\n",
        "  return 2022-age+1"
      ],
      "metadata": {
        "id": "oHd9LNYEfthT"
      },
      "execution_count": null,
      "outputs": []
    },
    {
      "cell_type": "code",
      "source": [
        "solution(40)"
      ],
      "metadata": {
        "colab": {
          "base_uri": "https://localhost:8080/"
        },
        "id": "Zif0tQTdf1rz",
        "outputId": "570707f9-9af2-4dda-fb7b-bb5f9449c2b2"
      },
      "execution_count": null,
      "outputs": [
        {
          "output_type": "execute_result",
          "data": {
            "text/plain": [
              "1983"
            ]
          },
          "metadata": {},
          "execution_count": 2
        }
      ]
    }
  ]
}