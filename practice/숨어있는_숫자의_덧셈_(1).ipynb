{
  "nbformat": 4,
  "nbformat_minor": 0,
  "metadata": {
    "colab": {
      "provenance": [],
      "authorship_tag": "ABX9TyO00Fsd2SyEwvzNDvJalnF4",
      "include_colab_link": true
    },
    "kernelspec": {
      "name": "python3",
      "display_name": "Python 3"
    },
    "language_info": {
      "name": "python"
    }
  },
  "cells": [
    {
      "cell_type": "markdown",
      "metadata": {
        "id": "view-in-github",
        "colab_type": "text"
      },
      "source": [
        "<a href=\"https://colab.research.google.com/github/dtype2100/Coding_test/blob/master/%EC%88%A8%EC%96%B4%EC%9E%88%EB%8A%94_%EC%88%AB%EC%9E%90%EC%9D%98_%EB%8D%A7%EC%85%88_(1).ipynb\" target=\"_parent\"><img src=\"https://colab.research.google.com/assets/colab-badge.svg\" alt=\"Open In Colab\"/></a>"
      ]
    },
    {
      "cell_type": "markdown",
      "source": [
        "* [숨어있는 숫자의 덧셈 (1)\n",
        "](https://school.programmers.co.kr/learn/courses/30/lessons/120851)"
      ],
      "metadata": {
        "id": "R0LAFBGrr1Mu"
      }
    },
    {
      "cell_type": "code",
      "source": [
        "def solution(my_string):\n",
        "    answer = 0\n",
        "    for i in my_string:\n",
        "        if i.isalpha():\n",
        "            continue\n",
        "        else:\n",
        "            answer += int(i)\n",
        "    return answer"
      ],
      "metadata": {
        "id": "ESU7s_pWj5H_"
      },
      "execution_count": null,
      "outputs": []
    },
    {
      "cell_type": "code",
      "source": [
        "# 다른 문제 풀이\n",
        "def solution(my_string):\n",
        "    return sum(int(i) for i in my_string if i.isdigit())"
      ],
      "metadata": {
        "id": "ALualUmummQs"
      },
      "execution_count": null,
      "outputs": []
    }
  ]
}