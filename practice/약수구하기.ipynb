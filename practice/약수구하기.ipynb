{
  "nbformat": 4,
  "nbformat_minor": 0,
  "metadata": {
    "colab": {
      "provenance": [],
      "authorship_tag": "ABX9TyO5QQhciG00+Ue3r8A7PCgU",
      "include_colab_link": true
    },
    "kernelspec": {
      "name": "python3",
      "display_name": "Python 3"
    },
    "language_info": {
      "name": "python"
    }
  },
  "cells": [
    {
      "cell_type": "markdown",
      "metadata": {
        "id": "view-in-github",
        "colab_type": "text"
      },
      "source": [
        "<a href=\"https://colab.research.google.com/github/dtype2100/Coding_test/blob/master/%EC%95%BD%EC%88%98%EA%B5%AC%ED%95%98%EA%B8%B0.ipynb\" target=\"_parent\"><img src=\"https://colab.research.google.com/assets/colab-badge.svg\" alt=\"Open In Colab\"/></a>"
      ]
    },
    {
      "cell_type": "markdown",
      "source": [
        "* [약수 구하기](https://school.programmers.co.kr/learn/courses/30/lessons/120897)"
      ],
      "metadata": {
        "id": "LS-P0SNt-dwg"
      }
    },
    {
      "cell_type": "code",
      "execution_count": null,
      "metadata": {
        "id": "FejsTb2g98va"
      },
      "outputs": [],
      "source": [
        "def solution(n):\n",
        "    answer = []\n",
        "    for i in range(1, n+1):\n",
        "        if n % i == 0:\n",
        "            answer.append(n // i)\n",
        "    return sorted(answer)"
      ]
    },
    {
      "cell_type": "code",
      "source": [
        "# 다른 문제 풀이\n",
        "def solution(n):\n",
        "    answer = [i for i in range(1,n+1) if n%i == 0]\n",
        "    return answer"
      ],
      "metadata": {
        "id": "lUgBmV9R99X3"
      },
      "execution_count": null,
      "outputs": []
    },
    {
      "cell_type": "code",
      "source": [
        "# 다른 문제 풀이\n",
        "def solution(n):\n",
        "    answer = []\n",
        "\n",
        "    for i in range(1, n + 1):\n",
        "        if n % i == 0:\n",
        "            answer.append(i)\n",
        "\n",
        "    return answer"
      ],
      "metadata": {
        "id": "-S5gbdeK-HJP"
      },
      "execution_count": null,
      "outputs": []
    }
  ]
}