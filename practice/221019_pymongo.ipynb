{
  "cells": [
    {
      "cell_type": "markdown",
      "metadata": {
        "id": "view-in-github",
        "colab_type": "text"
      },
      "source": [
        "<a href=\"https://colab.research.google.com/github/dtype2100/Coding_test/blob/master/221019_pymongo.ipynb\" target=\"_parent\"><img src=\"https://colab.research.google.com/assets/colab-badge.svg\" alt=\"Open In Colab\"/></a>"
      ]
    },
    {
      "cell_type": "code",
      "execution_count": null,
      "id": "810b348d",
      "metadata": {
        "id": "810b348d",
        "outputId": "39cb3657-b60b-4b21-8407-7fd22419d6cb"
      },
      "outputs": [
        {
          "name": "stdout",
          "output_type": "stream",
          "text": [
            "Collecting pymongo\n",
            "  Downloading pymongo-4.3.2-cp39-cp39-win_amd64.whl (381 kB)\n",
            "Collecting dnspython<3.0.0,>=1.16.0\n",
            "  Downloading dnspython-2.2.1-py3-none-any.whl (269 kB)\n",
            "Installing collected packages: dnspython, pymongo\n",
            "Successfully installed dnspython-2.2.1 pymongo-4.3.2\n"
          ]
        }
      ],
      "source": [
        "! pip install pymongo"
      ]
    },
    {
      "cell_type": "code",
      "execution_count": null,
      "id": "48b237ff",
      "metadata": {
        "id": "48b237ff"
      },
      "outputs": [],
      "source": [
        "import pymongo"
      ]
    },
    {
      "cell_type": "code",
      "execution_count": null,
      "id": "e025de59",
      "metadata": {
        "id": "e025de59"
      },
      "outputs": [],
      "source": [
        "conn = pymongo.MongoClient()"
      ]
    },
    {
      "cell_type": "code",
      "execution_count": null,
      "id": "a635fb72",
      "metadata": {
        "id": "a635fb72"
      },
      "outputs": [],
      "source": [
        "# connection = pymongo.MongoClient(mongo_server, 27017)\n",
        "connection = pymongo.MongoClient('mongodb://licalhost')"
      ]
    },
    {
      "cell_type": "code",
      "execution_count": null,
      "id": "58c88090",
      "metadata": {
        "id": "58c88090"
      },
      "outputs": [],
      "source": [
        "db = conn.mydb"
      ]
    },
    {
      "cell_type": "code",
      "execution_count": null,
      "id": "1b1b687b",
      "metadata": {
        "id": "1b1b687b"
      },
      "outputs": [],
      "source": [
        "mydb_test = conn['test']"
      ]
    },
    {
      "cell_type": "code",
      "execution_count": null,
      "id": "fac75292",
      "metadata": {
        "id": "fac75292",
        "outputId": "2ddc5f08-039a-44e5-c98e-6d470840e6e4"
      },
      "outputs": [
        {
          "name": "stdout",
          "output_type": "stream",
          "text": [
            "Database(MongoClient(host=['localhost:27017'], document_class=dict, tz_aware=False, connect=True), 'mydb')\n"
          ]
        }
      ],
      "source": [
        "print(db)"
      ]
    },
    {
      "cell_type": "code",
      "execution_count": null,
      "id": "4eafe46f",
      "metadata": {
        "id": "4eafe46f",
        "outputId": "41527d5e-1c57-4ee2-c401-28b58ec3527c"
      },
      "outputs": [
        {
          "name": "stdout",
          "output_type": "stream",
          "text": [
            "['_BaseObject__codec_options', '_BaseObject__read_concern', '_BaseObject__read_preference', '_BaseObject__write_concern', '_Database__client', '_Database__name', '__bool__', '__class__', '__class_getitem__', '__delattr__', '__dict__', '__dir__', '__doc__', '__eq__', '__format__', '__ge__', '__getattr__', '__getattribute__', '__getitem__', '__gt__', '__hash__', '__init__', '__init_subclass__', '__iter__', '__le__', '__lt__', '__module__', '__ne__', '__new__', '__next__', '__orig_bases__', '__parameters__', '__reduce__', '__reduce_ex__', '__repr__', '__setattr__', '__sizeof__', '__slots__', '__str__', '__subclasshook__', '__weakref__', '_command', '_drop_helper', '_is_protocol', '_list_collections', '_read_preference_for', '_retryable_read_command', '_timeout', '_write_concern_for', 'aggregate', 'client', 'codec_options', 'command', 'create_collection', 'dereference', 'drop_collection', 'get_collection', 'list_collection_names', 'list_collections', 'name', 'next', 'read_concern', 'read_preference', 'validate_collection', 'watch', 'with_options', 'write_concern']\n"
          ]
        }
      ],
      "source": [
        "print(dir(mydb_test))"
      ]
    },
    {
      "cell_type": "markdown",
      "id": "0df9693b",
      "metadata": {
        "id": "0df9693b"
      },
      "source": [
        "# collection 사용하기"
      ]
    },
    {
      "cell_type": "code",
      "execution_count": null,
      "id": "a3dfef49",
      "metadata": {
        "id": "a3dfef49"
      },
      "outputs": [],
      "source": [
        "mydb_subject = db.subject"
      ]
    },
    {
      "cell_type": "code",
      "execution_count": null,
      "id": "5abe8bc1",
      "metadata": {
        "id": "5abe8bc1"
      },
      "outputs": [],
      "source": [
        "mydb_subject = db['subject']"
      ]
    },
    {
      "cell_type": "code",
      "execution_count": null,
      "id": "1b6da31a",
      "metadata": {
        "id": "1b6da31a",
        "outputId": "794cfb72-af69-4b54-eba5-8c563aa3b18e"
      },
      "outputs": [
        {
          "data": {
            "text/plain": [
              "Collection(Database(MongoClient(host=['localhost:27017'], document_class=dict, tz_aware=False, connect=True), 'mydb'), 'subject')"
            ]
          },
          "execution_count": 13,
          "metadata": {},
          "output_type": "execute_result"
        }
      ],
      "source": [
        "mydb_subject"
      ]
    },
    {
      "cell_type": "markdown",
      "id": "a4f60ae2",
      "metadata": {
        "id": "a4f60ae2"
      },
      "source": [
        "# Document Insert"
      ]
    },
    {
      "cell_type": "code",
      "execution_count": null,
      "id": "f538b99a",
      "metadata": {
        "id": "f538b99a"
      },
      "outputs": [],
      "source": [
        "post = {\"author\": \"Mike\", \"text\": \"My first blog post!\",\n",
        "       \"tags\": [\"mongodb\", \"python\", \"pymongo\"]}"
      ]
    },
    {
      "cell_type": "code",
      "execution_count": null,
      "id": "cec12e1a",
      "metadata": {
        "id": "cec12e1a",
        "outputId": "a0cea245-255f-4119-f495-29fdf20d0b70"
      },
      "outputs": [
        {
          "data": {
            "text/plain": [
              "<pymongo.results.InsertOneResult at 0x188352be400>"
            ]
          },
          "execution_count": 15,
          "metadata": {},
          "output_type": "execute_result"
        }
      ],
      "source": [
        "mydb_subject.insert_one(post)"
      ]
    },
    {
      "cell_type": "code",
      "execution_count": null,
      "id": "bd0087fe",
      "metadata": {
        "id": "bd0087fe",
        "outputId": "89d7649c-c8c7-4d74-8b8c-44595927a7e8"
      },
      "outputs": [
        {
          "data": {
            "text/plain": [
              "<pymongo.results.InsertOneResult at 0x188352d5fa0>"
            ]
          },
          "execution_count": 17,
          "metadata": {},
          "output_type": "execute_result"
        }
      ],
      "source": [
        "mydb_subject.insert_one({\"aurhor\": \"Noah Lee\", \"age\":45})"
      ]
    },
    {
      "cell_type": "code",
      "execution_count": null,
      "id": "b4a3b06f",
      "metadata": {
        "id": "b4a3b06f",
        "outputId": "1808c7b9-baa5-4d9e-ab5d-0f4846c89f15"
      },
      "outputs": [
        {
          "data": {
            "text/plain": [
              "<pymongo.results.InsertManyResult at 0x1883332ed90>"
            ]
          },
          "execution_count": 18,
          "metadata": {},
          "output_type": "execute_result"
        }
      ],
      "source": [
        "mydb_subject.insert_many(\n",
        "[\n",
        "    {\"aurhor\": \"Noah hae\", \"age\":25},\n",
        "    {\"aurhor\": \"Noah\", \"age\":35}\n",
        "])"
      ]
    },
    {
      "cell_type": "code",
      "execution_count": null,
      "id": "772c5b92",
      "metadata": {
        "id": "772c5b92"
      },
      "outputs": [],
      "source": [
        "post = {\"author\": \"Noah\", \"text\":\"My first blog post!\"}"
      ]
    },
    {
      "cell_type": "code",
      "execution_count": null,
      "id": "49e1428f",
      "metadata": {
        "id": "49e1428f"
      },
      "outputs": [],
      "source": [
        "post_id = mydb_subject.insert.insert_one(post)"
      ]
    },
    {
      "cell_type": "code",
      "execution_count": null,
      "id": "a598bab9",
      "metadata": {
        "id": "a598bab9",
        "outputId": "4e029ddc-fa36-4a29-e4a9-c9500770bc0e"
      },
      "outputs": [
        {
          "data": {
            "text/plain": [
              "<pymongo.results.InsertOneResult at 0x18835236850>"
            ]
          },
          "execution_count": 22,
          "metadata": {},
          "output_type": "execute_result"
        }
      ],
      "source": [
        "post_id"
      ]
    },
    {
      "cell_type": "code",
      "execution_count": null,
      "id": "eee51add",
      "metadata": {
        "id": "eee51add",
        "outputId": "16c14fec-a745-45a8-8a8e-78580bff8a63"
      },
      "outputs": [
        {
          "data": {
            "text/plain": [
              "ObjectId('634f857058196bff11cc30dc')"
            ]
          },
          "execution_count": 23,
          "metadata": {},
          "output_type": "execute_result"
        }
      ],
      "source": [
        "post_id.inserted_id # _id 값 확인. 유니크한 아이디 값을 확인"
      ]
    },
    {
      "cell_type": "code",
      "execution_count": null,
      "id": "a2fb64fc",
      "metadata": {
        "id": "a2fb64fc",
        "outputId": "2f88e897-1564-43ec-9441-29b9b7a38546"
      },
      "outputs": [
        {
          "data": {
            "text/plain": [
              "4"
            ]
          },
          "execution_count": 25,
          "metadata": {},
          "output_type": "execute_result"
        }
      ],
      "source": [
        "mydb_subject.count_documents({})"
      ]
    },
    {
      "cell_type": "markdown",
      "id": "f5bf2024",
      "metadata": {
        "id": "f5bf2024"
      },
      "source": [
        "mydb_subject.insert_one({})"
      ]
    },
    {
      "cell_type": "code",
      "execution_count": null,
      "id": "6d8fa40a",
      "metadata": {
        "id": "6d8fa40a",
        "outputId": "532e4100-f349-4247-e1e1-2c6171fb9512"
      },
      "outputs": [
        {
          "data": {
            "text/plain": [
              "<pymongo.results.InsertOneResult at 0x188350b3a30>"
            ]
          },
          "execution_count": 26,
          "metadata": {},
          "output_type": "execute_result"
        }
      ],
      "source": [
        "mydb_subject.insert_one({'title': '암살', 'castings': ['이정재', '전지현', '하정우']})\n",
        "mydb_subject.insert_one({\n",
        "    'title': '실미도',\n",
        "    'casting': ['설경구', '안성기'],\n",
        "    'datetime': {\n",
        "        'year': '2003',\n",
        "        'month': 3,\n",
        "        'val':\n",
        "        {'a':{'b':1}}\n",
        "    }\n",
        "})"
      ]
    },
    {
      "cell_type": "code",
      "execution_count": null,
      "id": "5d7c11c8",
      "metadata": {
        "id": "5d7c11c8",
        "outputId": "364b9199-8a80-48bf-aa9b-f13317cdef20"
      },
      "outputs": [
        {
          "data": {
            "text/plain": [
              "<pymongo.results.InsertManyResult at 0x18835057160>"
            ]
          },
          "execution_count": 28,
          "metadata": {},
          "output_type": "execute_result"
        }
      ],
      "source": [
        "data = list()\n",
        "data.append({'name': 'aaaaa', 'age': 20})\n",
        "data.append({'name': 'aa', 'age': 25})\n",
        "data.append({'name': 'aaa', 'age': 26})\n",
        "data.append({'name': 'a', 'age': 28})\n",
        "data.append({'name': 'dd', 'age': 30})\n",
        "data.append({'name': 'cc', 'age': 40})\n",
        "data.append({'name': 'dd', 'age': 50})\n",
        "\n",
        "mydb_subject.insert_many(data)"
      ]
    },
    {
      "cell_type": "code",
      "execution_count": null,
      "id": "e3a45e79",
      "metadata": {
        "id": "e3a45e79",
        "outputId": "487babdd-3493-4a40-b4c6-e5f17af6ef12"
      },
      "outputs": [
        {
          "data": {
            "text/plain": [
              "13"
            ]
          },
          "execution_count": 30,
          "metadata": {},
          "output_type": "execute_result"
        }
      ],
      "source": [
        "mydb_subject.estimated_document_count()"
      ]
    },
    {
      "cell_type": "code",
      "execution_count": null,
      "id": "4b4e3636",
      "metadata": {
        "id": "4b4e3636",
        "outputId": "b6e47037-ade1-4638-ef3d-44b5f2ef047b"
      },
      "outputs": [
        {
          "data": {
            "text/plain": [
              "{'_id': ObjectId('634f843058196bff11cc30d8'),\n",
              " 'author': 'Mike',\n",
              " 'text': 'My first blog post!',\n",
              " 'tags': ['mongodb', 'python', 'pymongo']}"
            ]
          },
          "execution_count": 31,
          "metadata": {},
          "output_type": "execute_result"
        }
      ],
      "source": [
        "mydb_subject.find_one()"
      ]
    },
    {
      "cell_type": "code",
      "execution_count": null,
      "id": "ab157ce2",
      "metadata": {
        "id": "ab157ce2",
        "outputId": "e12f7f74-dca7-4d5f-c1d5-d3569e6530bd"
      },
      "outputs": [
        {
          "data": {
            "text/plain": [
              "{'_id': ObjectId('634f843058196bff11cc30d8'),\n",
              " 'author': 'Mike',\n",
              " 'text': 'My first blog post!',\n",
              " 'tags': ['mongodb', 'python', 'pymongo']}"
            ]
          },
          "execution_count": 34,
          "metadata": {},
          "output_type": "execute_result"
        }
      ],
      "source": [
        "noah = mydb_subject.find_one({'author':'Mike'})\n",
        "noah"
      ]
    },
    {
      "cell_type": "code",
      "execution_count": null,
      "id": "e89f96b6",
      "metadata": {
        "id": "e89f96b6"
      },
      "outputs": [],
      "source": [
        "docs = mydb_subject.find()"
      ]
    },
    {
      "cell_type": "code",
      "execution_count": null,
      "id": "063eba22",
      "metadata": {
        "id": "063eba22",
        "outputId": "b9d0fec2-e97e-4de2-f325-f3b8d4a42f49"
      },
      "outputs": [
        {
          "name": "stdout",
          "output_type": "stream",
          "text": [
            "{'_id': ObjectId('634f84bd58196bff11cc30d9'), 'aurhor': 'Noah Lee', 'age': 45}\n",
            "{'_id': ObjectId('634f84ed58196bff11cc30da'), 'aurhor': 'Noah hae', 'age': 25}\n",
            "{'_id': ObjectId('634f84ed58196bff11cc30db'), 'aurhor': 'Noah', 'age': 35}\n",
            "{'_id': ObjectId('634f874158196bff11cc30dd'), 'title': '암살', 'castings': ['이정재', '전지현', '하정우']}\n",
            "{'_id': ObjectId('634f874158196bff11cc30de'), 'title': '실미도', 'casting': ['설경구', '안성기'], 'datetime': {'year': '2003', 'month': 3, 'val': {'a': {'b': 1}}}}\n",
            "{'_id': ObjectId('634f87b458196bff11cc30df'), 'name': 'aaaaa', 'age': 20}\n",
            "{'_id': ObjectId('634f87b458196bff11cc30e0'), 'name': 'aa', 'age': 25}\n",
            "{'_id': ObjectId('634f87b458196bff11cc30e1'), 'name': 'aaa', 'age': 26}\n",
            "{'_id': ObjectId('634f87b458196bff11cc30e2'), 'name': 'a', 'age': 28}\n",
            "{'_id': ObjectId('634f87b458196bff11cc30e3'), 'name': 'dd', 'age': 30}\n",
            "{'_id': ObjectId('634f87b458196bff11cc30e4'), 'name': 'cc', 'age': 40}\n",
            "{'_id': ObjectId('634f87b458196bff11cc30e5'), 'name': 'dd', 'age': 50}\n"
          ]
        }
      ],
      "source": [
        "for doc in docs:\n",
        "    print(doc)"
      ]
    },
    {
      "cell_type": "code",
      "execution_count": null,
      "id": "8d800dde",
      "metadata": {
        "id": "8d800dde",
        "outputId": "a1947265-cf13-4073-8142-0692f8ab110e"
      },
      "outputs": [
        {
          "data": {
            "text/plain": [
              "1"
            ]
          },
          "execution_count": 42,
          "metadata": {},
          "output_type": "execute_result"
        }
      ],
      "source": [
        "mydb_subject.count_documents({\"author\":\"Mike\"})"
      ]
    },
    {
      "cell_type": "code",
      "execution_count": null,
      "id": "c222aaa3",
      "metadata": {
        "id": "c222aaa3",
        "outputId": "a9d46c11-3342-47be-8ed8-379376938d42"
      },
      "outputs": [
        {
          "name": "stdout",
          "output_type": "stream",
          "text": [
            "{'_id': ObjectId('634f843058196bff11cc30d8'), 'author': 'Mike', 'text': 'My first blog post!', 'tags': ['mongodb', 'python', 'pymongo']}\n",
            "{'_id': ObjectId('634f874158196bff11cc30dd'), 'title': '암살', 'castings': ['이정재', '전지현', '하정우']}\n",
            "{'_id': ObjectId('634f874158196bff11cc30de'), 'title': '실미도', 'casting': ['설경구', '안성기'], 'datetime': {'year': '2003', 'month': 3, 'val': {'a': {'b': 1}}}}\n",
            "{'_id': ObjectId('634f87b458196bff11cc30df'), 'name': 'aaaaa', 'age': 20}\n",
            "{'_id': ObjectId('634f84ed58196bff11cc30da'), 'aurhor': 'Noah hae', 'age': 25}\n",
            "{'_id': ObjectId('634f87b458196bff11cc30e0'), 'name': 'aa', 'age': 25}\n",
            "{'_id': ObjectId('634f87b458196bff11cc30e1'), 'name': 'aaa', 'age': 26}\n",
            "{'_id': ObjectId('634f87b458196bff11cc30e2'), 'name': 'a', 'age': 28}\n",
            "{'_id': ObjectId('634f87b458196bff11cc30e3'), 'name': 'dd', 'age': 30}\n",
            "{'_id': ObjectId('634f84ed58196bff11cc30db'), 'aurhor': 'Noah', 'age': 35}\n",
            "{'_id': ObjectId('634f87b458196bff11cc30e4'), 'name': 'cc', 'age': 40}\n",
            "{'_id': ObjectId('634f84bd58196bff11cc30d9'), 'aurhor': 'Noah Lee', 'age': 45}\n",
            "{'_id': ObjectId('634f87b458196bff11cc30e5'), 'name': 'dd', 'age': 50}\n"
          ]
        }
      ],
      "source": [
        "# age 없는 값이 먼저 출력. age가 낮은 값 -> 높은 값\n",
        "for post in mydb_subject.find().sort(\"age\"):\n",
        "    print(post)"
      ]
    },
    {
      "cell_type": "code",
      "execution_count": null,
      "id": "e29200f5",
      "metadata": {
        "id": "e29200f5",
        "outputId": "15f33b95-bd5f-4cc2-b428-af2d7e5b0cdb"
      },
      "outputs": [
        {
          "data": {
            "text/plain": [
              "{'_id': ObjectId('634f843058196bff11cc30d8'),\n",
              " 'author': 'Mike',\n",
              " 'text': 'My first blog post!',\n",
              " 'tags': ['mongodb', 'python', 'pymongo']}"
            ]
          },
          "execution_count": 46,
          "metadata": {},
          "output_type": "execute_result"
        }
      ],
      "source": [
        "mydb_subject.find_one({\"author\": \"Mike\"})"
      ]
    },
    {
      "cell_type": "code",
      "execution_count": null,
      "id": "7b86ecb5",
      "metadata": {
        "id": "7b86ecb5",
        "outputId": "eeda8376-f4e4-4b69-a3b8-6e2bac226831"
      },
      "outputs": [
        {
          "data": {
            "text/plain": [
              "<pymongo.results.UpdateResult at 0x18835d9b730>"
            ]
          },
          "execution_count": 47,
          "metadata": {},
          "output_type": "execute_result"
        }
      ],
      "source": [
        "mydb_subject.update_one({\"author\":\"Noah\"},\n",
        "                       {\"$set\":\n",
        "                           {'text': \"Hi Noah\"}\n",
        "                       })"
      ]
    },
    {
      "cell_type": "code",
      "execution_count": null,
      "id": "bb062996",
      "metadata": {
        "id": "bb062996",
        "outputId": "4762f702-6e7c-4216-f517-0486f4abbafa"
      },
      "outputs": [
        {
          "data": {
            "text/plain": [
              "{'_id': ObjectId('634f843058196bff11cc30d8'),\n",
              " 'author': 'Mike',\n",
              " 'text': 'My first blog post!',\n",
              " 'tags': ['mongodb', 'python', 'pymongo']}"
            ]
          },
          "execution_count": 49,
          "metadata": {},
          "output_type": "execute_result"
        }
      ],
      "source": [
        "mydb_subject.find_one({\"author\":\"Mike\"})"
      ]
    },
    {
      "cell_type": "code",
      "execution_count": null,
      "id": "a3118484",
      "metadata": {
        "id": "a3118484"
      },
      "outputs": [],
      "source": [
        "docs = mydb_subject.find({\"author\":\"Mike\"})"
      ]
    },
    {
      "cell_type": "code",
      "execution_count": null,
      "id": "951de3d5",
      "metadata": {
        "id": "951de3d5",
        "outputId": "e39adcfe-c79c-40a1-b9ef-198a7485ee27"
      },
      "outputs": [
        {
          "name": "stdout",
          "output_type": "stream",
          "text": [
            "{'_id': ObjectId('634f843058196bff11cc30d8'), 'author': 'Mike', 'text': 'My first blog post!', 'tags': ['mongodb', 'python', 'pymongo']}\n"
          ]
        }
      ],
      "source": [
        "for doc in docs:\n",
        "    print(doc)"
      ]
    },
    {
      "cell_type": "code",
      "execution_count": null,
      "id": "c1b4c2fe",
      "metadata": {
        "id": "c1b4c2fe",
        "outputId": "dedcadf6-5a32-4336-89d6-8afacb5602a7"
      },
      "outputs": [
        {
          "data": {
            "text/plain": [
              "<pymongo.results.UpdateResult at 0x1883332ebe0>"
            ]
          },
          "execution_count": 58,
          "metadata": {},
          "output_type": "execute_result"
        }
      ],
      "source": [
        "mydb_subject.update_many({\"author\":\"Mike\"}, {\"$set\": {\"age\":30}})"
      ]
    },
    {
      "cell_type": "markdown",
      "id": "fab37159",
      "metadata": {
        "id": "fab37159"
      },
      "source": [
        "# Document 삭제하기"
      ]
    },
    {
      "cell_type": "code",
      "execution_count": null,
      "id": "fe37bd86",
      "metadata": {
        "id": "fe37bd86",
        "outputId": "7e64e190-3779-4459-e482-d51310b6f716"
      },
      "outputs": [
        {
          "data": {
            "text/plain": [
              "<pymongo.results.DeleteResult at 0x18835d9b940>"
            ]
          },
          "execution_count": 59,
          "metadata": {},
          "output_type": "execute_result"
        }
      ],
      "source": [
        "mydb_subject.delete_one({\"author\":\"Mike\"}) # 1개 삭제"
      ]
    },
    {
      "cell_type": "code",
      "execution_count": null,
      "id": "8c04003a",
      "metadata": {
        "id": "8c04003a"
      },
      "outputs": [],
      "source": [
        "for doc in docs:\n",
        "    print(doc)"
      ]
    },
    {
      "cell_type": "code",
      "execution_count": null,
      "id": "0e66e45b",
      "metadata": {
        "id": "0e66e45b"
      },
      "outputs": [],
      "source": [
        "mydb_subject.count_documents({\"author\":\"Mike\"}) "
      ]
    },
    {
      "cell_type": "code",
      "execution_count": null,
      "id": "84c85cd9",
      "metadata": {
        "id": "84c85cd9"
      },
      "outputs": [],
      "source": []
    },
    {
      "cell_type": "code",
      "execution_count": null,
      "id": "6ba269a1",
      "metadata": {
        "id": "6ba269a1"
      },
      "outputs": [],
      "source": [
        "import random"
      ]
    },
    {
      "cell_type": "code",
      "execution_count": null,
      "id": "e7865840",
      "metadata": {
        "id": "e7865840"
      },
      "outputs": [],
      "source": [
        "nu = []\n",
        "\n",
        "for i in range(1, 200, 2):\n",
        "    num.append(i)"
      ]
    },
    {
      "cell_type": "code",
      "execution_count": null,
      "id": "990b349e",
      "metadata": {
        "id": "990b349e"
      },
      "outputs": [],
      "source": [
        "li = []\n",
        "\n",
        "for i in range(1, 200, 2):\n",
        "    li.append(i)"
      ]
    },
    {
      "cell_type": "code",
      "execution_count": null,
      "id": "c00ad0e2",
      "metadata": {
        "id": "c00ad0e2",
        "outputId": "a287704a-238a-4b59-f5ba-45eca6b51010"
      },
      "outputs": [
        {
          "data": {
            "text/plain": [
              "100"
            ]
          },
          "execution_count": 106,
          "metadata": {},
          "output_type": "execute_result"
        }
      ],
      "source": [
        "len(li)"
      ]
    },
    {
      "cell_type": "code",
      "execution_count": null,
      "id": "10bf012f",
      "metadata": {
        "id": "10bf012f"
      },
      "outputs": [],
      "source": []
    },
    {
      "cell_type": "code",
      "execution_count": null,
      "id": "e78e175c",
      "metadata": {
        "id": "e78e175c"
      },
      "outputs": [],
      "source": [
        "posts = {\"num\":li}"
      ]
    },
    {
      "cell_type": "code",
      "execution_count": null,
      "id": "1a0d9e87",
      "metadata": {
        "id": "1a0d9e87",
        "outputId": "2c190472-0e52-4379-9cae-36e6e963cf84"
      },
      "outputs": [
        {
          "data": {
            "text/plain": [
              "<pymongo.results.InsertOneResult at 0x1883507c850>"
            ]
          },
          "execution_count": 112,
          "metadata": {},
          "output_type": "execute_result"
        }
      ],
      "source": [
        "numdb.insert_one(posts)"
      ]
    },
    {
      "cell_type": "code",
      "execution_count": null,
      "id": "ba4dbfed",
      "metadata": {
        "id": "ba4dbfed"
      },
      "outputs": [],
      "source": []
    },
    {
      "cell_type": "code",
      "execution_count": null,
      "id": "bcfb1bdc",
      "metadata": {
        "id": "bcfb1bdc"
      },
      "outputs": [],
      "source": [
        "docu = numdb.find()"
      ]
    },
    {
      "cell_type": "code",
      "execution_count": null,
      "id": "fbf5a57f",
      "metadata": {
        "id": "fbf5a57f",
        "outputId": "4cc8b118-efd3-4c1f-8569-fcd785c81e57"
      },
      "outputs": [
        {
          "name": "stdout",
          "output_type": "stream",
          "text": [
            "{'_id': ObjectId('634f925e58196bff11cc30e6'), 'num': [1, 3, 5, 7, 9, 11, 13, 15, 17, 19, 21, 23, 25, 27, 29, 31, 33, 35, 37, 39, 41, 43, 45, 47, 49, 51, 53, 55, 57, 59, 61, 63, 65, 67, 69, 71, 73, 75, 77, 79, 81, 83, 85, 87, 89, 91, 93, 95, 97, 99, 101, 103, 105, 107, 109, 111, 113, 115, 117, 119, 121, 123, 125, 127, 129, 131, 133, 135, 137, 139, 141, 143, 145, 147, 149, 151, 153, 155, 157, 159, 161, 163, 165, 167, 169, 171, 173, 175, 177, 179, 181, 183, 185, 187, 189, 191, 193, 195, 197, 199]}\n"
          ]
        }
      ],
      "source": [
        "for i in docu:\n",
        "    print(i)"
      ]
    },
    {
      "cell_type": "code",
      "execution_count": null,
      "id": "5cc0d31b",
      "metadata": {
        "id": "5cc0d31b",
        "outputId": "6d7efb9e-65b7-4759-cbab-fb343428281b"
      },
      "outputs": [
        {
          "data": {
            "text/plain": [
              "pymongo.cursor.Cursor"
            ]
          },
          "execution_count": 134,
          "metadata": {},
          "output_type": "execute_result"
        }
      ],
      "source": [
        "type(docu)"
      ]
    },
    {
      "cell_type": "code",
      "execution_count": null,
      "id": "575058bb",
      "metadata": {
        "id": "575058bb",
        "outputId": "627274c4-304e-4c4d-a266-0fa4e8db28b2"
      },
      "outputs": [
        {
          "data": {
            "text/plain": [
              "<pymongo.results.DeleteResult at 0x1883665dc70>"
            ]
          },
          "execution_count": 149,
          "metadata": {},
          "output_type": "execute_result"
        }
      ],
      "source": [
        "numdb.docu.delete_many({'num': {'$gte': 10}})"
      ]
    },
    {
      "cell_type": "code",
      "execution_count": null,
      "id": "3df69bb1",
      "metadata": {
        "id": "3df69bb1",
        "outputId": "a6bb43ec-9348-44e9-c7a2-4cae1e1b3646"
      },
      "outputs": [
        {
          "name": "stdout",
          "output_type": "stream",
          "text": [
            "{'_id': ObjectId('634f925e58196bff11cc30e6'), 'num': [1, 3, 5, 7, 9, 11, 13, 15, 17, 19, 21, 23, 25, 27, 29, 31, 33, 35, 37, 39, 41, 43, 45, 47, 49, 51, 53, 55, 57, 59, 61, 63, 65, 67, 69, 71, 73, 75, 77, 79, 81, 83, 85, 87, 89, 91, 93, 95, 97, 99, 101, 103, 105, 107, 109, 111, 113, 115, 117, 119, 121, 123, 125, 127, 129, 131, 133, 135, 137, 139, 141, 143, 145, 147, 149, 151, 153, 155, 157, 159, 161, 163, 165, 167, 169, 171, 173, 175, 177, 179, 181, 183, 185, 187, 189, 191, 193, 195, 197, 199]}\n"
          ]
        }
      ],
      "source": [
        "for i in numdb.find():\n",
        "    print(i)"
      ]
    },
    {
      "cell_type": "code",
      "execution_count": null,
      "id": "9a32b433",
      "metadata": {
        "id": "9a32b433"
      },
      "outputs": [],
      "source": []
    },
    {
      "cell_type": "code",
      "execution_count": null,
      "id": "17196b75",
      "metadata": {
        "id": "17196b75"
      },
      "outputs": [],
      "source": [
        "import pymongo\n",
        "conn = pymongo.MongoClient()\n",
        "books = conn.books\n",
        "subject_book = books.subject_book\n",
        "\n",
        "data = list()\n",
        "for index in range(100):\n",
        "    data.append({\"author\":\"SeSAC\", \"publisher\":\"sesac\", \"number\": index })\n"
      ]
    },
    {
      "cell_type": "code",
      "execution_count": null,
      "id": "73fb657f",
      "metadata": {
        "id": "73fb657f",
        "outputId": "787842c5-c4cb-47a3-e09a-9f757c6ccf96"
      },
      "outputs": [
        {
          "data": {
            "text/plain": [
              "[{'author': 'SeSAC', 'publisher': 'sesac', 'number': 0},\n",
              " {'author': 'SeSAC', 'publisher': 'sesac', 'number': 1},\n",
              " {'author': 'SeSAC', 'publisher': 'sesac', 'number': 2},\n",
              " {'author': 'SeSAC', 'publisher': 'sesac', 'number': 3},\n",
              " {'author': 'SeSAC', 'publisher': 'sesac', 'number': 4},\n",
              " {'author': 'SeSAC', 'publisher': 'sesac', 'number': 5},\n",
              " {'author': 'SeSAC', 'publisher': 'sesac', 'number': 6},\n",
              " {'author': 'SeSAC', 'publisher': 'sesac', 'number': 7},\n",
              " {'author': 'SeSAC', 'publisher': 'sesac', 'number': 8},\n",
              " {'author': 'SeSAC', 'publisher': 'sesac', 'number': 9},\n",
              " {'author': 'SeSAC', 'publisher': 'sesac', 'number': 10},\n",
              " {'author': 'SeSAC', 'publisher': 'sesac', 'number': 11},\n",
              " {'author': 'SeSAC', 'publisher': 'sesac', 'number': 12},\n",
              " {'author': 'SeSAC', 'publisher': 'sesac', 'number': 13},\n",
              " {'author': 'SeSAC', 'publisher': 'sesac', 'number': 14},\n",
              " {'author': 'SeSAC', 'publisher': 'sesac', 'number': 15},\n",
              " {'author': 'SeSAC', 'publisher': 'sesac', 'number': 16},\n",
              " {'author': 'SeSAC', 'publisher': 'sesac', 'number': 17},\n",
              " {'author': 'SeSAC', 'publisher': 'sesac', 'number': 18},\n",
              " {'author': 'SeSAC', 'publisher': 'sesac', 'number': 19},\n",
              " {'author': 'SeSAC', 'publisher': 'sesac', 'number': 20},\n",
              " {'author': 'SeSAC', 'publisher': 'sesac', 'number': 21},\n",
              " {'author': 'SeSAC', 'publisher': 'sesac', 'number': 22},\n",
              " {'author': 'SeSAC', 'publisher': 'sesac', 'number': 23},\n",
              " {'author': 'SeSAC', 'publisher': 'sesac', 'number': 24},\n",
              " {'author': 'SeSAC', 'publisher': 'sesac', 'number': 25},\n",
              " {'author': 'SeSAC', 'publisher': 'sesac', 'number': 26},\n",
              " {'author': 'SeSAC', 'publisher': 'sesac', 'number': 27},\n",
              " {'author': 'SeSAC', 'publisher': 'sesac', 'number': 28},\n",
              " {'author': 'SeSAC', 'publisher': 'sesac', 'number': 29},\n",
              " {'author': 'SeSAC', 'publisher': 'sesac', 'number': 30},\n",
              " {'author': 'SeSAC', 'publisher': 'sesac', 'number': 31},\n",
              " {'author': 'SeSAC', 'publisher': 'sesac', 'number': 32},\n",
              " {'author': 'SeSAC', 'publisher': 'sesac', 'number': 33},\n",
              " {'author': 'SeSAC', 'publisher': 'sesac', 'number': 34},\n",
              " {'author': 'SeSAC', 'publisher': 'sesac', 'number': 35},\n",
              " {'author': 'SeSAC', 'publisher': 'sesac', 'number': 36},\n",
              " {'author': 'SeSAC', 'publisher': 'sesac', 'number': 37},\n",
              " {'author': 'SeSAC', 'publisher': 'sesac', 'number': 38},\n",
              " {'author': 'SeSAC', 'publisher': 'sesac', 'number': 39},\n",
              " {'author': 'SeSAC', 'publisher': 'sesac', 'number': 40},\n",
              " {'author': 'SeSAC', 'publisher': 'sesac', 'number': 41},\n",
              " {'author': 'SeSAC', 'publisher': 'sesac', 'number': 42},\n",
              " {'author': 'SeSAC', 'publisher': 'sesac', 'number': 43},\n",
              " {'author': 'SeSAC', 'publisher': 'sesac', 'number': 44},\n",
              " {'author': 'SeSAC', 'publisher': 'sesac', 'number': 45},\n",
              " {'author': 'SeSAC', 'publisher': 'sesac', 'number': 46},\n",
              " {'author': 'SeSAC', 'publisher': 'sesac', 'number': 47},\n",
              " {'author': 'SeSAC', 'publisher': 'sesac', 'number': 48},\n",
              " {'author': 'SeSAC', 'publisher': 'sesac', 'number': 49},\n",
              " {'author': 'SeSAC', 'publisher': 'sesac', 'number': 50},\n",
              " {'author': 'SeSAC', 'publisher': 'sesac', 'number': 51},\n",
              " {'author': 'SeSAC', 'publisher': 'sesac', 'number': 52},\n",
              " {'author': 'SeSAC', 'publisher': 'sesac', 'number': 53},\n",
              " {'author': 'SeSAC', 'publisher': 'sesac', 'number': 54},\n",
              " {'author': 'SeSAC', 'publisher': 'sesac', 'number': 55},\n",
              " {'author': 'SeSAC', 'publisher': 'sesac', 'number': 56},\n",
              " {'author': 'SeSAC', 'publisher': 'sesac', 'number': 57},\n",
              " {'author': 'SeSAC', 'publisher': 'sesac', 'number': 58},\n",
              " {'author': 'SeSAC', 'publisher': 'sesac', 'number': 59},\n",
              " {'author': 'SeSAC', 'publisher': 'sesac', 'number': 60},\n",
              " {'author': 'SeSAC', 'publisher': 'sesac', 'number': 61},\n",
              " {'author': 'SeSAC', 'publisher': 'sesac', 'number': 62},\n",
              " {'author': 'SeSAC', 'publisher': 'sesac', 'number': 63},\n",
              " {'author': 'SeSAC', 'publisher': 'sesac', 'number': 64},\n",
              " {'author': 'SeSAC', 'publisher': 'sesac', 'number': 65},\n",
              " {'author': 'SeSAC', 'publisher': 'sesac', 'number': 66},\n",
              " {'author': 'SeSAC', 'publisher': 'sesac', 'number': 67},\n",
              " {'author': 'SeSAC', 'publisher': 'sesac', 'number': 68},\n",
              " {'author': 'SeSAC', 'publisher': 'sesac', 'number': 69},\n",
              " {'author': 'SeSAC', 'publisher': 'sesac', 'number': 70},\n",
              " {'author': 'SeSAC', 'publisher': 'sesac', 'number': 71},\n",
              " {'author': 'SeSAC', 'publisher': 'sesac', 'number': 72},\n",
              " {'author': 'SeSAC', 'publisher': 'sesac', 'number': 73},\n",
              " {'author': 'SeSAC', 'publisher': 'sesac', 'number': 74},\n",
              " {'author': 'SeSAC', 'publisher': 'sesac', 'number': 75},\n",
              " {'author': 'SeSAC', 'publisher': 'sesac', 'number': 76},\n",
              " {'author': 'SeSAC', 'publisher': 'sesac', 'number': 77},\n",
              " {'author': 'SeSAC', 'publisher': 'sesac', 'number': 78},\n",
              " {'author': 'SeSAC', 'publisher': 'sesac', 'number': 79},\n",
              " {'author': 'SeSAC', 'publisher': 'sesac', 'number': 80},\n",
              " {'author': 'SeSAC', 'publisher': 'sesac', 'number': 81},\n",
              " {'author': 'SeSAC', 'publisher': 'sesac', 'number': 82},\n",
              " {'author': 'SeSAC', 'publisher': 'sesac', 'number': 83},\n",
              " {'author': 'SeSAC', 'publisher': 'sesac', 'number': 84},\n",
              " {'author': 'SeSAC', 'publisher': 'sesac', 'number': 85},\n",
              " {'author': 'SeSAC', 'publisher': 'sesac', 'number': 86},\n",
              " {'author': 'SeSAC', 'publisher': 'sesac', 'number': 87},\n",
              " {'author': 'SeSAC', 'publisher': 'sesac', 'number': 88},\n",
              " {'author': 'SeSAC', 'publisher': 'sesac', 'number': 89},\n",
              " {'author': 'SeSAC', 'publisher': 'sesac', 'number': 90},\n",
              " {'author': 'SeSAC', 'publisher': 'sesac', 'number': 91},\n",
              " {'author': 'SeSAC', 'publisher': 'sesac', 'number': 92},\n",
              " {'author': 'SeSAC', 'publisher': 'sesac', 'number': 93},\n",
              " {'author': 'SeSAC', 'publisher': 'sesac', 'number': 94},\n",
              " {'author': 'SeSAC', 'publisher': 'sesac', 'number': 95},\n",
              " {'author': 'SeSAC', 'publisher': 'sesac', 'number': 96},\n",
              " {'author': 'SeSAC', 'publisher': 'sesac', 'number': 97},\n",
              " {'author': 'SeSAC', 'publisher': 'sesac', 'number': 98},\n",
              " {'author': 'SeSAC', 'publisher': 'sesac', 'number': 99}]"
            ]
          },
          "execution_count": 217,
          "metadata": {},
          "output_type": "execute_result"
        }
      ],
      "source": [
        "data"
      ]
    },
    {
      "cell_type": "code",
      "execution_count": null,
      "id": "b40a5244",
      "metadata": {
        "id": "b40a5244"
      },
      "outputs": [],
      "source": []
    }
  ],
  "metadata": {
    "kernelspec": {
      "display_name": "Python 3 (ipykernel)",
      "language": "python",
      "name": "python3"
    },
    "language_info": {
      "codemirror_mode": {
        "name": "ipython",
        "version": 3
      },
      "file_extension": ".py",
      "mimetype": "text/x-python",
      "name": "python",
      "nbconvert_exporter": "python",
      "pygments_lexer": "ipython3",
      "version": "3.9.12"
    },
    "colab": {
      "provenance": [],
      "include_colab_link": true
    }
  },
  "nbformat": 4,
  "nbformat_minor": 5
}