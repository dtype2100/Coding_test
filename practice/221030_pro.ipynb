{
  "nbformat": 4,
  "nbformat_minor": 0,
  "metadata": {
    "colab": {
      "provenance": [],
      "authorship_tag": "ABX9TyMmKtdh0MMY3nWZnQu9SMDy",
      "include_colab_link": true
    },
    "kernelspec": {
      "name": "python3",
      "display_name": "Python 3"
    },
    "language_info": {
      "name": "python"
    }
  },
  "cells": [
    {
      "cell_type": "markdown",
      "metadata": {
        "id": "view-in-github",
        "colab_type": "text"
      },
      "source": [
        "<a href=\"https://colab.research.google.com/github/dtype2100/Coding_test/blob/master/221030_pro.ipynb\" target=\"_parent\"><img src=\"https://colab.research.google.com/assets/colab-badge.svg\" alt=\"Open In Colab\"/></a>"
      ]
    },
    {
      "cell_type": "markdown",
      "source": [
        "* [n의 배수 고르기](https://school.programmers.co.kr/learn/courses/30/lessons/120905)"
      ],
      "metadata": {
        "id": "gvwhTYkiDtdX"
      }
    },
    {
      "cell_type": "code",
      "execution_count": null,
      "metadata": {
        "id": "eQa0ktpIAsOa"
      },
      "outputs": [],
      "source": [
        "def solution(n, numlist):\n",
        "    answer = []\n",
        "    for i in numlist:\n",
        "        if i % n == 0:\n",
        "            answer.append(i)\n",
        "    return answer"
      ]
    },
    {
      "cell_type": "code",
      "source": [
        "# 다른 문제 풀이\n",
        "def solution(n, numlist):\n",
        "    answer = [i for i in numlist if i%n==0]\n",
        "    return answer"
      ],
      "metadata": {
        "id": "uArNqks0DKKl"
      },
      "execution_count": null,
      "outputs": []
    },
    {
      "cell_type": "markdown",
      "source": [
        "* [순서쌍의 개수](https://school.programmers.co.kr/learn/courses/30/lessons/120836)"
      ],
      "metadata": {
        "id": "7o7IL-jlILi3"
      }
    },
    {
      "cell_type": "code",
      "source": [
        "# 시간초과\n",
        "def solution(n):\n",
        "    answer = 0\n",
        "    for i in range(1, n+1):\n",
        "        for j in range(1, n+1):\n",
        "            if i * j == n:\n",
        "                answer += 1\n",
        "    return answer"
      ],
      "metadata": {
        "id": "Xq0xOMMaHNhH"
      },
      "execution_count": null,
      "outputs": []
    },
    {
      "cell_type": "code",
      "source": [
        "def solution(n):\n",
        "    answer = 0\n",
        "    for i in range(1, n+1):\n",
        "      if i * i == n:\n",
        "        answer += 1\n",
        "    return answer"
      ],
      "metadata": {
        "id": "8xMo7gLXIT4_"
      },
      "execution_count": null,
      "outputs": []
    }
  ]
}