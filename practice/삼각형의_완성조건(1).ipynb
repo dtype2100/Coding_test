{
  "nbformat": 4,
  "nbformat_minor": 0,
  "metadata": {
    "colab": {
      "provenance": [],
      "authorship_tag": "ABX9TyOuRfNH7Jhxl2PaWanP/N1b",
      "include_colab_link": true
    },
    "kernelspec": {
      "name": "python3",
      "display_name": "Python 3"
    },
    "language_info": {
      "name": "python"
    }
  },
  "cells": [
    {
      "cell_type": "markdown",
      "metadata": {
        "id": "view-in-github",
        "colab_type": "text"
      },
      "source": [
        "<a href=\"https://colab.research.google.com/github/dtype2100/Coding_test/blob/master/%EC%82%BC%EA%B0%81%ED%98%95%EC%9D%98_%EC%99%84%EC%84%B1%EC%A1%B0%EA%B1%B4(1).ipynb\" target=\"_parent\"><img src=\"https://colab.research.google.com/assets/colab-badge.svg\" alt=\"Open In Colab\"/></a>"
      ]
    },
    {
      "cell_type": "markdown",
      "source": [
        "* [삼각형의 완성조건(1)](https://school.programmers.co.kr/learn/courses/30/lessons/120889)"
      ],
      "metadata": {
        "id": "2SGr8JFcAz0k"
      }
    },
    {
      "cell_type": "code",
      "source": [
        "def solution(sides):\n",
        "    max_num = max(sides)\n",
        "    sum_num = sum(sides)\n",
        "    if (sum_num - max_num) <= max_num:\n",
        "        return 2\n",
        "    else:\n",
        "        return 1"
      ],
      "metadata": {
        "id": "g4hM0Y2e_4dq"
      },
      "execution_count": 22,
      "outputs": []
    },
    {
      "cell_type": "code",
      "execution_count": 18,
      "metadata": {
        "id": "RViGdh5B3dah"
      },
      "outputs": [],
      "source": [
        "def solution(sides):\n",
        "    max_num = max(sides)\n",
        "    n = 0\n",
        "    for i in sides:\n",
        "      n += i\n",
        "    if (n - max_num) <= max_num:\n",
        "        return 2\n",
        "    else:\n",
        "        return 1"
      ]
    },
    {
      "cell_type": "code",
      "source": [
        "# 다른 문제 풀이\n",
        "def solution(sides):\n",
        "    return 1 if max(sides) < (sum(sides) - max(sides)) else 2"
      ],
      "metadata": {
        "id": "h5LpsR_rAJzi"
      },
      "execution_count": 23,
      "outputs": []
    },
    {
      "cell_type": "code",
      "source": [
        "# 다른 문제 풀이\n",
        "def solution(sides):\n",
        "    sides.sort()\n",
        "    return 1 if sides[0]+sides[1]>sides[2] else 2"
      ],
      "metadata": {
        "id": "RiQcq96lAZDS"
      },
      "execution_count": null,
      "outputs": []
    }
  ]
}