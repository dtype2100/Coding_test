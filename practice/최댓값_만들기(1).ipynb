{
  "nbformat": 4,
  "nbformat_minor": 0,
  "metadata": {
    "colab": {
      "provenance": [],
      "authorship_tag": "ABX9TyMA1if0JVQehZ+FMfQ52vs/",
      "include_colab_link": true
    },
    "kernelspec": {
      "name": "python3",
      "display_name": "Python 3"
    },
    "language_info": {
      "name": "python"
    }
  },
  "cells": [
    {
      "cell_type": "markdown",
      "metadata": {
        "id": "view-in-github",
        "colab_type": "text"
      },
      "source": [
        "<a href=\"https://colab.research.google.com/github/dtype2100/Coding_test/blob/master/%EC%B5%9C%EB%8C%93%EA%B0%92_%EB%A7%8C%EB%93%A4%EA%B8%B0(1).ipynb\" target=\"_parent\"><img src=\"https://colab.research.google.com/assets/colab-badge.svg\" alt=\"Open In Colab\"/></a>"
      ]
    },
    {
      "cell_type": "markdown",
      "source": [
        "* [최댓값 만들기(1)](https://school.programmers.co.kr/learn/courses/30/lessons/120847)"
      ],
      "metadata": {
        "id": "vZ2ikQVham_l"
      }
    },
    {
      "cell_type": "code",
      "execution_count": null,
      "metadata": {
        "id": "dUjflu6SajWO"
      },
      "outputs": [],
      "source": [
        "def solution(numbers):\n",
        "    numbers.sort()\n",
        "    largest = numbers[-1]\n",
        "    second = numbers[-2]\n",
        "    return largest * second"
      ]
    },
    {
      "cell_type": "code",
      "source": [
        "# 다른 문제 풀이\n",
        "def solution(numbers):\n",
        "    num1 = 0\n",
        "    num2 = 0\n",
        "    answer = 0\n",
        "\n",
        "    numbers.sort()\n",
        "\n",
        "    num1 = numbers.pop()\n",
        "    num2 = numbers.pop()\n",
        "    answer = num1 * num2\n",
        "\n",
        "    return answer"
      ],
      "metadata": {
        "id": "Gk0aTy1YalH1"
      },
      "execution_count": null,
      "outputs": []
    }
  ]
}