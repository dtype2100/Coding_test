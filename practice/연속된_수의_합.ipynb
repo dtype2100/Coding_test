{
  "nbformat": 4,
  "nbformat_minor": 0,
  "metadata": {
    "colab": {
      "provenance": [],
      "authorship_tag": "ABX9TyNEOPyfU2CWqmwBsp7sMcuB",
      "include_colab_link": true
    },
    "kernelspec": {
      "name": "python3",
      "display_name": "Python 3"
    },
    "language_info": {
      "name": "python"
    }
  },
  "cells": [
    {
      "cell_type": "markdown",
      "metadata": {
        "id": "view-in-github",
        "colab_type": "text"
      },
      "source": [
        "<a href=\"https://colab.research.google.com/github/dtype2100/Coding_test/blob/master/%EC%97%B0%EC%86%8D%EB%90%9C_%EC%88%98%EC%9D%98_%ED%95%A9.ipynb\" target=\"_parent\"><img src=\"https://colab.research.google.com/assets/colab-badge.svg\" alt=\"Open In Colab\"/></a>"
      ]
    },
    {
      "cell_type": "markdown",
      "source": [
        "* [연속된 수의 합](https://school.programmers.co.kr/learn/courses/30/lessons/120923)"
      ],
      "metadata": {
        "id": "8twT2ge3ANN7"
      }
    },
    {
      "cell_type": "code",
      "execution_count": null,
      "metadata": {
        "id": "E9oL6959ABbF"
      },
      "outputs": [],
      "source": [
        "def solution(num, total):\n",
        "    average = total // num\n",
        "    answer = []\n",
        "    for i in range(average - (num-1)//2, average + (num + 2)//2):\n",
        "        answer.append(i)\n",
        "    return answer"
      ]
    },
    {
      "cell_type": "code",
      "source": [
        "# 다른 문제 풀이\n",
        "def solution(num, total):\n",
        "    average = total // num\n",
        "    return [i for i in range(average - (num-1)//2, average + (num + 2)//2)]"
      ],
      "metadata": {
        "id": "nmq0_SSiACOj"
      },
      "execution_count": null,
      "outputs": []
    }
  ]
}