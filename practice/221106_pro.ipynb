{
  "nbformat": 4,
  "nbformat_minor": 0,
  "metadata": {
    "colab": {
      "provenance": [],
      "authorship_tag": "ABX9TyMxSryviVELxaId5JysVkLd",
      "include_colab_link": true
    },
    "kernelspec": {
      "name": "python3",
      "display_name": "Python 3"
    },
    "language_info": {
      "name": "python"
    }
  },
  "cells": [
    {
      "cell_type": "markdown",
      "metadata": {
        "id": "view-in-github",
        "colab_type": "text"
      },
      "source": [
        "<a href=\"https://colab.research.google.com/github/dtype2100/Coding_test/blob/master/221106_pro.ipynb\" target=\"_parent\"><img src=\"https://colab.research.google.com/assets/colab-badge.svg\" alt=\"Open In Colab\"/></a>"
      ]
    },
    {
      "cell_type": "markdown",
      "source": [
        "* [문자열 정렬하기 (1)](https://school.programmers.co.kr/learn/courses/30/lessons/120850)"
      ],
      "metadata": {
        "id": "-kVcWKHlWSL2"
      }
    },
    {
      "cell_type": "code",
      "source": [
        "def solution(my_string):\n",
        "    answer = []\n",
        "\n",
        "    for i in my_string:\n",
        "      if i.isalpha():\n",
        "        continue\n",
        "      else:\n",
        "        answer.append(int(i))\n",
        "    answer.sort()\n",
        "    return answer"
      ],
      "metadata": {
        "id": "ah7uJAVr8YLp"
      },
      "execution_count": null,
      "outputs": []
    },
    {
      "cell_type": "code",
      "source": [
        "# 다른 문제 풀이\n",
        "def solution(my_string):\n",
        "    return sorted([int(c) for c in my_string if c.isdigit()])"
      ],
      "metadata": {
        "id": "WSyKMiTUW9Pd"
      },
      "execution_count": null,
      "outputs": []
    }
  ]
}