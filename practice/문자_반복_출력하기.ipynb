{
  "nbformat": 4,
  "nbformat_minor": 0,
  "metadata": {
    "colab": {
      "provenance": [],
      "authorship_tag": "ABX9TyN2M2lbSqwNiazdKPAhBILh",
      "include_colab_link": true
    },
    "kernelspec": {
      "name": "python3",
      "display_name": "Python 3"
    },
    "language_info": {
      "name": "python"
    }
  },
  "cells": [
    {
      "cell_type": "markdown",
      "metadata": {
        "id": "view-in-github",
        "colab_type": "text"
      },
      "source": [
        "<a href=\"https://colab.research.google.com/github/dtype2100/Coding_test/blob/master/%EB%AC%B8%EC%9E%90_%EB%B0%98%EB%B3%B5_%EC%B6%9C%EB%A0%A5%ED%95%98%EA%B8%B0.ipynb\" target=\"_parent\"><img src=\"https://colab.research.google.com/assets/colab-badge.svg\" alt=\"Open In Colab\"/></a>"
      ]
    },
    {
      "cell_type": "markdown",
      "source": [
        "* [문자 반복 출력하기](https://school.programmers.co.kr/learn/courses/30/lessons/120825)"
      ],
      "metadata": {
        "id": "VwD1uLg6yNnf"
      }
    },
    {
      "cell_type": "code",
      "execution_count": null,
      "metadata": {
        "id": "jAP-Z-AxyLsu"
      },
      "outputs": [],
      "source": [
        "def solution(my_string, n):\n",
        "    answer = ''\n",
        "    for i in my_string:\n",
        "        answer += i*n\n",
        "    return answer"
      ]
    }
  ]
}