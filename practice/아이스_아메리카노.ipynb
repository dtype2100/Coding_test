{
  "nbformat": 4,
  "nbformat_minor": 0,
  "metadata": {
    "colab": {
      "provenance": [],
      "authorship_tag": "ABX9TyPmo2PJWXOhQFeX+7uznD3T",
      "include_colab_link": true
    },
    "kernelspec": {
      "name": "python3",
      "display_name": "Python 3"
    },
    "language_info": {
      "name": "python"
    }
  },
  "cells": [
    {
      "cell_type": "markdown",
      "metadata": {
        "id": "view-in-github",
        "colab_type": "text"
      },
      "source": [
        "<a href=\"https://colab.research.google.com/github/dtype2100/Coding_test/blob/master/%EC%95%84%EC%9D%B4%EC%8A%A4_%EC%95%84%EB%A9%94%EB%A6%AC%EC%B9%B4%EB%85%B8.ipynb\" target=\"_parent\"><img src=\"https://colab.research.google.com/assets/colab-badge.svg\" alt=\"Open In Colab\"/></a>"
      ]
    },
    {
      "cell_type": "markdown",
      "source": [
        "* [아이스 아메리카노](https://school.programmers.co.kr/learn/courses/30/lessons/120819)"
      ],
      "metadata": {
        "id": "YvaZyAvZaxwU"
      }
    },
    {
      "cell_type": "code",
      "execution_count": null,
      "metadata": {
        "id": "qClPHHX0aw2P"
      },
      "outputs": [],
      "source": [
        "def solution(money):\n",
        "  answer = [0, 0]\n",
        "  answer[0] = money // 5500\n",
        "  answer[1] = money % 5500 \n",
        "  return answer"
      ]
    },
    {
      "cell_type": "code",
      "source": [
        "# 다른 문제 풀이\n",
        "def solution(money):\n",
        "  answer = [money//5500, money % 5500]\n",
        "  return answer"
      ],
      "metadata": {
        "id": "Fw46Su3Uazjq"
      },
      "execution_count": null,
      "outputs": []
    },
    {
      "cell_type": "code",
      "source": [
        "# 다른 문제 풀이\n",
        "def soiution(money):\n",
        "  return divmod(money, 5500)"
      ],
      "metadata": {
        "id": "YnA-vzVnazhT"
      },
      "execution_count": null,
      "outputs": []
    }
  ]
}