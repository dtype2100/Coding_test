{
  "nbformat": 4,
  "nbformat_minor": 0,
  "metadata": {
    "colab": {
      "provenance": [],
      "authorship_tag": "ABX9TyPEpBCYN3oEBaAjxcqb1Nu1",
      "include_colab_link": true
    },
    "kernelspec": {
      "name": "python3",
      "display_name": "Python 3"
    },
    "language_info": {
      "name": "python"
    }
  },
  "cells": [
    {
      "cell_type": "markdown",
      "metadata": {
        "id": "view-in-github",
        "colab_type": "text"
      },
      "source": [
        "<a href=\"https://colab.research.google.com/github/dtype2100/Coding_test/blob/master/%EC%A0%9C%EA%B3%B1%EC%88%98_%ED%8C%90%EB%B3%84%ED%95%98%EA%B8%B0.ipynb\" target=\"_parent\"><img src=\"https://colab.research.google.com/assets/colab-badge.svg\" alt=\"Open In Colab\"/></a>"
      ]
    },
    {
      "cell_type": "markdown",
      "source": [
        "* [제곱수 판별하기](https://school.programmers.co.kr/learn/courses/30/lessons/120909)"
      ],
      "metadata": {
        "id": "AOsiBFS97TF_"
      }
    },
    {
      "cell_type": "code",
      "execution_count": null,
      "metadata": {
        "id": "c0CxjOEE7NKQ"
      },
      "outputs": [],
      "source": [
        "def solution(n):\n",
        "    sqrt = n ** (1/2)\n",
        "    if sqrt % 1 == 0:\n",
        "        return 1\n",
        "    return 2"
      ]
    }
  ]
}