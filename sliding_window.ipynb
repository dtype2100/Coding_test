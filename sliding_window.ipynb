{
 "cells": [
  {
   "cell_type": "code",
   "execution_count": 1,
   "metadata": {},
   "outputs": [],
   "source": [
    "nums = [1, 3, -1, -3, 5, 3, 6, 7]\n",
    "k = 3"
   ]
  },
  {
   "cell_type": "code",
   "execution_count": 12,
   "metadata": {},
   "outputs": [
    {
     "name": "stdout",
     "output_type": "stream",
     "text": [
      "[3, 3, 5, 5, 6, 7]\n",
      "CPU times: user 1.04 ms, sys: 190 μs, total: 1.23 ms\n",
      "Wall time: 1.57 ms\n"
     ]
    }
   ],
   "source": [
    "%%time\n",
    "def maxSlidingWindow(nums):\n",
    "    if not nums:\n",
    "        return nums\n",
    "\n",
    "    result = []\n",
    "    for i in range(len(nums) - k + 1):\n",
    "        result.append(max(nums[i:i + k]))\n",
    "    \n",
    "    return result\n",
    "\n",
    "print(maxSlidingWindow(nums))"
   ]
  },
  {
   "cell_type": "code",
   "execution_count": 11,
   "metadata": {},
   "outputs": [
    {
     "name": "stdout",
     "output_type": "stream",
     "text": [
      "[3, 3, 5, 5, 6, 7]\n",
      "CPU times: user 674 μs, sys: 75 μs, total: 749 μs\n",
      "Wall time: 611 μs\n"
     ]
    }
   ],
   "source": [
    "%%time\n",
    "from collections import deque\n",
    "\n",
    "def maxSlidingWindow(nums, k):\n",
    "    results = []\n",
    "    window = deque()\n",
    "    \n",
    "    for i, v in enumerate(nums):\n",
    "        # 윈도우의 범위를 넘은 인덱스는 제거\n",
    "        if window and window[0] <= i - k:\n",
    "            window.popleft()\n",
    "        \n",
    "        # 새로 들어온 값이 윈도우 내의 값보다 크다면 작은 값들을 모두 제거\n",
    "        while window and nums[window[-1]] <= v:\n",
    "            window.pop()\n",
    "        \n",
    "        window.append(i)\n",
    "        \n",
    "        # 첫 번째 윈도우가 끝난 후부터 결과에 최대값 추가\n",
    "        if i >= k - 1:\n",
    "            results.append(nums[window[0]])\n",
    "    \n",
    "    return results\n",
    "\n",
    "# maxSlidingWindow 호출 시 k 값을 전달해야 합니다.\n",
    "print(maxSlidingWindow([1, 3, -1, -3, 5, 3, 6, 7], 3))\n"
   ]
  },
  {
   "cell_type": "code",
   "execution_count": null,
   "metadata": {},
   "outputs": [],
   "source": []
  }
 ],
 "metadata": {
  "kernelspec": {
   "display_name": "Python 3",
   "language": "python",
   "name": "python3"
  },
  "language_info": {
   "codemirror_mode": {
    "name": "ipython",
    "version": 3
   },
   "file_extension": ".py",
   "mimetype": "text/x-python",
   "name": "python",
   "nbconvert_exporter": "python",
   "pygments_lexer": "ipython3",
   "version": "3.10.13"
  }
 },
 "nbformat": 4,
 "nbformat_minor": 2
}
