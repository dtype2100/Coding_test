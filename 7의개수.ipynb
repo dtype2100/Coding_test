{
  "nbformat": 4,
  "nbformat_minor": 0,
  "metadata": {
    "colab": {
      "provenance": [],
      "authorship_tag": "ABX9TyN37cSwt63usY2aTU6j2loM",
      "include_colab_link": true
    },
    "kernelspec": {
      "name": "python3",
      "display_name": "Python 3"
    },
    "language_info": {
      "name": "python"
    }
  },
  "cells": [
    {
      "cell_type": "markdown",
      "metadata": {
        "id": "view-in-github",
        "colab_type": "text"
      },
      "source": [
        "<a href=\"https://colab.research.google.com/github/dtype2100/Coding_test/blob/master/7%EC%9D%98%EA%B0%9C%EC%88%98.ipynb\" target=\"_parent\"><img src=\"https://colab.research.google.com/assets/colab-badge.svg\" alt=\"Open In Colab\"/></a>"
      ]
    },
    {
      "cell_type": "markdown",
      "source": [
        "* [7의 개수](https://school.programmers.co.kr/learn/courses/30/lessons/120912)"
      ],
      "metadata": {
        "id": "AR2deTS3Vv33"
      }
    },
    {
      "cell_type": "code",
      "execution_count": null,
      "metadata": {
        "id": "6tQR38mOVib9"
      },
      "outputs": [],
      "source": [
        "def solution(array):\n",
        "    answer = 0\n",
        "    for i in str(array):\n",
        "        if i == '7':\n",
        "            answer += 1\n",
        "    return answer"
      ]
    },
    {
      "cell_type": "code",
      "source": [
        "# 다른 문제 풀이\n",
        "def solution(array):\n",
        "    return str(array).count('7')"
      ],
      "metadata": {
        "id": "9JSazeIYVjnd"
      },
      "execution_count": null,
      "outputs": []
    }
  ]
}