{
  "nbformat": 4,
  "nbformat_minor": 0,
  "metadata": {
    "colab": {
      "provenance": [],
      "authorship_tag": "ABX9TyO1AQa1PzYstodEER/bm+nz",
      "include_colab_link": true
    },
    "kernelspec": {
      "name": "python3",
      "display_name": "Python 3"
    },
    "language_info": {
      "name": "python"
    }
  },
  "cells": [
    {
      "cell_type": "markdown",
      "metadata": {
        "id": "view-in-github",
        "colab_type": "text"
      },
      "source": [
        "<a href=\"https://colab.research.google.com/github/dtype2100/Coding_test/blob/master/%EC%9D%B8%EB%8D%B1%EC%8A%A4%EB%B0%94%EA%BE%B8%EA%B8%B0.ipynb\" target=\"_parent\"><img src=\"https://colab.research.google.com/assets/colab-badge.svg\" alt=\"Open In Colab\"/></a>"
      ]
    },
    {
      "cell_type": "markdown",
      "source": [
        "* [인덱스 바꾸기](https://school.programmers.co.kr/learn/courses/30/lessons/120895)"
      ],
      "metadata": {
        "id": "JpQKYxOOOxg9"
      }
    },
    {
      "cell_type": "code",
      "source": [
        "def solution(my_string, num1, num2):\n",
        "    answer = ''\n",
        "    n1 = my_string[num1]\n",
        "    n2 = my_string[num2]\n",
        "\n",
        "    my_string = list(my_string)\n",
        "    my_string[num1] = n2\n",
        "    my_string[num2] = n1\n",
        "    answer = ''.join(my_string)\n",
        "    return answer"
      ],
      "metadata": {
        "id": "w17YyFNwOo4P"
      },
      "execution_count": null,
      "outputs": []
    },
    {
      "cell_type": "code",
      "execution_count": null,
      "metadata": {
        "id": "J2T1ALGfOVQd"
      },
      "outputs": [],
      "source": [
        "\n",
        "def solution(my_string, num1, num2):\n",
        "    my_string = list(my_string)\n",
        "    my_string[num1], my_string[num2] = my_string[num2], my_string[num1]\n",
        "    return \"\".join(my_string)"
      ]
    },
    {
      "cell_type": "code",
      "source": [],
      "metadata": {
        "id": "w8tVPVO9OXct"
      },
      "execution_count": null,
      "outputs": []
    },
    {
      "cell_type": "code",
      "source": [],
      "metadata": {
        "id": "EDNyII8BOXZ0"
      },
      "execution_count": null,
      "outputs": []
    }
  ]
}