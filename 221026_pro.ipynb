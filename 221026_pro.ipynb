{
  "nbformat": 4,
  "nbformat_minor": 0,
  "metadata": {
    "colab": {
      "provenance": [],
      "collapsed_sections": [],
      "authorship_tag": "ABX9TyOEJBirOYmzScHQVRp8vxkz",
      "include_colab_link": true
    },
    "kernelspec": {
      "name": "python3",
      "display_name": "Python 3"
    },
    "language_info": {
      "name": "python"
    }
  },
  "cells": [
    {
      "cell_type": "markdown",
      "metadata": {
        "id": "view-in-github",
        "colab_type": "text"
      },
      "source": [
        "<a href=\"https://colab.research.google.com/github/dtype2100/Coding_test/blob/master/221026_pro.ipynb\" target=\"_parent\"><img src=\"https://colab.research.google.com/assets/colab-badge.svg\" alt=\"Open In Colab\"/></a>"
      ]
    },
    {
      "cell_type": "markdown",
      "source": [
        "* [가장 큰 수 찾기](https://school.programmers.co.kr/learn/courses/30/lessons/120899)"
      ],
      "metadata": {
        "id": "knByDdfTpRF2"
      }
    },
    {
      "cell_type": "code",
      "source": [
        "def solution(array):\n",
        "    largest = max(array)\n",
        "    index = array.index(largest)\n",
        "    return [largest, index]"
      ],
      "metadata": {
        "id": "BasaOdqdo-Gt"
      },
      "execution_count": null,
      "outputs": []
    },
    {
      "cell_type": "code",
      "source": [
        "# 다른 문제 풀이\n",
        "def solution(array):\n",
        "    largest = 0\n",
        "    idx = 0\n",
        "    for i, j in enumerate(array):\n",
        "        if j > largest:\n",
        "            largest = j\n",
        "            idx = i\n",
        "    return [largest, idx]"
      ],
      "metadata": {
        "id": "46Sr8XQWp8F9"
      },
      "execution_count": 12,
      "outputs": []
    },
    {
      "cell_type": "code",
      "source": [
        "solution([9, 10, 11, 8])"
      ],
      "metadata": {
        "colab": {
          "base_uri": "https://localhost:8080/"
        },
        "id": "f7XkGU3_qMFf",
        "outputId": "896da078-a64f-45c3-c638-ef40d97ca3f8"
      },
      "execution_count": 13,
      "outputs": [
        {
          "output_type": "execute_result",
          "data": {
            "text/plain": [
              "[11, 2]"
            ]
          },
          "metadata": {},
          "execution_count": 13
        }
      ]
    },
    {
      "cell_type": "markdown",
      "source": [
        "* [짝수는 싫어요](https://school.programmers.co.kr/learn/courses/30/lessons/120813)"
      ],
      "metadata": {
        "id": "eT70EXgRqaGt"
      }
    },
    {
      "cell_type": "code",
      "source": [
        "def solution(n):\n",
        "    answer = []\n",
        "    for i in range(0, n + 1):\n",
        "        if i % 2 == 1:\n",
        "            answer.append(i)\n",
        "\n",
        "    return answer"
      ],
      "metadata": {
        "id": "tRy7q-LIqPy8"
      },
      "execution_count": 20,
      "outputs": []
    },
    {
      "cell_type": "code",
      "source": [
        "# 다른 문제 풀이\n",
        "def solution(n):\n",
        "    return [i for i in range(1, n+1, 2)]"
      ],
      "metadata": {
        "id": "7v-Ak5berWlN"
      },
      "execution_count": 17,
      "outputs": []
    },
    {
      "cell_type": "code",
      "source": [],
      "metadata": {
        "id": "v2erbcnrsaa9"
      },
      "execution_count": null,
      "outputs": []
    }
  ]
}