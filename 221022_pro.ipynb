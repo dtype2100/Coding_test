{
  "nbformat": 4,
  "nbformat_minor": 0,
  "metadata": {
    "colab": {
      "provenance": [],
      "authorship_tag": "ABX9TyOqBn6gBfTRS1GstywIINyU",
      "include_colab_link": true
    },
    "kernelspec": {
      "name": "python3",
      "display_name": "Python 3"
    },
    "language_info": {
      "name": "python"
    }
  },
  "cells": [
    {
      "cell_type": "markdown",
      "metadata": {
        "id": "view-in-github",
        "colab_type": "text"
      },
      "source": [
        "<a href=\"https://colab.research.google.com/github/dtype2100/Coding_test/blob/master/221022_pro.ipynb\" target=\"_parent\"><img src=\"https://colab.research.google.com/assets/colab-badge.svg\" alt=\"Open In Colab\"/></a>"
      ]
    },
    {
      "cell_type": "markdown",
      "source": [
        "* [편지](https://school.programmers.co.kr/learn/courses/30/lessons/120898)"
      ],
      "metadata": {
        "id": "OSbkX6yQPaQV"
      }
    },
    {
      "cell_type": "code",
      "execution_count": null,
      "metadata": {
        "id": "c_XXVFKtPYir"
      },
      "outputs": [],
      "source": [
        "def solution(message):\n",
        "    return len(message) * 2"
      ]
    },
    {
      "cell_type": "markdown",
      "source": [
        "* [점의 위치 구하기](https://school.programmers.co.kr/learn/courses/30/lessons/120841)"
      ],
      "metadata": {
        "id": "GHhwhxFBT7SM"
      }
    },
    {
      "cell_type": "code",
      "source": [
        "def solution(dot):\n",
        "    answer = 0\n",
        "    if dot[0] > 0 and dot[1] > 0:\n",
        "        answer += 1\n",
        "    elif dot[0] < 0 and dot[1] > 0:\n",
        "        answer += 2\n",
        "    elif dot[0] < 0 and dot[1] < 0:\n",
        "        answer += 3\n",
        "    else:\n",
        "        answer += 4\n",
        "    return answer"
      ],
      "metadata": {
        "id": "BoxR6xDtRzzd"
      },
      "execution_count": null,
      "outputs": []
    },
    {
      "cell_type": "code",
      "source": [
        "# 다른 문제 풀이\n",
        "def solution(dot):\n",
        "    quad = [(3,2),(4,1)]\n",
        "    return quad[dot[0] > 0][dot[1] > 0]"
      ],
      "metadata": {
        "id": "SuGduZigR3j0"
      },
      "execution_count": null,
      "outputs": []
    },
    {
      "cell_type": "code",
      "source": [
        "# 다른 문제 풀이\n",
        "def solution(dot):\n",
        "    a, b = 1, 0\n",
        "    if dot[0]*dot[1] > 0:\n",
        "        b = 1\n",
        "    if dot[1] < 0:\n",
        "        a = 2\n",
        "    return 2*a-b"
      ],
      "metadata": {
        "id": "QoNNk7z0SsGT"
      },
      "execution_count": null,
      "outputs": []
    },
    {
      "cell_type": "markdown",
      "source": [
        "* [문자열 뒤집기](https://school.programmers.co.kr/learn/courses/30/lessons/120822)"
      ],
      "metadata": {
        "id": "d038JK8qVqo7"
      }
    },
    {
      "cell_type": "code",
      "source": [
        "def solution(my_string):    \n",
        "    return my_string[::-1]"
      ],
      "metadata": {
        "id": "K5K604IEVdAl"
      },
      "execution_count": null,
      "outputs": []
    },
    {
      "cell_type": "code",
      "source": [
        "def solution(my_string):\n",
        "  reversed_data = ''\n",
        "  for i in my_string:\n",
        "    reversed_data = i + reversed_data\n",
        "  return reversed_data"
      ],
      "metadata": {
        "id": "CvqxEeZMWlOs"
      },
      "execution_count": null,
      "outputs": []
    },
    {
      "cell_type": "code",
      "source": [
        "def solution(my_string):\n",
        "  answer = ''.join(reversed(my_string))\n",
        "  return answer  "
      ],
      "metadata": {
        "id": "4QJAOCdhXZ3r"
      },
      "execution_count": null,
      "outputs": []
    },
    {
      "cell_type": "markdown",
      "source": [
        "* [피자 나눠먹기(1)](https://school.programmers.co.kr/learn/courses/30/lessons/120814)"
      ],
      "metadata": {
        "id": "O9iZmW1YHuiA"
      }
    },
    {
      "cell_type": "code",
      "source": [
        "def solution(n):\n",
        "    answer  = 0\n",
        "    for i in range(n):\n",
        "        if i % 7 == 0:\n",
        "            answer += 1\n",
        "        else:\n",
        "            answer = (i // 7) + 1 \n",
        "    return answer"
      ],
      "metadata": {
        "id": "n3_C1UIRXNPj"
      },
      "execution_count": 19,
      "outputs": []
    },
    {
      "cell_type": "code",
      "source": [
        "# 다른 문제 풀이\n",
        "def solution(n):\n",
        "  return (n - 1) // 7 + 1"
      ],
      "metadata": {
        "id": "WYDYD26EIAdv"
      },
      "execution_count": 22,
      "outputs": []
    }
  ]
}