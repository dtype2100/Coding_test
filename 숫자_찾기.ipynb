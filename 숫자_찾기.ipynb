{
  "nbformat": 4,
  "nbformat_minor": 0,
  "metadata": {
    "colab": {
      "provenance": [],
      "authorship_tag": "ABX9TyPWDd3AYLH5AMbTLFZXJJdx",
      "include_colab_link": true
    },
    "kernelspec": {
      "name": "python3",
      "display_name": "Python 3"
    },
    "language_info": {
      "name": "python"
    }
  },
  "cells": [
    {
      "cell_type": "markdown",
      "metadata": {
        "id": "view-in-github",
        "colab_type": "text"
      },
      "source": [
        "<a href=\"https://colab.research.google.com/github/dtype2100/Coding_test/blob/master/%EC%88%AB%EC%9E%90_%EC%B0%BE%EA%B8%B0.ipynb\" target=\"_parent\"><img src=\"https://colab.research.google.com/assets/colab-badge.svg\" alt=\"Open In Colab\"/></a>"
      ]
    },
    {
      "cell_type": "markdown",
      "source": [
        "* [숫자 찾기](https://school.programmers.co.kr/learn/courses/30/lessons/120904)"
      ],
      "metadata": {
        "id": "6E8r2iG4F7uJ"
      }
    },
    {
      "cell_type": "code",
      "execution_count": null,
      "metadata": {
        "id": "U8P0v-p_FLJz"
      },
      "outputs": [],
      "source": [
        "def solution(num, k):\n",
        "    for i, j in enumerate(str(num)):\n",
        "        if j == str(k):\n",
        "            return i+1\n",
        "    return -1"
      ]
    },
    {
      "cell_type": "code",
      "source": [
        "# 다른 문제 풀이\n",
        "def solution(num, k):\n",
        "    try:\n",
        "        return str(num).index(str(k)) + 1\n",
        "    except ValueError:\n",
        "        return -1"
      ],
      "metadata": {
        "id": "PjBYcM1CFMbQ"
      },
      "execution_count": null,
      "outputs": []
    },
    {
      "cell_type": "code",
      "source": [
        "# 다른 문제 풀이\n",
        "def solution(num, k):\n",
        "    i = str(num).find(str(k))+1\n",
        "    return i if i>0 else -1"
      ],
      "metadata": {
        "id": "adiaPYR3FuaR"
      },
      "execution_count": null,
      "outputs": []
    }
  ]
}