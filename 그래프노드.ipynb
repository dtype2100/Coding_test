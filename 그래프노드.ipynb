{
  "nbformat": 4,
  "nbformat_minor": 0,
  "metadata": {
    "colab": {
      "provenance": [],
      "collapsed_sections": [],
      "authorship_tag": "ABX9TyPb4oK+nByUbhGij8LwLnJX",
      "include_colab_link": true
    },
    "kernelspec": {
      "name": "python3",
      "display_name": "Python 3"
    },
    "language_info": {
      "name": "python"
    }
  },
  "cells": [
    {
      "cell_type": "markdown",
      "metadata": {
        "id": "view-in-github",
        "colab_type": "text"
      },
      "source": [
        "<a href=\"https://colab.research.google.com/github/dtype2100/Coding_test/blob/master/%EA%B7%B8%EB%9E%98%ED%94%84%EB%85%B8%EB%93%9C.ipynb\" target=\"_parent\"><img src=\"https://colab.research.google.com/assets/colab-badge.svg\" alt=\"Open In Colab\"/></a>"
      ]
    },
    {
      "cell_type": "code",
      "execution_count": null,
      "metadata": {
        "id": "rIV8qvKnV0M-"
      },
      "outputs": [],
      "source": [
        "class StationNode:\n",
        "    # 지하철역 노드를 나타내는 클래스\n",
        "    def __init__(self, name, num_exits):\n",
        "        self.name = name\n",
        "        selfname_exits = num_exits\n",
        "# 지하철 역 노드 인스턴스 생성\n",
        "station_0 = StationNode(\"교대역\", 14)\n",
        "station_1 = StationNode(\"사당역\", 14)\n",
        "station_2 = StationNode(\"종로3가역\", 16)\n",
        "station_3 = StationNode(\"서울역\", 16)\n",
        "\n",
        "# 노드들을 파이썬 리스트에 저장\n",
        "stations = [station_0, station_1, station_2, station_3]\n",
        "\n",
        "# 지하철 역 노드들을 파이썬 딕셔너리에 저저장\n",
        "stations = {\n",
        "    \"교대역\": station_0,\n",
        "    \"사당역\": station_1,\n",
        "    \"종로3가역\": station_2,\n",
        "    \"서울역\": station_3\n",
        "}\n",
        "node_1 = stations['교대역']\n",
        "node_2 = stations['서울역']"
      ]
    },
    {
      "cell_type": "code",
      "source": [
        "def create_station_nodes(input_file):\n",
        "    \"\"\"input_file에서 데이터를 읽어 와서 지하철 그래프 노드들을 리턴하는 함수\"\"\"\n",
        "    stations = {}  # 지하철 역 노드들을 담을 딕셔너리\n",
        "\n",
        "    # 파라미터로 받은 input_file 파일을 연다\n",
        "    with open(input_file) as stations_raw_file:\n",
        "        for line in stations_raw_file:  # 파일을 한 줄씩 받아온다\n",
        "            subway_line = line.strip().split(\"-\")  # 앞 뒤 띄어쓰기를 없애고 \"-\"를 기준점으로 데이터를 나눈다\n",
        "\n",
        "            for name in subway_line:\n",
        "                station_name = name.strip()  # 앞 뒤 띄어쓰기 없애기\n",
        "\n",
        "                # 지하철 역 이름이 이미 저장한 key 인지 확인\n",
        "                if station_name not in stations:\n",
        "                    current_station = StationNode(station_name)  # 새로운 인스턴스를 생성하고\n",
        "                    stations[station_name] = current_station  # dictionary에 역 이름은 key로, 역 노드 인스턴스를 value로 저장한다\n",
        "\n",
        "    return stations"
      ],
      "metadata": {
        "id": "TST9QjPXYIBZ"
      },
      "execution_count": null,
      "outputs": []
    },
    {
      "cell_type": "markdown",
      "source": [
        "# 인접 행렬\n",
        "1. 각 노드를 리스트에 저장해 고유 정수 인덱스를 준다\n",
        "2. 노드 수 X 노드 수 크기의 행렬을 만든다\n",
        "3. 노드들의 엣지 유무 및 가중치에 따라 행렬의 요소를 채운다"
      ],
      "metadata": {
        "id": "D3A8WLrjaEdE"
      }
    },
    {
      "cell_type": "markdown",
      "source": [
        "# 인접 리스트\n",
        "* 각 노드의 인접 엣지를 리스트에 저장하는 방법"
      ],
      "metadata": {
        "id": "lHADP6F8a_F4"
      }
    },
    {
      "cell_type": "code",
      "source": [
        "# 강남\n",
        "[stations['교대'], stations['역삼'], stations['양재']]\n",
        "# 교대\n",
        "[stations['강남']]\n",
        "# 양재\n",
        "[stations['강남'], stations['매봉']]\n",
        "# 매봉\n",
        "[stations['양재']]\n",
        "# 역삼\n",
        "[stations['강남'], [stations['선릉']]]"
      ],
      "metadata": {
        "id": "R1MK9xDfbHl4"
      },
      "execution_count": null,
      "outputs": []
    },
    {
      "cell_type": "markdown",
      "source": [
        "# BFS 알고리즘\n",
        "1. 시작 노드를 방문 표시 후, 큐에 넣음\n",
        "2. 큐에 아무 노드가 없을 때까지:\n",
        "  3. 큐 가장 앞 노드를 꺼낸다\n",
        "  4. 꺼낸 노드에 인접한 노드들을 모두 보면서:\n",
        "  5. 처음 방문한 노드면:\n",
        "    6. 방문한 노드 표시를 해준다\n",
        "    7. 큐에 넣어준다"
      ],
      "metadata": {
        "id": "DcQk9dKRdjdV"
      }
    },
    {
      "cell_type": "code",
      "source": [],
      "metadata": {
        "id": "Fp5JMbk4YIvJ"
      },
      "execution_count": null,
      "outputs": []
    }
  ]
}